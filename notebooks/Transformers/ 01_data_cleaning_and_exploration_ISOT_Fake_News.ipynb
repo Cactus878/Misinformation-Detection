{
 "cells": [
  {
   "cell_type": "markdown",
   "id": "98b94eca-fd45-48a9-a8e1-fa39d057227d",
   "metadata": {},
   "source": [
    "# 1. Install Requirements"
   ]
  },
  {
   "cell_type": "code",
   "execution_count": 1,
   "id": "5da903ca-21ae-41b4-9ae3-29f0f900f0db",
   "metadata": {},
   "outputs": [],
   "source": [
    "import pandas as pd\n",
    "import seaborn as sns\n",
    "import matplotlib.pyplot as plt"
   ]
  },
  {
   "cell_type": "code",
   "execution_count": 2,
   "id": "ac0f4660-6f26-4e60-bf68-1ff84e180211",
   "metadata": {},
   "outputs": [],
   "source": [
    "base_path = \"../../data/ISOT_Fake_News/\"\n",
    "\n",
    "fake_df = pd.read_csv(f\"{base_path}Fake.csv\")\n",
    "true_df   = pd.read_csv(f\"{base_path}True.csv\")"
   ]
  },
  {
   "cell_type": "code",
   "execution_count": 3,
   "id": "e6f513ac-2967-49c6-9f4d-58a4af3c08d9",
   "metadata": {},
   "outputs": [
    {
     "data": {
      "text/html": [
       "<div>\n",
       "<style scoped>\n",
       "    .dataframe tbody tr th:only-of-type {\n",
       "        vertical-align: middle;\n",
       "    }\n",
       "\n",
       "    .dataframe tbody tr th {\n",
       "        vertical-align: top;\n",
       "    }\n",
       "\n",
       "    .dataframe thead th {\n",
       "        text-align: right;\n",
       "    }\n",
       "</style>\n",
       "<table border=\"1\" class=\"dataframe\">\n",
       "  <thead>\n",
       "    <tr style=\"text-align: right;\">\n",
       "      <th></th>\n",
       "      <th>title</th>\n",
       "      <th>text</th>\n",
       "      <th>subject</th>\n",
       "      <th>date</th>\n",
       "    </tr>\n",
       "  </thead>\n",
       "  <tbody>\n",
       "    <tr>\n",
       "      <th>0</th>\n",
       "      <td>Donald Trump Sends Out Embarrassing New Year’...</td>\n",
       "      <td>Donald Trump just couldn t wish all Americans ...</td>\n",
       "      <td>News</td>\n",
       "      <td>December 31, 2017</td>\n",
       "    </tr>\n",
       "    <tr>\n",
       "      <th>1</th>\n",
       "      <td>Drunk Bragging Trump Staffer Started Russian ...</td>\n",
       "      <td>House Intelligence Committee Chairman Devin Nu...</td>\n",
       "      <td>News</td>\n",
       "      <td>December 31, 2017</td>\n",
       "    </tr>\n",
       "    <tr>\n",
       "      <th>2</th>\n",
       "      <td>Sheriff David Clarke Becomes An Internet Joke...</td>\n",
       "      <td>On Friday, it was revealed that former Milwauk...</td>\n",
       "      <td>News</td>\n",
       "      <td>December 30, 2017</td>\n",
       "    </tr>\n",
       "    <tr>\n",
       "      <th>3</th>\n",
       "      <td>Trump Is So Obsessed He Even Has Obama’s Name...</td>\n",
       "      <td>On Christmas day, Donald Trump announced that ...</td>\n",
       "      <td>News</td>\n",
       "      <td>December 29, 2017</td>\n",
       "    </tr>\n",
       "    <tr>\n",
       "      <th>4</th>\n",
       "      <td>Pope Francis Just Called Out Donald Trump Dur...</td>\n",
       "      <td>Pope Francis used his annual Christmas Day mes...</td>\n",
       "      <td>News</td>\n",
       "      <td>December 25, 2017</td>\n",
       "    </tr>\n",
       "  </tbody>\n",
       "</table>\n",
       "</div>"
      ],
      "text/plain": [
       "                                               title  \\\n",
       "0   Donald Trump Sends Out Embarrassing New Year’...   \n",
       "1   Drunk Bragging Trump Staffer Started Russian ...   \n",
       "2   Sheriff David Clarke Becomes An Internet Joke...   \n",
       "3   Trump Is So Obsessed He Even Has Obama’s Name...   \n",
       "4   Pope Francis Just Called Out Donald Trump Dur...   \n",
       "\n",
       "                                                text subject  \\\n",
       "0  Donald Trump just couldn t wish all Americans ...    News   \n",
       "1  House Intelligence Committee Chairman Devin Nu...    News   \n",
       "2  On Friday, it was revealed that former Milwauk...    News   \n",
       "3  On Christmas day, Donald Trump announced that ...    News   \n",
       "4  Pope Francis used his annual Christmas Day mes...    News   \n",
       "\n",
       "                date  \n",
       "0  December 31, 2017  \n",
       "1  December 31, 2017  \n",
       "2  December 30, 2017  \n",
       "3  December 29, 2017  \n",
       "4  December 25, 2017  "
      ]
     },
     "execution_count": 3,
     "metadata": {},
     "output_type": "execute_result"
    }
   ],
   "source": [
    "fake_df.head()"
   ]
  },
  {
   "cell_type": "code",
   "execution_count": 4,
   "id": "3b081169-e626-48a1-8e2f-dd2d9cc1ddc1",
   "metadata": {},
   "outputs": [
    {
     "data": {
      "text/html": [
       "<div>\n",
       "<style scoped>\n",
       "    .dataframe tbody tr th:only-of-type {\n",
       "        vertical-align: middle;\n",
       "    }\n",
       "\n",
       "    .dataframe tbody tr th {\n",
       "        vertical-align: top;\n",
       "    }\n",
       "\n",
       "    .dataframe thead th {\n",
       "        text-align: right;\n",
       "    }\n",
       "</style>\n",
       "<table border=\"1\" class=\"dataframe\">\n",
       "  <thead>\n",
       "    <tr style=\"text-align: right;\">\n",
       "      <th></th>\n",
       "      <th>title</th>\n",
       "      <th>text</th>\n",
       "      <th>subject</th>\n",
       "      <th>date</th>\n",
       "    </tr>\n",
       "  </thead>\n",
       "  <tbody>\n",
       "    <tr>\n",
       "      <th>0</th>\n",
       "      <td>As U.S. budget fight looms, Republicans flip t...</td>\n",
       "      <td>WASHINGTON (Reuters) - The head of a conservat...</td>\n",
       "      <td>politicsNews</td>\n",
       "      <td>December 31, 2017</td>\n",
       "    </tr>\n",
       "    <tr>\n",
       "      <th>1</th>\n",
       "      <td>U.S. military to accept transgender recruits o...</td>\n",
       "      <td>WASHINGTON (Reuters) - Transgender people will...</td>\n",
       "      <td>politicsNews</td>\n",
       "      <td>December 29, 2017</td>\n",
       "    </tr>\n",
       "    <tr>\n",
       "      <th>2</th>\n",
       "      <td>Senior U.S. Republican senator: 'Let Mr. Muell...</td>\n",
       "      <td>WASHINGTON (Reuters) - The special counsel inv...</td>\n",
       "      <td>politicsNews</td>\n",
       "      <td>December 31, 2017</td>\n",
       "    </tr>\n",
       "    <tr>\n",
       "      <th>3</th>\n",
       "      <td>FBI Russia probe helped by Australian diplomat...</td>\n",
       "      <td>WASHINGTON (Reuters) - Trump campaign adviser ...</td>\n",
       "      <td>politicsNews</td>\n",
       "      <td>December 30, 2017</td>\n",
       "    </tr>\n",
       "    <tr>\n",
       "      <th>4</th>\n",
       "      <td>Trump wants Postal Service to charge 'much mor...</td>\n",
       "      <td>SEATTLE/WASHINGTON (Reuters) - President Donal...</td>\n",
       "      <td>politicsNews</td>\n",
       "      <td>December 29, 2017</td>\n",
       "    </tr>\n",
       "  </tbody>\n",
       "</table>\n",
       "</div>"
      ],
      "text/plain": [
       "                                               title  \\\n",
       "0  As U.S. budget fight looms, Republicans flip t...   \n",
       "1  U.S. military to accept transgender recruits o...   \n",
       "2  Senior U.S. Republican senator: 'Let Mr. Muell...   \n",
       "3  FBI Russia probe helped by Australian diplomat...   \n",
       "4  Trump wants Postal Service to charge 'much mor...   \n",
       "\n",
       "                                                text       subject  \\\n",
       "0  WASHINGTON (Reuters) - The head of a conservat...  politicsNews   \n",
       "1  WASHINGTON (Reuters) - Transgender people will...  politicsNews   \n",
       "2  WASHINGTON (Reuters) - The special counsel inv...  politicsNews   \n",
       "3  WASHINGTON (Reuters) - Trump campaign adviser ...  politicsNews   \n",
       "4  SEATTLE/WASHINGTON (Reuters) - President Donal...  politicsNews   \n",
       "\n",
       "                 date  \n",
       "0  December 31, 2017   \n",
       "1  December 29, 2017   \n",
       "2  December 31, 2017   \n",
       "3  December 30, 2017   \n",
       "4  December 29, 2017   "
      ]
     },
     "execution_count": 4,
     "metadata": {},
     "output_type": "execute_result"
    }
   ],
   "source": [
    "true_df.head()"
   ]
  },
  {
   "cell_type": "code",
   "execution_count": 5,
   "id": "235d587a-30cf-4153-b248-c00a7c53ebf7",
   "metadata": {},
   "outputs": [],
   "source": [
    "# Add label column to display what information is fake and what is true\n",
    "true_df['label'] = 1\n",
    "fake_df['label'] = 0"
   ]
  },
  {
   "cell_type": "code",
   "execution_count": 6,
   "id": "4710def2-3541-44ad-a980-03603af5da6d",
   "metadata": {},
   "outputs": [],
   "source": [
    "df = pd.concat([fake_df, true_df]).sample(frac=1)"
   ]
  },
  {
   "cell_type": "code",
   "execution_count": 7,
   "id": "cc7fcc95-513c-450c-ada5-6e83c97e62e1",
   "metadata": {},
   "outputs": [
    {
     "data": {
      "text/html": [
       "<div>\n",
       "<style scoped>\n",
       "    .dataframe tbody tr th:only-of-type {\n",
       "        vertical-align: middle;\n",
       "    }\n",
       "\n",
       "    .dataframe tbody tr th {\n",
       "        vertical-align: top;\n",
       "    }\n",
       "\n",
       "    .dataframe thead th {\n",
       "        text-align: right;\n",
       "    }\n",
       "</style>\n",
       "<table border=\"1\" class=\"dataframe\">\n",
       "  <thead>\n",
       "    <tr style=\"text-align: right;\">\n",
       "      <th></th>\n",
       "      <th>title</th>\n",
       "      <th>text</th>\n",
       "      <th>subject</th>\n",
       "      <th>date</th>\n",
       "      <th>label</th>\n",
       "    </tr>\n",
       "  </thead>\n",
       "  <tbody>\n",
       "    <tr>\n",
       "      <th>9784</th>\n",
       "      <td>NEW VIDEO…ANTIFA Terror Group INFILTRATED…Tran...</td>\n",
       "      <td>Steven Crowder is an amazing and ALWAYS unafra...</td>\n",
       "      <td>politics</td>\n",
       "      <td>Sep 29, 2017</td>\n",
       "      <td>0</td>\n",
       "    </tr>\n",
       "    <tr>\n",
       "      <th>12175</th>\n",
       "      <td>SEE YA MITT! TRUMP Reportedly Chooses Exxon Mo...</td>\n",
       "      <td>The Wall Street Journal reported on Friday tha...</td>\n",
       "      <td>politics</td>\n",
       "      <td>Dec 10, 2016</td>\n",
       "      <td>0</td>\n",
       "    </tr>\n",
       "    <tr>\n",
       "      <th>6397</th>\n",
       "      <td>Internet Trolls Zimmerman, Top Bid Of $65 Mil...</td>\n",
       "      <td>Quick thinking trolls have taken a novel appro...</td>\n",
       "      <td>News</td>\n",
       "      <td>May 13, 2016</td>\n",
       "      <td>0</td>\n",
       "    </tr>\n",
       "    <tr>\n",
       "      <th>22336</th>\n",
       "      <td>WAR ON WORDS: Facebook Censorship Widens, Webs...</td>\n",
       "      <td>21st Century Wire says The US media s neoMcCar...</td>\n",
       "      <td>US_News</td>\n",
       "      <td>December 3, 2016</td>\n",
       "      <td>0</td>\n",
       "    </tr>\n",
       "    <tr>\n",
       "      <th>15859</th>\n",
       "      <td>Spanish prosecutor asks judge to jail Catalan ...</td>\n",
       "      <td>MADRID (Reuters) - Spain s state prosecutor on...</td>\n",
       "      <td>worldnews</td>\n",
       "      <td>November 2, 2017</td>\n",
       "      <td>1</td>\n",
       "    </tr>\n",
       "    <tr>\n",
       "      <th>...</th>\n",
       "      <td>...</td>\n",
       "      <td>...</td>\n",
       "      <td>...</td>\n",
       "      <td>...</td>\n",
       "      <td>...</td>\n",
       "    </tr>\n",
       "    <tr>\n",
       "      <th>22708</th>\n",
       "      <td>The Jerusalem Decision: From Creative Chaos to...</td>\n",
       "      <td>Dr Can Erimtan 21st Century WireDid Donald J....</td>\n",
       "      <td>Middle-east</td>\n",
       "      <td>December 28, 2017</td>\n",
       "      <td>0</td>\n",
       "    </tr>\n",
       "    <tr>\n",
       "      <th>10796</th>\n",
       "      <td>TRIGGERED! FORMER CIA AGENT: ‘Trey Gowdy Ought...</td>\n",
       "      <td>Former CIA Agent Phil Mudd is a jackwagon! He ...</td>\n",
       "      <td>politics</td>\n",
       "      <td>May 24, 2017</td>\n",
       "      <td>0</td>\n",
       "    </tr>\n",
       "    <tr>\n",
       "      <th>22945</th>\n",
       "      <td>Secret Service Laptop Reportedly ‘Stolen’ had ...</td>\n",
       "      <td>21st Century Wire says A laptop was reportedly...</td>\n",
       "      <td>Middle-east</td>\n",
       "      <td>March 17, 2017</td>\n",
       "      <td>0</td>\n",
       "    </tr>\n",
       "    <tr>\n",
       "      <th>21487</th>\n",
       "      <td>FLASHBACK: UNCOVERED VIDEO SHOWS HYPOCRITE HAR...</td>\n",
       "      <td>In 1993 Harry Reid wrote the Immigration Stabi...</td>\n",
       "      <td>left-news</td>\n",
       "      <td>Aug 23, 2015</td>\n",
       "      <td>0</td>\n",
       "    </tr>\n",
       "    <tr>\n",
       "      <th>11817</th>\n",
       "      <td>Two Kosovo men plea guilty of plotting to atta...</td>\n",
       "      <td>PRISTINA (Reuters) - Two Kosovo men pleaded gu...</td>\n",
       "      <td>worldnews</td>\n",
       "      <td>December 20, 2017</td>\n",
       "      <td>1</td>\n",
       "    </tr>\n",
       "  </tbody>\n",
       "</table>\n",
       "<p>44898 rows × 5 columns</p>\n",
       "</div>"
      ],
      "text/plain": [
       "                                                   title  \\\n",
       "9784   NEW VIDEO…ANTIFA Terror Group INFILTRATED…Tran...   \n",
       "12175  SEE YA MITT! TRUMP Reportedly Chooses Exxon Mo...   \n",
       "6397    Internet Trolls Zimmerman, Top Bid Of $65 Mil...   \n",
       "22336  WAR ON WORDS: Facebook Censorship Widens, Webs...   \n",
       "15859  Spanish prosecutor asks judge to jail Catalan ...   \n",
       "...                                                  ...   \n",
       "22708  The Jerusalem Decision: From Creative Chaos to...   \n",
       "10796  TRIGGERED! FORMER CIA AGENT: ‘Trey Gowdy Ought...   \n",
       "22945  Secret Service Laptop Reportedly ‘Stolen’ had ...   \n",
       "21487  FLASHBACK: UNCOVERED VIDEO SHOWS HYPOCRITE HAR...   \n",
       "11817  Two Kosovo men plea guilty of plotting to atta...   \n",
       "\n",
       "                                                    text      subject  \\\n",
       "9784   Steven Crowder is an amazing and ALWAYS unafra...     politics   \n",
       "12175  The Wall Street Journal reported on Friday tha...     politics   \n",
       "6397   Quick thinking trolls have taken a novel appro...         News   \n",
       "22336  21st Century Wire says The US media s neoMcCar...      US_News   \n",
       "15859  MADRID (Reuters) - Spain s state prosecutor on...    worldnews   \n",
       "...                                                  ...          ...   \n",
       "22708   Dr Can Erimtan 21st Century WireDid Donald J....  Middle-east   \n",
       "10796  Former CIA Agent Phil Mudd is a jackwagon! He ...     politics   \n",
       "22945  21st Century Wire says A laptop was reportedly...  Middle-east   \n",
       "21487  In 1993 Harry Reid wrote the Immigration Stabi...    left-news   \n",
       "11817  PRISTINA (Reuters) - Two Kosovo men pleaded gu...    worldnews   \n",
       "\n",
       "                     date  label  \n",
       "9784         Sep 29, 2017      0  \n",
       "12175        Dec 10, 2016      0  \n",
       "6397         May 13, 2016      0  \n",
       "22336    December 3, 2016      0  \n",
       "15859   November 2, 2017       1  \n",
       "...                   ...    ...  \n",
       "22708   December 28, 2017      0  \n",
       "10796        May 24, 2017      0  \n",
       "22945      March 17, 2017      0  \n",
       "21487        Aug 23, 2015      0  \n",
       "11817  December 20, 2017       1  \n",
       "\n",
       "[44898 rows x 5 columns]"
      ]
     },
     "execution_count": 7,
     "metadata": {},
     "output_type": "execute_result"
    }
   ],
   "source": [
    "df"
   ]
  },
  {
   "cell_type": "code",
   "execution_count": 8,
   "id": "5b5443c8-a048-417e-a801-e28e9aee6d69",
   "metadata": {},
   "outputs": [
    {
     "data": {
      "text/plain": [
       "Index(['title', 'text', 'subject', 'date', 'label'], dtype='object')"
      ]
     },
     "execution_count": 8,
     "metadata": {},
     "output_type": "execute_result"
    }
   ],
   "source": [
    "df.columns"
   ]
  },
  {
   "cell_type": "code",
   "execution_count": 9,
   "id": "807138c8-b14c-42cc-b60a-b57c5062632f",
   "metadata": {},
   "outputs": [
    {
     "data": {
      "text/plain": [
       "<Axes: ylabel='subject'>"
      ]
     },
     "execution_count": 9,
     "metadata": {},
     "output_type": "execute_result"
    },
    {
     "data": {
      "image/png": "[encoded data removed]",
      "text/plain": [
       "<Figure size 640x480 with 1 Axes>"
      ]
     },
     "metadata": {},
     "output_type": "display_data"
    }
   ],
   "source": [
    "sns.barplot(df['subject'], legend=False)"
   ]
  },
  {
   "cell_type": "code",
   "execution_count": 10,
   "id": "6a3be113-9fc4-43c6-9acc-899da7a1712d",
   "metadata": {},
   "outputs": [
    {
     "data": {
      "text/html": [
       "<div>\n",
       "<style scoped>\n",
       "    .dataframe tbody tr th:only-of-type {\n",
       "        vertical-align: middle;\n",
       "    }\n",
       "\n",
       "    .dataframe tbody tr th {\n",
       "        vertical-align: top;\n",
       "    }\n",
       "\n",
       "    .dataframe thead th {\n",
       "        text-align: right;\n",
       "    }\n",
       "</style>\n",
       "<table border=\"1\" class=\"dataframe\">\n",
       "  <thead>\n",
       "    <tr style=\"text-align: right;\">\n",
       "      <th></th>\n",
       "      <th>subject</th>\n",
       "      <th>label</th>\n",
       "      <th>count</th>\n",
       "    </tr>\n",
       "  </thead>\n",
       "  <tbody>\n",
       "    <tr>\n",
       "      <th>0</th>\n",
       "      <td>Government News</td>\n",
       "      <td>0</td>\n",
       "      <td>1570</td>\n",
       "    </tr>\n",
       "    <tr>\n",
       "      <th>1</th>\n",
       "      <td>Middle-east</td>\n",
       "      <td>0</td>\n",
       "      <td>778</td>\n",
       "    </tr>\n",
       "    <tr>\n",
       "      <th>2</th>\n",
       "      <td>News</td>\n",
       "      <td>0</td>\n",
       "      <td>9050</td>\n",
       "    </tr>\n",
       "    <tr>\n",
       "      <th>3</th>\n",
       "      <td>US_News</td>\n",
       "      <td>0</td>\n",
       "      <td>783</td>\n",
       "    </tr>\n",
       "    <tr>\n",
       "      <th>4</th>\n",
       "      <td>left-news</td>\n",
       "      <td>0</td>\n",
       "      <td>4459</td>\n",
       "    </tr>\n",
       "    <tr>\n",
       "      <th>5</th>\n",
       "      <td>politics</td>\n",
       "      <td>0</td>\n",
       "      <td>6841</td>\n",
       "    </tr>\n",
       "    <tr>\n",
       "      <th>6</th>\n",
       "      <td>politicsNews</td>\n",
       "      <td>1</td>\n",
       "      <td>11272</td>\n",
       "    </tr>\n",
       "    <tr>\n",
       "      <th>7</th>\n",
       "      <td>worldnews</td>\n",
       "      <td>1</td>\n",
       "      <td>10145</td>\n",
       "    </tr>\n",
       "  </tbody>\n",
       "</table>\n",
       "</div>"
      ],
      "text/plain": [
       "           subject  label  count\n",
       "0  Government News      0   1570\n",
       "1      Middle-east      0    778\n",
       "2             News      0   9050\n",
       "3          US_News      0    783\n",
       "4        left-news      0   4459\n",
       "5         politics      0   6841\n",
       "6     politicsNews      1  11272\n",
       "7        worldnews      1  10145"
      ]
     },
     "execution_count": 10,
     "metadata": {},
     "output_type": "execute_result"
    }
   ],
   "source": [
    "group = df.groupby(['subject', 'label']).size().reset_index(name='count')\n",
    "group"
   ]
  },
  {
   "cell_type": "code",
   "execution_count": 11,
   "id": "b0805b97-62d9-4e2f-8a1a-73a4294351a1",
   "metadata": {},
   "outputs": [
    {
     "data": {
      "image/png": "[encoded data removed]",
      "text/plain": [
       "<Figure size 1000x600 with 1 Axes>"
      ]
     },
     "metadata": {},
     "output_type": "display_data"
    }
   ],
   "source": [
    "plt.figure(figsize=(10, 6))\n",
    "sns.barplot(group, x='subject', y='count', hue='label')\n",
    "plt.show()"
   ]
  },
  {
   "cell_type": "markdown",
   "id": "1c9140de-1b96-4922-a3af-e96254400ab2",
   "metadata": {},
   "source": [
    "## Remove/Fix The Unneeded\n",
    "### 1. Get rid of unneeded columns"
   ]
  },
  {
   "cell_type": "code",
   "execution_count": 13,
   "id": "3a8832cf-58d7-4d3c-9107-6c752b8f0e1c",
   "metadata": {},
   "outputs": [],
   "source": [
    "df.drop(columns=['title', 'subject', 'date'], inplace=True)"
   ]
  },
  {
   "cell_type": "code",
   "execution_count": 14,
   "id": "3f3a8c02-a208-4310-9dcd-5dfb17a543ae",
   "metadata": {},
   "outputs": [
    {
     "data": {
      "text/html": [
       "<div>\n",
       "<style scoped>\n",
       "    .dataframe tbody tr th:only-of-type {\n",
       "        vertical-align: middle;\n",
       "    }\n",
       "\n",
       "    .dataframe tbody tr th {\n",
       "        vertical-align: top;\n",
       "    }\n",
       "\n",
       "    .dataframe thead th {\n",
       "        text-align: right;\n",
       "    }\n",
       "</style>\n",
       "<table border=\"1\" class=\"dataframe\">\n",
       "  <thead>\n",
       "    <tr style=\"text-align: right;\">\n",
       "      <th></th>\n",
       "      <th>text</th>\n",
       "      <th>label</th>\n",
       "    </tr>\n",
       "  </thead>\n",
       "  <tbody>\n",
       "    <tr>\n",
       "      <th>9784</th>\n",
       "      <td>Steven Crowder is an amazing and ALWAYS unafra...</td>\n",
       "      <td>0</td>\n",
       "    </tr>\n",
       "    <tr>\n",
       "      <th>12175</th>\n",
       "      <td>The Wall Street Journal reported on Friday tha...</td>\n",
       "      <td>0</td>\n",
       "    </tr>\n",
       "    <tr>\n",
       "      <th>6397</th>\n",
       "      <td>Quick thinking trolls have taken a novel appro...</td>\n",
       "      <td>0</td>\n",
       "    </tr>\n",
       "    <tr>\n",
       "      <th>22336</th>\n",
       "      <td>21st Century Wire says The US media s neoMcCar...</td>\n",
       "      <td>0</td>\n",
       "    </tr>\n",
       "    <tr>\n",
       "      <th>15859</th>\n",
       "      <td>MADRID (Reuters) - Spain s state prosecutor on...</td>\n",
       "      <td>1</td>\n",
       "    </tr>\n",
       "    <tr>\n",
       "      <th>...</th>\n",
       "      <td>...</td>\n",
       "      <td>...</td>\n",
       "    </tr>\n",
       "    <tr>\n",
       "      <th>22708</th>\n",
       "      <td>Dr Can Erimtan 21st Century WireDid Donald J....</td>\n",
       "      <td>0</td>\n",
       "    </tr>\n",
       "    <tr>\n",
       "      <th>10796</th>\n",
       "      <td>Former CIA Agent Phil Mudd is a jackwagon! He ...</td>\n",
       "      <td>0</td>\n",
       "    </tr>\n",
       "    <tr>\n",
       "      <th>22945</th>\n",
       "      <td>21st Century Wire says A laptop was reportedly...</td>\n",
       "      <td>0</td>\n",
       "    </tr>\n",
       "    <tr>\n",
       "      <th>21487</th>\n",
       "      <td>In 1993 Harry Reid wrote the Immigration Stabi...</td>\n",
       "      <td>0</td>\n",
       "    </tr>\n",
       "    <tr>\n",
       "      <th>11817</th>\n",
       "      <td>PRISTINA (Reuters) - Two Kosovo men pleaded gu...</td>\n",
       "      <td>1</td>\n",
       "    </tr>\n",
       "  </tbody>\n",
       "</table>\n",
       "<p>44898 rows × 2 columns</p>\n",
       "</div>"
      ],
      "text/plain": [
       "                                                    text  label\n",
       "9784   Steven Crowder is an amazing and ALWAYS unafra...      0\n",
       "12175  The Wall Street Journal reported on Friday tha...      0\n",
       "6397   Quick thinking trolls have taken a novel appro...      0\n",
       "22336  21st Century Wire says The US media s neoMcCar...      0\n",
       "15859  MADRID (Reuters) - Spain s state prosecutor on...      1\n",
       "...                                                  ...    ...\n",
       "22708   Dr Can Erimtan 21st Century WireDid Donald J....      0\n",
       "10796  Former CIA Agent Phil Mudd is a jackwagon! He ...      0\n",
       "22945  21st Century Wire says A laptop was reportedly...      0\n",
       "21487  In 1993 Harry Reid wrote the Immigration Stabi...      0\n",
       "11817  PRISTINA (Reuters) - Two Kosovo men pleaded gu...      1\n",
       "\n",
       "[44898 rows x 2 columns]"
      ]
     },
     "execution_count": 14,
     "metadata": {},
     "output_type": "execute_result"
    }
   ],
   "source": [
    "df"
   ]
  },
  {
   "cell_type": "markdown",
   "id": "0f874a03-b259-4dfa-ad7a-5020ba251aba",
   "metadata": {},
   "source": [
    "### 2. Get rid of duplications"
   ]
  },
  {
   "cell_type": "code",
   "execution_count": 16,
   "id": "855ecb08-c009-4c54-aa20-8d1ad98298db",
   "metadata": {},
   "outputs": [
    {
     "data": {
      "text/plain": [
       "6251"
      ]
     },
     "execution_count": 16,
     "metadata": {},
     "output_type": "execute_result"
    }
   ],
   "source": [
    "# Check any duplications\n",
    "df.duplicated().sum()"
   ]
  },
  {
   "cell_type": "code",
   "execution_count": 17,
   "id": "701b4b15-c586-42c9-9621-c0692197bd69",
   "metadata": {},
   "outputs": [],
   "source": [
    "df.drop_duplicates(inplace=True)"
   ]
  },
  {
   "cell_type": "code",
   "execution_count": 18,
   "id": "f7e6f3a0-e82f-4b1d-94aa-f995a842e114",
   "metadata": {},
   "outputs": [
    {
     "data": {
      "text/plain": [
       "0"
      ]
     },
     "execution_count": 18,
     "metadata": {},
     "output_type": "execute_result"
    }
   ],
   "source": [
    "df.duplicated().sum()"
   ]
  },
  {
   "cell_type": "markdown",
   "id": "000403ed-1151-46ea-8c83-00a060052e12",
   "metadata": {},
   "source": [
    "## Text Cleaning\n",
    "### 1. Remove HTML in texts"
   ]
  },
  {
   "cell_type": "code",
   "execution_count": 42,
   "id": "d4a2e07d-9f56-4453-bd19-9d1a35594864",
   "metadata": {},
   "outputs": [
    {
     "name": "stderr",
     "output_type": "stream",
     "text": [
      "C:\\Users\\yanni\\AppData\\Local\\Temp\\ipykernel_37296\\1097152562.py:2: MarkupResemblesLocatorWarning: The input looks more like a URL than markup. You may want to use an HTTP client like requests to get the document behind the URL, and feed that document to Beautiful Soup.\n",
      "  has_html = df[df['text'].apply(lambda x: bool(BeautifulSoup(x, \"html.parser\").find()))]\n",
      "C:\\Users\\yanni\\AppData\\Local\\Temp\\ipykernel_37296\\1097152562.py:2: MarkupResemblesLocatorWarning: The input looks more like a filename than markup. You may want to open this file and pass the filehandle into Beautiful Soup.\n",
      "  has_html = df[df['text'].apply(lambda x: bool(BeautifulSoup(x, \"html.parser\").find()))]\n"
     ]
    }
   ],
   "source": [
    "from bs4 import BeautifulSoup\n",
    "has_html = df[df['text'].apply(lambda x: bool(BeautifulSoup(x, \"html.parser\").find()))]"
   ]
  },
  {
   "cell_type": "code",
   "execution_count": 43,
   "id": "8a99e75c-ed7d-42b4-9318-eae18db58087",
   "metadata": {},
   "outputs": [
    {
     "data": {
      "text/html": [
       "<div>\n",
       "<style scoped>\n",
       "    .dataframe tbody tr th:only-of-type {\n",
       "        vertical-align: middle;\n",
       "    }\n",
       "\n",
       "    .dataframe tbody tr th {\n",
       "        vertical-align: top;\n",
       "    }\n",
       "\n",
       "    .dataframe thead th {\n",
       "        text-align: right;\n",
       "    }\n",
       "</style>\n",
       "<table border=\"1\" class=\"dataframe\">\n",
       "  <thead>\n",
       "    <tr style=\"text-align: right;\">\n",
       "      <th></th>\n",
       "      <th>text</th>\n",
       "      <th>label</th>\n",
       "    </tr>\n",
       "  </thead>\n",
       "  <tbody>\n",
       "    <tr>\n",
       "      <th>2597</th>\n",
       "      <td>On Thursday, Donald Trump was devastated after...</td>\n",
       "      <td>0</td>\n",
       "    </tr>\n",
       "    <tr>\n",
       "      <th>21856</th>\n",
       "      <td>Meet Keegan Stephan. He could be Barack Obama ...</td>\n",
       "      <td>0</td>\n",
       "    </tr>\n",
       "    <tr>\n",
       "      <th>10008</th>\n",
       "      <td>WASHINGTON (Reuters) - The U.S. State Departme...</td>\n",
       "      <td>1</td>\n",
       "    </tr>\n",
       "    <tr>\n",
       "      <th>18898</th>\n",
       "      <td>To say the leftists in the media are completel...</td>\n",
       "      <td>0</td>\n",
       "    </tr>\n",
       "    <tr>\n",
       "      <th>17983</th>\n",
       "      <td>Hillary was in the middle of a book signing fo...</td>\n",
       "      <td>0</td>\n",
       "    </tr>\n",
       "    <tr>\n",
       "      <th>10630</th>\n",
       "      <td>Today s testimony between AG Sessions and Sena...</td>\n",
       "      <td>0</td>\n",
       "    </tr>\n",
       "    <tr>\n",
       "      <th>15881</th>\n",
       "      <td>There are just way too many wannabe male and f...</td>\n",
       "      <td>0</td>\n",
       "    </tr>\n",
       "    <tr>\n",
       "      <th>7602</th>\n",
       "      <td>Donald Trump s campaign has hit a new low   as...</td>\n",
       "      <td>0</td>\n",
       "    </tr>\n",
       "    <tr>\n",
       "      <th>21720</th>\n",
       "      <td>My success in the financial markets has given...</td>\n",
       "      <td>0</td>\n",
       "    </tr>\n",
       "    <tr>\n",
       "      <th>8481</th>\n",
       "      <td>Rarely in life do you see people go so perfect...</td>\n",
       "      <td>0</td>\n",
       "    </tr>\n",
       "    <tr>\n",
       "      <th>16857</th>\n",
       "      <td>The mother of the 19 year old immigrant blames...</td>\n",
       "      <td>0</td>\n",
       "    </tr>\n",
       "    <tr>\n",
       "      <th>8162</th>\n",
       "      <td>Some companies definitely prefer increased pro...</td>\n",
       "      <td>0</td>\n",
       "    </tr>\n",
       "    <tr>\n",
       "      <th>1153</th>\n",
       "      <td>Donald Trump went on a whining rant about the ...</td>\n",
       "      <td>0</td>\n",
       "    </tr>\n",
       "    <tr>\n",
       "      <th>7869</th>\n",
       "      <td>Seldom in life do you come across someone so d...</td>\n",
       "      <td>0</td>\n",
       "    </tr>\n",
       "    <tr>\n",
       "      <th>7715</th>\n",
       "      <td>I ve been saying for a long time now that the ...</td>\n",
       "      <td>0</td>\n",
       "    </tr>\n",
       "    <tr>\n",
       "      <th>7968</th>\n",
       "      <td>Anyone who has read the Bible knows that that ...</td>\n",
       "      <td>0</td>\n",
       "    </tr>\n",
       "    <tr>\n",
       "      <th>5809</th>\n",
       "      <td>WASHINGTON/LOS ANGELES (Reuters) - U.S. Presid...</td>\n",
       "      <td>1</td>\n",
       "    </tr>\n",
       "    <tr>\n",
       "      <th>9084</th>\n",
       "      <td>We ve been covering the curious case of DOJ of...</td>\n",
       "      <td>0</td>\n",
       "    </tr>\n",
       "    <tr>\n",
       "      <th>9071</th>\n",
       "      <td>Tucker Carlson weighed in on the hysteria over...</td>\n",
       "      <td>0</td>\n",
       "    </tr>\n",
       "    <tr>\n",
       "      <th>7576</th>\n",
       "      <td>WASHINGTON (Reuters) - Republican presidential...</td>\n",
       "      <td>1</td>\n",
       "    </tr>\n",
       "    <tr>\n",
       "      <th>18840</th>\n",
       "      <td>In case you haven t heard, a man was assaulted...</td>\n",
       "      <td>0</td>\n",
       "    </tr>\n",
       "    <tr>\n",
       "      <th>4839</th>\n",
       "      <td>This is so horribly amazing that it defies des...</td>\n",
       "      <td>0</td>\n",
       "    </tr>\n",
       "    <tr>\n",
       "      <th>8784</th>\n",
       "      <td>Sometimes in life, with all the negativity tha...</td>\n",
       "      <td>0</td>\n",
       "    </tr>\n",
       "    <tr>\n",
       "      <th>20645</th>\n",
       "      <td>SHOCKING FACT: One-fifth of the entire populat...</td>\n",
       "      <td>0</td>\n",
       "    </tr>\n",
       "    <tr>\n",
       "      <th>4122</th>\n",
       "      <td>Hours before the third and final presidential ...</td>\n",
       "      <td>0</td>\n",
       "    </tr>\n",
       "    <tr>\n",
       "      <th>7056</th>\n",
       "      <td>When approached by countless people if I m a H...</td>\n",
       "      <td>0</td>\n",
       "    </tr>\n",
       "    <tr>\n",
       "      <th>6612</th>\n",
       "      <td>How many times more are we going to get to say...</td>\n",
       "      <td>0</td>\n",
       "    </tr>\n",
       "    <tr>\n",
       "      <th>9838</th>\n",
       "      <td>Any agreement or disagreement with a presiden...</td>\n",
       "      <td>0</td>\n",
       "    </tr>\n",
       "    <tr>\n",
       "      <th>7814</th>\n",
       "      <td>Not holding back one bit after her absolute vi...</td>\n",
       "      <td>0</td>\n",
       "    </tr>\n",
       "    <tr>\n",
       "      <th>7675</th>\n",
       "      <td>Today, Senator Bernie Sanders released a new c...</td>\n",
       "      <td>0</td>\n",
       "    </tr>\n",
       "    <tr>\n",
       "      <th>8527</th>\n",
       "      <td>Donald Rumsfeld is in full damage control mode...</td>\n",
       "      <td>0</td>\n",
       "    </tr>\n",
       "    <tr>\n",
       "      <th>8295</th>\n",
       "      <td>On January 16, President Obama declared a fede...</td>\n",
       "      <td>0</td>\n",
       "    </tr>\n",
       "  </tbody>\n",
       "</table>\n",
       "</div>"
      ],
      "text/plain": [
       "                                                    text  label\n",
       "2597   On Thursday, Donald Trump was devastated after...      0\n",
       "21856  Meet Keegan Stephan. He could be Barack Obama ...      0\n",
       "10008  WASHINGTON (Reuters) - The U.S. State Departme...      1\n",
       "18898  To say the leftists in the media are completel...      0\n",
       "17983  Hillary was in the middle of a book signing fo...      0\n",
       "10630  Today s testimony between AG Sessions and Sena...      0\n",
       "15881  There are just way too many wannabe male and f...      0\n",
       "7602   Donald Trump s campaign has hit a new low   as...      0\n",
       "21720   My success in the financial markets has given...      0\n",
       "8481   Rarely in life do you see people go so perfect...      0\n",
       "16857  The mother of the 19 year old immigrant blames...      0\n",
       "8162   Some companies definitely prefer increased pro...      0\n",
       "1153   Donald Trump went on a whining rant about the ...      0\n",
       "7869   Seldom in life do you come across someone so d...      0\n",
       "7715   I ve been saying for a long time now that the ...      0\n",
       "7968   Anyone who has read the Bible knows that that ...      0\n",
       "5809   WASHINGTON/LOS ANGELES (Reuters) - U.S. Presid...      1\n",
       "9084   We ve been covering the curious case of DOJ of...      0\n",
       "9071   Tucker Carlson weighed in on the hysteria over...      0\n",
       "7576   WASHINGTON (Reuters) - Republican presidential...      1\n",
       "18840  In case you haven t heard, a man was assaulted...      0\n",
       "4839   This is so horribly amazing that it defies des...      0\n",
       "8784   Sometimes in life, with all the negativity tha...      0\n",
       "20645  SHOCKING FACT: One-fifth of the entire populat...      0\n",
       "4122   Hours before the third and final presidential ...      0\n",
       "7056   When approached by countless people if I m a H...      0\n",
       "6612   How many times more are we going to get to say...      0\n",
       "9838    Any agreement or disagreement with a presiden...      0\n",
       "7814   Not holding back one bit after her absolute vi...      0\n",
       "7675   Today, Senator Bernie Sanders released a new c...      0\n",
       "8527   Donald Rumsfeld is in full damage control mode...      0\n",
       "8295   On January 16, President Obama declared a fede...      0"
      ]
     },
     "execution_count": 43,
     "metadata": {},
     "output_type": "execute_result"
    }
   ],
   "source": [
    "has_html"
   ]
  },
  {
   "cell_type": "code",
   "execution_count": 44,
   "id": "6bee8a7e-57c1-43e4-9725-e2cd4fa125c1",
   "metadata": {},
   "outputs": [
    {
     "data": {
      "text/plain": [
       "'NAIROBI (Reuters) - Kenya opposition leader Raila Odinga urged supporters to boycott Thursday s repeat presidential election and persuade their friends to do the same, saying his opposition movement would be transformed into a resistance movement against the government.   From today we are transforming the NASA coalition into a resistance movement,  he told a cheering crowd of thousands of people in Uhuru Park in the capital of Nairobi. He wants new elections held within 90 days, he said.  '"
      ]
     },
     "execution_count": 44,
     "metadata": {},
     "output_type": "execute_result"
    }
   ],
   "source": [
    "df.iloc[2597]['text']"
   ]
  },
  {
   "cell_type": "code",
   "execution_count": 45,
   "id": "b7d748f4-d847-46db-8900-35d6fc684f2f",
   "metadata": {},
   "outputs": [],
   "source": [
    "import re\n",
    "def cleanHTML(text):\n",
    "    # Use beautifulSoup to remove simple HTML code\n",
    "    text = BeautifulSoup(text, \"html.parser\").get_text()\n",
    "    # HTML like < /script> slip past BeautifulSoup seen on df.iloc[1153]['text']\n",
    "    regex = re.compile('<[^>]+>')\n",
    "    text = regex.sub('', text)\n",
    "    return text"
   ]
  },
  {
   "cell_type": "code",
   "execution_count": 46,
   "id": "71e75c36-786a-4a91-b024-5374072fd9c9",
   "metadata": {},
   "outputs": [
    {
     "name": "stderr",
     "output_type": "stream",
     "text": [
      "C:\\Users\\yanni\\AppData\\Local\\Temp\\ipykernel_37296\\3494864991.py:4: MarkupResemblesLocatorWarning: The input looks more like a URL than markup. You may want to use an HTTP client like requests to get the document behind the URL, and feed that document to Beautiful Soup.\n",
      "  text = BeautifulSoup(text, \"html.parser\").get_text()\n",
      "C:\\Users\\yanni\\AppData\\Local\\Temp\\ipykernel_37296\\3494864991.py:4: MarkupResemblesLocatorWarning: The input looks more like a filename than markup. You may want to open this file and pass the filehandle into Beautiful Soup.\n",
      "  text = BeautifulSoup(text, \"html.parser\").get_text()\n"
     ]
    }
   ],
   "source": [
    "df['text'] = df.apply(lambda x: cleanHTML(x['text']), axis=1)"
   ]
  },
  {
   "cell_type": "code",
   "execution_count": 47,
   "id": "9018ebdb-8316-470b-bb80-a210ad2727f1",
   "metadata": {},
   "outputs": [
    {
     "data": {
      "text/plain": [
       "'Jon Ritzheimer, infamous right-wing terrorist and incredible douchebag, barely squeaks by on his government disability check and has said that he is  thankful to have a wife who works.  As it turns out, experts tell us that this guy who spends his days fighting imaginary battles and sucking up a good man s oxygen isn t the exception to the demographics that make up a right-wing terrorist militia, he s the definition. These guys are broke,  said Mark Pitcavage, who has been researching far-right movements for 22 years and has studied the Harney County occupiers.  Right-wing extremists, generally speaking, have very little money. How a right-wing extremist occupation like the one in Oregon would pay for itself isn t exactly an issue there s been a lot of data on. By referencing the research of people like Pitcavage, we can deduce that right-wing extremists are for the most part freeloaders, likened to teenagers who think they can take care of themselves but overwhelmed the first time they have to pay a bill or do a load of laundry. It s quite possible that a lot of them will get tired and feel the pressure to go back and care for their families,  Pitcavage explained. Those families, left behind to care for themselves, are probably better off without their  patriarch,  the almighty man who controls everything and can make the decision to just pack up and leave on a whim to occupy a forest a thousand miles away that they ve never heard of before last week.Daryl Johnson, a former DHS domestic terrorism analyst, says militia members have a warped sense of priority where their duty  is concerned. A video released by Ritzheimer showed him crying that he would probably be killed and how much he would miss his family just before he held up a copy of the Constitution and declared  But I took an oath. They ll think nothing about taking half their paycheck and using half of it to buy ammunition and guns,  Johnson told The Oregonian.The gist here is that these idiots aren t just the worst the American gene pool has to offer, they re also incredible assholes who are neglecting their families to go play soldier in the Oregon wilderness. They re holed up in a facility they didn t pay to be at, squeezing the taxpayer for their utilities and costing tens if not hundreds of thousands more in wages paid to employees who can t go to work.The sooner these imbeciles are removed and incarcerated the better off the country   and their families   will be.Featured image via thetruthaboutguns.com'"
      ]
     },
     "execution_count": 47,
     "metadata": {},
     "output_type": "execute_result"
    }
   ],
   "source": [
    "df.iloc[1153]['text']"
   ]
  },
  {
   "cell_type": "markdown",
   "id": "3dd34922-7247-47bb-9e25-9d581f45072e",
   "metadata": {},
   "source": [
    "### 2. Remove @ in texts"
   ]
  },
  {
   "cell_type": "code",
   "execution_count": 49,
   "id": "0a75b767-ed52-419f-9b93-0d09d69fe920",
   "metadata": {},
   "outputs": [
    {
     "name": "stderr",
     "output_type": "stream",
     "text": [
      "<>:3: SyntaxWarning: invalid escape sequence '\\('\n",
      "<>:3: SyntaxWarning: invalid escape sequence '\\('\n",
      "C:\\Users\\yanni\\AppData\\Local\\Temp\\ipykernel_37296\\104128625.py:3: SyntaxWarning: invalid escape sequence '\\('\n",
      "  regex = re.compile('\\(@\\w+\\)')\n"
     ]
    }
   ],
   "source": [
    "def cleanAts(text):\n",
    "    # Remove (@name) \n",
    "    regex = re.compile('\\(@\\w+\\)')\n",
    "    text = regex.sub('', text)\n",
    "    return text"
   ]
  },
  {
   "cell_type": "code",
   "execution_count": 50,
   "id": "c781876f-8bd7-459d-a3ba-fb58e939321f",
   "metadata": {},
   "outputs": [],
   "source": [
    "df['text'] = df.apply(lambda x: cleanAts(x['text']), axis=1)"
   ]
  },
  {
   "cell_type": "code",
   "execution_count": 51,
   "id": "a2dfdd46-ba04-4bbf-919d-7866d57b5b27",
   "metadata": {},
   "outputs": [
    {
     "data": {
      "text/plain": [
       "'Jon Ritzheimer, infamous right-wing terrorist and incredible douchebag, barely squeaks by on his government disability check and has said that he is  thankful to have a wife who works.  As it turns out, experts tell us that this guy who spends his days fighting imaginary battles and sucking up a good man s oxygen isn t the exception to the demographics that make up a right-wing terrorist militia, he s the definition. These guys are broke,  said Mark Pitcavage, who has been researching far-right movements for 22 years and has studied the Harney County occupiers.  Right-wing extremists, generally speaking, have very little money. How a right-wing extremist occupation like the one in Oregon would pay for itself isn t exactly an issue there s been a lot of data on. By referencing the research of people like Pitcavage, we can deduce that right-wing extremists are for the most part freeloaders, likened to teenagers who think they can take care of themselves but overwhelmed the first time they have to pay a bill or do a load of laundry. It s quite possible that a lot of them will get tired and feel the pressure to go back and care for their families,  Pitcavage explained. Those families, left behind to care for themselves, are probably better off without their  patriarch,  the almighty man who controls everything and can make the decision to just pack up and leave on a whim to occupy a forest a thousand miles away that they ve never heard of before last week.Daryl Johnson, a former DHS domestic terrorism analyst, says militia members have a warped sense of priority where their duty  is concerned. A video released by Ritzheimer showed him crying that he would probably be killed and how much he would miss his family just before he held up a copy of the Constitution and declared  But I took an oath. They ll think nothing about taking half their paycheck and using half of it to buy ammunition and guns,  Johnson told The Oregonian.The gist here is that these idiots aren t just the worst the American gene pool has to offer, they re also incredible assholes who are neglecting their families to go play soldier in the Oregon wilderness. They re holed up in a facility they didn t pay to be at, squeezing the taxpayer for their utilities and costing tens if not hundreds of thousands more in wages paid to employees who can t go to work.The sooner these imbeciles are removed and incarcerated the better off the country   and their families   will be.Featured image via thetruthaboutguns.com'"
      ]
     },
     "execution_count": 51,
     "metadata": {},
     "output_type": "execute_result"
    }
   ],
   "source": [
    "df.iloc[1153]['text']"
   ]
  },
  {
   "cell_type": "markdown",
   "id": "6e4af310-6b16-45ca-b746-6973a5aca0c0",
   "metadata": {},
   "source": [
    "### 3. Remove URL and Pictures in texts"
   ]
  },
  {
   "cell_type": "code",
   "execution_count": 53,
   "id": "4e41a320-d850-4262-8531-6a1e3d9eaad6",
   "metadata": {},
   "outputs": [
    {
     "data": {
      "text/plain": [
       "'Quick thinking trolls have taken a novel approach to shutting down George Zimmerman s disgraceful gun auction for the weapon he used to murder 17-year-old Trayvon Martin: Bid absurdly high and make it all but impossible for Zimmerman s racist fans to get a legitimate number.Enter user  Racist McShootface , who took it upon him or herself to  pay  a whopping $65 million for the murder weapon. Only he or she never intended to actually pay. Instead, Zimmerman s auction has gone haywire. After Mr. McShootface was deleted, another user named  Tamir Rice  after the 12-year-old boy who was killed by Cleveland police, jumped into the fray. Others have joined in as well.screengrab via GawkerZimmerman has had an extremely difficult time selling the gun he used to shoot Trayvon with. His initial auction was suspended after major outrage swept nearly every corner of the internet. His second auction was also deleted. Now his third is being systematically destroyed from within by trolls hoping to make it impossible for  real  bidders to get the gun.Sadly, it s not for lack of trying. As Gawker notes, at least one bidder appears to be legitimate and he has already tried to pay $485,000 for the gun Zimmerman sickly refers to as  American history.  That paragon of morality angrily lashed out at the trolls who kept derailing the auction, at one point saying that he hoped their children got murdered. A desire which, for a man prepared to spend $500,000 on a gun used to kill a child, seems believable.Since being acquitted for the murder of Trayvon Martin, who was walking home with a bottle of iced tea and a bag of skittles when he was accosted by Zimmerman who assumed he was up to no good, Zimmerman has had nearly endless run ins with the law. At times nearly broke, Zimmerman has quite literally cashed in on the murder that made him infamous, by selling anything he can to his disturbed supporters. While appalling, it was almost inevitable that Zimmerman would get around to selling his murder weapon to the highest bidder.Thankfully, the internet has a nearly endless capacity to troll assholes like George Zimmerman.Featured image via Joe Burbank-Pool/Getty Images'"
      ]
     },
     "execution_count": 53,
     "metadata": {},
     "output_type": "execute_result"
    }
   ],
   "source": [
    "df.iloc[2]['text']"
   ]
  },
  {
   "cell_type": "code",
   "execution_count": 54,
   "id": "f9272498-e4b0-4d17-81a3-38ea451dfaa2",
   "metadata": {},
   "outputs": [
    {
     "name": "stderr",
     "output_type": "stream",
     "text": [
      "<>:3: SyntaxWarning: invalid escape sequence '\\S'\n",
      "<>:3: SyntaxWarning: invalid escape sequence '\\S'\n",
      "C:\\Users\\yanni\\AppData\\Local\\Temp\\ipykernel_37296\\348221683.py:3: SyntaxWarning: invalid escape sequence '\\S'\n",
      "  regex = re.compile('https?://\\S+|www\\.\\S+|pic\\.twitter\\.com/\\S+')\n"
     ]
    }
   ],
   "source": [
    "def cleanURLandPic(text):\n",
    "    # Remove URL and pic (only https for now)\n",
    "    regex = re.compile('https?://\\S+|www\\.\\S+|pic\\.twitter\\.com/\\S+')\n",
    "    text = regex.sub('', text)\n",
    "    \n",
    "    return text"
   ]
  },
  {
   "cell_type": "code",
   "execution_count": 55,
   "id": "e4a72cf0-4961-4e4b-94b7-f11a7d6bbc69",
   "metadata": {},
   "outputs": [],
   "source": [
    "df['text'] = df.apply(lambda x: cleanURLandPic(x['text']), axis=1)"
   ]
  },
  {
   "cell_type": "code",
   "execution_count": 56,
   "id": "3c17dca6-def6-4557-9082-e4bafa15fe10",
   "metadata": {},
   "outputs": [
    {
     "data": {
      "text/plain": [
       "'Quick thinking trolls have taken a novel approach to shutting down George Zimmerman s disgraceful gun auction for the weapon he used to murder 17-year-old Trayvon Martin: Bid absurdly high and make it all but impossible for Zimmerman s racist fans to get a legitimate number.Enter user  Racist McShootface , who took it upon him or herself to  pay  a whopping $65 million for the murder weapon. Only he or she never intended to actually pay. Instead, Zimmerman s auction has gone haywire. After Mr. McShootface was deleted, another user named  Tamir Rice  after the 12-year-old boy who was killed by Cleveland police, jumped into the fray. Others have joined in as well.screengrab via GawkerZimmerman has had an extremely difficult time selling the gun he used to shoot Trayvon with. His initial auction was suspended after major outrage swept nearly every corner of the internet. His second auction was also deleted. Now his third is being systematically destroyed from within by trolls hoping to make it impossible for  real  bidders to get the gun.Sadly, it s not for lack of trying. As Gawker notes, at least one bidder appears to be legitimate and he has already tried to pay $485,000 for the gun Zimmerman sickly refers to as  American history.  That paragon of morality angrily lashed out at the trolls who kept derailing the auction, at one point saying that he hoped their children got murdered. A desire which, for a man prepared to spend $500,000 on a gun used to kill a child, seems believable.Since being acquitted for the murder of Trayvon Martin, who was walking home with a bottle of iced tea and a bag of skittles when he was accosted by Zimmerman who assumed he was up to no good, Zimmerman has had nearly endless run ins with the law. At times nearly broke, Zimmerman has quite literally cashed in on the murder that made him infamous, by selling anything he can to his disturbed supporters. While appalling, it was almost inevitable that Zimmerman would get around to selling his murder weapon to the highest bidder.Thankfully, the internet has a nearly endless capacity to troll assholes like George Zimmerman.Featured image via Joe Burbank-Pool/Getty Images'"
      ]
     },
     "execution_count": 56,
     "metadata": {},
     "output_type": "execute_result"
    }
   ],
   "source": [
    "df.iloc[2]['text']"
   ]
  },
  {
   "cell_type": "markdown",
   "id": "dae86920-a138-4470-836b-62f750e3003e",
   "metadata": {},
   "source": [
    "### 4. Remove extra Whitespaces"
   ]
  },
  {
   "cell_type": "code",
   "execution_count": 58,
   "id": "2857d69b-1b15-4dbd-969d-ec8b7afda939",
   "metadata": {},
   "outputs": [
    {
     "name": "stderr",
     "output_type": "stream",
     "text": [
      "<>:3: SyntaxWarning: invalid escape sequence '\\s'\n",
      "<>:3: SyntaxWarning: invalid escape sequence '\\s'\n",
      "C:\\Users\\yanni\\AppData\\Local\\Temp\\ipykernel_37296\\2150091073.py:3: SyntaxWarning: invalid escape sequence '\\s'\n",
      "  regex = re.compile('\\s+')\n"
     ]
    }
   ],
   "source": [
    "def cleanExtraWhitespaces(text):\n",
    "    # Remove whitespace\n",
    "    regex = re.compile('\\s+')\n",
    "    text = regex.sub(' ', text)\n",
    "    return text"
   ]
  },
  {
   "cell_type": "code",
   "execution_count": 59,
   "id": "7dd0bf2d-aaac-4aee-88e3-40617936943c",
   "metadata": {},
   "outputs": [],
   "source": [
    "df['text'] = df.apply(lambda x: cleanExtraWhitespaces(x['text']), axis=1)"
   ]
  },
  {
   "cell_type": "code",
   "execution_count": 60,
   "id": "13ea27dd-2ba4-4fad-b1fa-3114e570e16b",
   "metadata": {},
   "outputs": [
    {
     "data": {
      "text/plain": [
       "'Quick thinking trolls have taken a novel approach to shutting down George Zimmerman s disgraceful gun auction for the weapon he used to murder 17-year-old Trayvon Martin: Bid absurdly high and make it all but impossible for Zimmerman s racist fans to get a legitimate number.Enter user Racist McShootface , who took it upon him or herself to pay a whopping $65 million for the murder weapon. Only he or she never intended to actually pay. Instead, Zimmerman s auction has gone haywire. After Mr. McShootface was deleted, another user named Tamir Rice after the 12-year-old boy who was killed by Cleveland police, jumped into the fray. Others have joined in as well.screengrab via GawkerZimmerman has had an extremely difficult time selling the gun he used to shoot Trayvon with. His initial auction was suspended after major outrage swept nearly every corner of the internet. His second auction was also deleted. Now his third is being systematically destroyed from within by trolls hoping to make it impossible for real bidders to get the gun.Sadly, it s not for lack of trying. As Gawker notes, at least one bidder appears to be legitimate and he has already tried to pay $485,000 for the gun Zimmerman sickly refers to as American history. That paragon of morality angrily lashed out at the trolls who kept derailing the auction, at one point saying that he hoped their children got murdered. A desire which, for a man prepared to spend $500,000 on a gun used to kill a child, seems believable.Since being acquitted for the murder of Trayvon Martin, who was walking home with a bottle of iced tea and a bag of skittles when he was accosted by Zimmerman who assumed he was up to no good, Zimmerman has had nearly endless run ins with the law. At times nearly broke, Zimmerman has quite literally cashed in on the murder that made him infamous, by selling anything he can to his disturbed supporters. While appalling, it was almost inevitable that Zimmerman would get around to selling his murder weapon to the highest bidder.Thankfully, the internet has a nearly endless capacity to troll assholes like George Zimmerman.Featured image via Joe Burbank-Pool/Getty Images'"
      ]
     },
     "execution_count": 60,
     "metadata": {},
     "output_type": "execute_result"
    }
   ],
   "source": [
    "df.iloc[2]['text']"
   ]
  },
  {
   "cell_type": "code",
   "execution_count": 61,
   "id": "402093de-f810-4199-9880-322a3f15b93a",
   "metadata": {},
   "outputs": [
    {
     "data": {
      "text/html": [
       "<div>\n",
       "<style scoped>\n",
       "    .dataframe tbody tr th:only-of-type {\n",
       "        vertical-align: middle;\n",
       "    }\n",
       "\n",
       "    .dataframe tbody tr th {\n",
       "        vertical-align: top;\n",
       "    }\n",
       "\n",
       "    .dataframe thead th {\n",
       "        text-align: right;\n",
       "    }\n",
       "</style>\n",
       "<table border=\"1\" class=\"dataframe\">\n",
       "  <thead>\n",
       "    <tr style=\"text-align: right;\">\n",
       "      <th></th>\n",
       "      <th>text</th>\n",
       "      <th>label</th>\n",
       "    </tr>\n",
       "  </thead>\n",
       "  <tbody>\n",
       "    <tr>\n",
       "      <th>9784</th>\n",
       "      <td>Steven Crowder is an amazing and ALWAYS unafra...</td>\n",
       "      <td>0</td>\n",
       "    </tr>\n",
       "    <tr>\n",
       "      <th>12175</th>\n",
       "      <td>The Wall Street Journal reported on Friday tha...</td>\n",
       "      <td>0</td>\n",
       "    </tr>\n",
       "    <tr>\n",
       "      <th>6397</th>\n",
       "      <td>Quick thinking trolls have taken a novel appro...</td>\n",
       "      <td>0</td>\n",
       "    </tr>\n",
       "    <tr>\n",
       "      <th>22336</th>\n",
       "      <td>21st Century Wire says The US media s neoMcCar...</td>\n",
       "      <td>0</td>\n",
       "    </tr>\n",
       "    <tr>\n",
       "      <th>15859</th>\n",
       "      <td>MADRID (Reuters) - Spain s state prosecutor on...</td>\n",
       "      <td>1</td>\n",
       "    </tr>\n",
       "  </tbody>\n",
       "</table>\n",
       "</div>"
      ],
      "text/plain": [
       "                                                    text  label\n",
       "9784   Steven Crowder is an amazing and ALWAYS unafra...      0\n",
       "12175  The Wall Street Journal reported on Friday tha...      0\n",
       "6397   Quick thinking trolls have taken a novel appro...      0\n",
       "22336  21st Century Wire says The US media s neoMcCar...      0\n",
       "15859  MADRID (Reuters) - Spain s state prosecutor on...      1"
      ]
     },
     "execution_count": 61,
     "metadata": {},
     "output_type": "execute_result"
    }
   ],
   "source": [
    "df.head()"
   ]
  },
  {
   "cell_type": "code",
   "execution_count": 48,
   "id": "fc44c593-87db-4bcb-96a2-340ce91ed27c",
   "metadata": {},
   "outputs": [],
   "source": [
    "df.to_excel(\"cleaned_ISOT_Fake_News_data.xlsx\")"
   ]
  },
  {
   "cell_type": "code",
   "execution_count": null,
   "id": "cc6cfea4-0c45-41f7-a9c0-ce902d4e3c8c",
   "metadata": {},
   "outputs": [],
   "source": []
  }
 ],
 "metadata": {
  "kernelspec": {
   "display_name": "Python 3 (ipykernel)",
   "language": "python",
   "name": "python3"
  },
  "language_info": {
   "codemirror_mode": {
    "name": "ipython",
    "version": 3
   },
   "file_extension": ".py",
   "mimetype": "text/x-python",
   "name": "python",
   "nbconvert_exporter": "python",
   "pygments_lexer": "ipython3",
   "version": "3.12.4"
  }
 },
 "nbformat": 4,
 "nbformat_minor": 5
}
