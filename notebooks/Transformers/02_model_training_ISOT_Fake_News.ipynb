{
 "cells": [
  {
   "cell_type": "markdown",
   "id": "18320faf-e9f8-4595-a94b-7a4b8db1ca2f",
   "metadata": {},
   "source": [
    "# 1. Install Requirements"
   ]
  },
  {
   "cell_type": "code",
   "execution_count": 48,
   "id": "0499d313-bdbf-4f9f-83f9-c4de3f422cd9",
   "metadata": {},
   "outputs": [
    {
     "name": "stdout",
     "output_type": "stream",
     "text": [
      "Collecting transformers==4.36.0\n",
      "  Downloading transformers-4.36.0-py3-none-any.whl.metadata (126 kB)\n",
      "     ---------------------------------------- 0.0/126.8 kB ? eta -:--:--\n",
      "     -------- ---------------------------- 30.7/126.8 kB 660.6 kB/s eta 0:00:01\n",
      "     -------------------- ---------------- 71.7/126.8 kB 787.7 kB/s eta 0:00:01\n",
      "     -------------------------------------- 126.8/126.8 kB 1.1 MB/s eta 0:00:00\n",
      "Requirement already satisfied: filelock in c:\\users\\yanni\\new folder\\lib\\site-packages (from transformers==4.36.0) (3.13.1)\n",
      "Requirement already satisfied: huggingface-hub<1.0,>=0.19.3 in c:\\users\\yanni\\new folder\\lib\\site-packages (from transformers==4.36.0) (0.33.0)\n",
      "Requirement already satisfied: numpy>=1.17 in c:\\users\\yanni\\new folder\\lib\\site-packages (from transformers==4.36.0) (1.26.4)\n",
      "Requirement already satisfied: packaging>=20.0 in c:\\users\\yanni\\new folder\\lib\\site-packages (from transformers==4.36.0) (23.2)\n",
      "Requirement already satisfied: pyyaml>=5.1 in c:\\users\\yanni\\new folder\\lib\\site-packages (from transformers==4.36.0) (6.0.1)\n",
      "Requirement already satisfied: regex!=2019.12.17 in c:\\users\\yanni\\new folder\\lib\\site-packages (from transformers==4.36.0) (2023.10.3)\n",
      "Requirement already satisfied: requests in c:\\users\\yanni\\new folder\\lib\\site-packages (from transformers==4.36.0) (2.32.2)\n",
      "Requirement already satisfied: tokenizers<0.19,>=0.14 in c:\\users\\yanni\\new folder\\lib\\site-packages (from transformers==4.36.0) (0.15.2)\n",
      "Requirement already satisfied: safetensors>=0.3.1 in c:\\users\\yanni\\new folder\\lib\\site-packages (from transformers==4.36.0) (0.5.3)\n",
      "Requirement already satisfied: tqdm>=4.27 in c:\\users\\yanni\\new folder\\lib\\site-packages (from transformers==4.36.0) (4.66.4)\n",
      "Requirement already satisfied: fsspec>=2023.5.0 in c:\\users\\yanni\\new folder\\lib\\site-packages (from huggingface-hub<1.0,>=0.19.3->transformers==4.36.0) (2024.3.1)\n",
      "Requirement already satisfied: typing-extensions>=3.7.4.3 in c:\\users\\yanni\\new folder\\lib\\site-packages (from huggingface-hub<1.0,>=0.19.3->transformers==4.36.0) (4.11.0)\n",
      "Requirement already satisfied: colorama in c:\\users\\yanni\\new folder\\lib\\site-packages (from tqdm>=4.27->transformers==4.36.0) (0.4.6)\n",
      "Requirement already satisfied: charset-normalizer<4,>=2 in c:\\users\\yanni\\new folder\\lib\\site-packages (from requests->transformers==4.36.0) (2.0.4)\n",
      "Requirement already satisfied: idna<4,>=2.5 in c:\\users\\yanni\\new folder\\lib\\site-packages (from requests->transformers==4.36.0) (3.7)\n",
      "Requirement already satisfied: urllib3<3,>=1.21.1 in c:\\users\\yanni\\new folder\\lib\\site-packages (from requests->transformers==4.36.0) (2.2.2)\n",
      "Requirement already satisfied: certifi>=2017.4.17 in c:\\users\\yanni\\new folder\\lib\\site-packages (from requests->transformers==4.36.0) (2024.7.4)\n",
      "Downloading transformers-4.36.0-py3-none-any.whl (8.2 MB)\n",
      "   ---------------------------------------- 0.0/8.2 MB ? eta -:--:--\n",
      "   - -------------------------------------- 0.2/8.2 MB 6.9 MB/s eta 0:00:02\n",
      "   --- ------------------------------------ 0.7/8.2 MB 9.5 MB/s eta 0:00:01\n",
      "   ------ --------------------------------- 1.3/8.2 MB 9.1 MB/s eta 0:00:01\n",
      "   -------- ------------------------------- 1.8/8.2 MB 10.6 MB/s eta 0:00:01\n",
      "   ----------- ---------------------------- 2.4/8.2 MB 10.8 MB/s eta 0:00:01\n",
      "   -------------- ------------------------- 3.0/8.2 MB 10.5 MB/s eta 0:00:01\n",
      "   ----------------- ---------------------- 3.5/8.2 MB 11.3 MB/s eta 0:00:01\n",
      "   ------------------- -------------------- 4.0/8.2 MB 11.0 MB/s eta 0:00:01\n",
      "   --------------------- ------------------ 4.5/8.2 MB 11.0 MB/s eta 0:00:01\n",
      "   ----------------------- ---------------- 4.9/8.2 MB 11.2 MB/s eta 0:00:01\n",
      "   -------------------------- ------------- 5.4/8.2 MB 11.2 MB/s eta 0:00:01\n",
      "   ----------------------------- ---------- 6.0/8.2 MB 11.2 MB/s eta 0:00:01\n",
      "   ------------------------------- -------- 6.4/8.2 MB 11.4 MB/s eta 0:00:01\n",
      "   --------------------------------- ------ 6.9/8.2 MB 11.4 MB/s eta 0:00:01\n",
      "   ------------------------------------ --- 7.5/8.2 MB 11.1 MB/s eta 0:00:01\n",
      "   -------------------------------------- - 8.0/8.2 MB 11.3 MB/s eta 0:00:01\n",
      "   ---------------------------------------- 8.2/8.2 MB 10.9 MB/s eta 0:00:00\n",
      "Installing collected packages: transformers\n",
      "  Attempting uninstall: transformers\n",
      "    Found existing installation: transformers 4.38.0\n",
      "    Uninstalling transformers-4.38.0:\n",
      "      Successfully uninstalled transformers-4.38.0\n",
      "Successfully installed transformers-4.36.0\n",
      "Note: you may need to restart the kernel to use updated packages.\n"
     ]
    }
   ],
   "source": [
    "pip install transformers==4.36.0"
   ]
  },
  {
   "cell_type": "code",
   "execution_count": 49,
   "id": "87b2e114-e7e9-4891-b8f5-c8df08eb617a",
   "metadata": {},
   "outputs": [
    {
     "name": "stdout",
     "output_type": "stream",
     "text": [
      "Requirement already satisfied: datasets in c:\\users\\yanni\\new folder\\lib\\site-packages (3.6.0)\n",
      "Requirement already satisfied: filelock in c:\\users\\yanni\\new folder\\lib\\site-packages (from datasets) (3.13.1)\n",
      "Requirement already satisfied: numpy>=1.17 in c:\\users\\yanni\\new folder\\lib\\site-packages (from datasets) (1.26.4)\n",
      "Requirement already satisfied: pyarrow>=15.0.0 in c:\\users\\yanni\\new folder\\lib\\site-packages (from datasets) (20.0.0)\n",
      "Requirement already satisfied: dill<0.3.9,>=0.3.0 in c:\\users\\yanni\\new folder\\lib\\site-packages (from datasets) (0.3.8)\n",
      "Requirement already satisfied: pandas in c:\\users\\yanni\\new folder\\lib\\site-packages (from datasets) (2.3.0)\n",
      "Requirement already satisfied: requests>=2.32.2 in c:\\users\\yanni\\new folder\\lib\\site-packages (from datasets) (2.32.2)\n",
      "Requirement already satisfied: tqdm>=4.66.3 in c:\\users\\yanni\\new folder\\lib\\site-packages (from datasets) (4.66.4)\n",
      "Requirement already satisfied: xxhash in c:\\users\\yanni\\new folder\\lib\\site-packages (from datasets) (3.5.0)\n",
      "Requirement already satisfied: multiprocess<0.70.17 in c:\\users\\yanni\\new folder\\lib\\site-packages (from datasets) (0.70.16)\n",
      "Requirement already satisfied: fsspec<=2025.3.0,>=2023.1.0 in c:\\users\\yanni\\new folder\\lib\\site-packages (from fsspec[http]<=2025.3.0,>=2023.1.0->datasets) (2024.3.1)\n",
      "Requirement already satisfied: huggingface-hub>=0.24.0 in c:\\users\\yanni\\new folder\\lib\\site-packages (from datasets) (0.33.0)\n",
      "Requirement already satisfied: packaging in c:\\users\\yanni\\new folder\\lib\\site-packages (from datasets) (23.2)\n",
      "Requirement already satisfied: pyyaml>=5.1 in c:\\users\\yanni\\new folder\\lib\\site-packages (from datasets) (6.0.1)\n",
      "Requirement already satisfied: aiohttp!=4.0.0a0,!=4.0.0a1 in c:\\users\\yanni\\new folder\\lib\\site-packages (from fsspec[http]<=2025.3.0,>=2023.1.0->datasets) (3.9.5)\n",
      "Requirement already satisfied: typing-extensions>=3.7.4.3 in c:\\users\\yanni\\new folder\\lib\\site-packages (from huggingface-hub>=0.24.0->datasets) (4.11.0)\n",
      "Requirement already satisfied: charset-normalizer<4,>=2 in c:\\users\\yanni\\new folder\\lib\\site-packages (from requests>=2.32.2->datasets) (2.0.4)\n",
      "Requirement already satisfied: idna<4,>=2.5 in c:\\users\\yanni\\new folder\\lib\\site-packages (from requests>=2.32.2->datasets) (3.7)\n",
      "Requirement already satisfied: urllib3<3,>=1.21.1 in c:\\users\\yanni\\new folder\\lib\\site-packages (from requests>=2.32.2->datasets) (2.2.2)\n",
      "Requirement already satisfied: certifi>=2017.4.17 in c:\\users\\yanni\\new folder\\lib\\site-packages (from requests>=2.32.2->datasets) (2024.7.4)\n",
      "Requirement already satisfied: colorama in c:\\users\\yanni\\new folder\\lib\\site-packages (from tqdm>=4.66.3->datasets) (0.4.6)\n",
      "Requirement already satisfied: python-dateutil>=2.8.2 in c:\\users\\yanni\\new folder\\lib\\site-packages (from pandas->datasets) (2.9.0.post0)\n",
      "Requirement already satisfied: pytz>=2020.1 in c:\\users\\yanni\\new folder\\lib\\site-packages (from pandas->datasets) (2024.1)\n",
      "Requirement already satisfied: tzdata>=2022.7 in c:\\users\\yanni\\new folder\\lib\\site-packages (from pandas->datasets) (2023.3)\n",
      "Requirement already satisfied: aiosignal>=1.1.2 in c:\\users\\yanni\\new folder\\lib\\site-packages (from aiohttp!=4.0.0a0,!=4.0.0a1->fsspec[http]<=2025.3.0,>=2023.1.0->datasets) (1.2.0)\n",
      "Requirement already satisfied: attrs>=17.3.0 in c:\\users\\yanni\\new folder\\lib\\site-packages (from aiohttp!=4.0.0a0,!=4.0.0a1->fsspec[http]<=2025.3.0,>=2023.1.0->datasets) (23.1.0)\n",
      "Requirement already satisfied: frozenlist>=1.1.1 in c:\\users\\yanni\\new folder\\lib\\site-packages (from aiohttp!=4.0.0a0,!=4.0.0a1->fsspec[http]<=2025.3.0,>=2023.1.0->datasets) (1.4.0)\n",
      "Requirement already satisfied: multidict<7.0,>=4.5 in c:\\users\\yanni\\new folder\\lib\\site-packages (from aiohttp!=4.0.0a0,!=4.0.0a1->fsspec[http]<=2025.3.0,>=2023.1.0->datasets) (6.0.4)\n",
      "Requirement already satisfied: yarl<2.0,>=1.0 in c:\\users\\yanni\\new folder\\lib\\site-packages (from aiohttp!=4.0.0a0,!=4.0.0a1->fsspec[http]<=2025.3.0,>=2023.1.0->datasets) (1.9.3)\n",
      "Requirement already satisfied: six>=1.5 in c:\\users\\yanni\\new folder\\lib\\site-packages (from python-dateutil>=2.8.2->pandas->datasets) (1.16.0)\n",
      "Note: you may need to restart the kernel to use updated packages.\n"
     ]
    }
   ],
   "source": [
    "pip install datasets"
   ]
  },
  {
   "cell_type": "code",
   "execution_count": 50,
   "id": "6d23f455-1519-4cd3-a36b-91816f8c3c72",
   "metadata": {},
   "outputs": [
    {
     "name": "stdout",
     "output_type": "stream",
     "text": [
      "Requirement already satisfied: pandas in c:\\users\\yanni\\new folder\\lib\\site-packages (2.3.0)\n",
      "Requirement already satisfied: numpy>=1.26.0 in c:\\users\\yanni\\new folder\\lib\\site-packages (from pandas) (1.26.4)\n",
      "Requirement already satisfied: python-dateutil>=2.8.2 in c:\\users\\yanni\\new folder\\lib\\site-packages (from pandas) (2.9.0.post0)\n",
      "Requirement already satisfied: pytz>=2020.1 in c:\\users\\yanni\\new folder\\lib\\site-packages (from pandas) (2024.1)\n",
      "Requirement already satisfied: tzdata>=2022.7 in c:\\users\\yanni\\new folder\\lib\\site-packages (from pandas) (2023.3)\n",
      "Requirement already satisfied: six>=1.5 in c:\\users\\yanni\\new folder\\lib\\site-packages (from python-dateutil>=2.8.2->pandas) (1.16.0)\n",
      "Note: you may need to restart the kernel to use updated packages.\n"
     ]
    }
   ],
   "source": [
    "pip install --upgrade pandas"
   ]
  },
  {
   "cell_type": "code",
   "execution_count": 51,
   "id": "95735dc2-60aa-4727-b729-b4eafa2a571c",
   "metadata": {},
   "outputs": [
    {
     "name": "stdout",
     "output_type": "stream",
     "text": [
      "Requirement already satisfied: evaluate in c:\\users\\yanni\\new folder\\lib\\site-packages (0.4.3)\n",
      "Requirement already satisfied: datasets>=2.0.0 in c:\\users\\yanni\\new folder\\lib\\site-packages (from evaluate) (3.6.0)\n",
      "Requirement already satisfied: numpy>=1.17 in c:\\users\\yanni\\new folder\\lib\\site-packages (from evaluate) (1.26.4)\n",
      "Requirement already satisfied: dill in c:\\users\\yanni\\new folder\\lib\\site-packages (from evaluate) (0.3.8)\n",
      "Requirement already satisfied: pandas in c:\\users\\yanni\\new folder\\lib\\site-packages (from evaluate) (2.3.0)\n",
      "Requirement already satisfied: requests>=2.19.0 in c:\\users\\yanni\\new folder\\lib\\site-packages (from evaluate) (2.32.2)\n",
      "Requirement already satisfied: tqdm>=4.62.1 in c:\\users\\yanni\\new folder\\lib\\site-packages (from evaluate) (4.66.4)\n",
      "Requirement already satisfied: xxhash in c:\\users\\yanni\\new folder\\lib\\site-packages (from evaluate) (3.5.0)\n",
      "Requirement already satisfied: multiprocess in c:\\users\\yanni\\new folder\\lib\\site-packages (from evaluate) (0.70.16)\n",
      "Requirement already satisfied: fsspec>=2021.05.0 in c:\\users\\yanni\\new folder\\lib\\site-packages (from fsspec[http]>=2021.05.0->evaluate) (2024.3.1)\n",
      "Requirement already satisfied: huggingface-hub>=0.7.0 in c:\\users\\yanni\\new folder\\lib\\site-packages (from evaluate) (0.33.0)\n",
      "Requirement already satisfied: packaging in c:\\users\\yanni\\new folder\\lib\\site-packages (from evaluate) (23.2)\n",
      "Requirement already satisfied: filelock in c:\\users\\yanni\\new folder\\lib\\site-packages (from datasets>=2.0.0->evaluate) (3.13.1)\n",
      "Requirement already satisfied: pyarrow>=15.0.0 in c:\\users\\yanni\\new folder\\lib\\site-packages (from datasets>=2.0.0->evaluate) (20.0.0)\n",
      "Requirement already satisfied: pyyaml>=5.1 in c:\\users\\yanni\\new folder\\lib\\site-packages (from datasets>=2.0.0->evaluate) (6.0.1)\n",
      "Requirement already satisfied: aiohttp!=4.0.0a0,!=4.0.0a1 in c:\\users\\yanni\\new folder\\lib\\site-packages (from fsspec[http]>=2021.05.0->evaluate) (3.9.5)\n",
      "Requirement already satisfied: typing-extensions>=3.7.4.3 in c:\\users\\yanni\\new folder\\lib\\site-packages (from huggingface-hub>=0.7.0->evaluate) (4.11.0)\n",
      "Requirement already satisfied: charset-normalizer<4,>=2 in c:\\users\\yanni\\new folder\\lib\\site-packages (from requests>=2.19.0->evaluate) (2.0.4)\n",
      "Requirement already satisfied: idna<4,>=2.5 in c:\\users\\yanni\\new folder\\lib\\site-packages (from requests>=2.19.0->evaluate) (3.7)\n",
      "Requirement already satisfied: urllib3<3,>=1.21.1 in c:\\users\\yanni\\new folder\\lib\\site-packages (from requests>=2.19.0->evaluate) (2.2.2)\n",
      "Requirement already satisfied: certifi>=2017.4.17 in c:\\users\\yanni\\new folder\\lib\\site-packages (from requests>=2.19.0->evaluate) (2024.7.4)\n",
      "Requirement already satisfied: colorama in c:\\users\\yanni\\new folder\\lib\\site-packages (from tqdm>=4.62.1->evaluate) (0.4.6)\n",
      "Requirement already satisfied: python-dateutil>=2.8.2 in c:\\users\\yanni\\new folder\\lib\\site-packages (from pandas->evaluate) (2.9.0.post0)\n",
      "Requirement already satisfied: pytz>=2020.1 in c:\\users\\yanni\\new folder\\lib\\site-packages (from pandas->evaluate) (2024.1)\n",
      "Requirement already satisfied: tzdata>=2022.7 in c:\\users\\yanni\\new folder\\lib\\site-packages (from pandas->evaluate) (2023.3)\n",
      "Requirement already satisfied: aiosignal>=1.1.2 in c:\\users\\yanni\\new folder\\lib\\site-packages (from aiohttp!=4.0.0a0,!=4.0.0a1->fsspec[http]>=2021.05.0->evaluate) (1.2.0)\n",
      "Requirement already satisfied: attrs>=17.3.0 in c:\\users\\yanni\\new folder\\lib\\site-packages (from aiohttp!=4.0.0a0,!=4.0.0a1->fsspec[http]>=2021.05.0->evaluate) (23.1.0)\n",
      "Requirement already satisfied: frozenlist>=1.1.1 in c:\\users\\yanni\\new folder\\lib\\site-packages (from aiohttp!=4.0.0a0,!=4.0.0a1->fsspec[http]>=2021.05.0->evaluate) (1.4.0)\n",
      "Requirement already satisfied: multidict<7.0,>=4.5 in c:\\users\\yanni\\new folder\\lib\\site-packages (from aiohttp!=4.0.0a0,!=4.0.0a1->fsspec[http]>=2021.05.0->evaluate) (6.0.4)\n",
      "Requirement already satisfied: yarl<2.0,>=1.0 in c:\\users\\yanni\\new folder\\lib\\site-packages (from aiohttp!=4.0.0a0,!=4.0.0a1->fsspec[http]>=2021.05.0->evaluate) (1.9.3)\n",
      "Requirement already satisfied: six>=1.5 in c:\\users\\yanni\\new folder\\lib\\site-packages (from python-dateutil>=2.8.2->pandas->evaluate) (1.16.0)\n",
      "Note: you may need to restart the kernel to use updated packages.\n"
     ]
    }
   ],
   "source": [
    "pip install --upgrade evaluate"
   ]
  },
  {
   "cell_type": "code",
   "execution_count": 52,
   "id": "737b9ffa-c405-4a05-8a0b-283e876c199a",
   "metadata": {},
   "outputs": [
    {
     "name": "stdout",
     "output_type": "stream",
     "text": [
      "Requirement already satisfied: accelerate==0.28.0 in c:\\users\\yanni\\new folder\\lib\\site-packages (0.28.0)\n",
      "Requirement already satisfied: numpy>=1.17 in c:\\users\\yanni\\new folder\\lib\\site-packages (from accelerate==0.28.0) (1.26.4)\n",
      "Requirement already satisfied: packaging>=20.0 in c:\\users\\yanni\\new folder\\lib\\site-packages (from accelerate==0.28.0) (23.2)\n",
      "Requirement already satisfied: psutil in c:\\users\\yanni\\new folder\\lib\\site-packages (from accelerate==0.28.0) (5.9.0)\n",
      "Requirement already satisfied: pyyaml in c:\\users\\yanni\\new folder\\lib\\site-packages (from accelerate==0.28.0) (6.0.1)\n",
      "Requirement already satisfied: torch>=1.10.0 in c:\\users\\yanni\\new folder\\lib\\site-packages (from accelerate==0.28.0) (2.7.1)\n",
      "Requirement already satisfied: huggingface-hub in c:\\users\\yanni\\new folder\\lib\\site-packages (from accelerate==0.28.0) (0.33.0)\n",
      "Requirement already satisfied: safetensors>=0.3.1 in c:\\users\\yanni\\new folder\\lib\\site-packages (from accelerate==0.28.0) (0.5.3)\n",
      "Requirement already satisfied: filelock in c:\\users\\yanni\\new folder\\lib\\site-packages (from torch>=1.10.0->accelerate==0.28.0) (3.13.1)\n",
      "Requirement already satisfied: typing-extensions>=4.10.0 in c:\\users\\yanni\\new folder\\lib\\site-packages (from torch>=1.10.0->accelerate==0.28.0) (4.11.0)\n",
      "Requirement already satisfied: sympy>=1.13.3 in c:\\users\\yanni\\new folder\\lib\\site-packages (from torch>=1.10.0->accelerate==0.28.0) (1.14.0)\n",
      "Requirement already satisfied: networkx in c:\\users\\yanni\\new folder\\lib\\site-packages (from torch>=1.10.0->accelerate==0.28.0) (3.2.1)\n",
      "Requirement already satisfied: jinja2 in c:\\users\\yanni\\new folder\\lib\\site-packages (from torch>=1.10.0->accelerate==0.28.0) (3.1.4)\n",
      "Requirement already satisfied: fsspec in c:\\users\\yanni\\new folder\\lib\\site-packages (from torch>=1.10.0->accelerate==0.28.0) (2024.3.1)\n",
      "Requirement already satisfied: setuptools in c:\\users\\yanni\\new folder\\lib\\site-packages (from torch>=1.10.0->accelerate==0.28.0) (69.5.1)\n",
      "Requirement already satisfied: requests in c:\\users\\yanni\\new folder\\lib\\site-packages (from huggingface-hub->accelerate==0.28.0) (2.32.2)\n",
      "Requirement already satisfied: tqdm>=4.42.1 in c:\\users\\yanni\\new folder\\lib\\site-packages (from huggingface-hub->accelerate==0.28.0) (4.66.4)\n",
      "Requirement already satisfied: mpmath<1.4,>=1.1.0 in c:\\users\\yanni\\new folder\\lib\\site-packages (from sympy>=1.13.3->torch>=1.10.0->accelerate==0.28.0) (1.3.0)\n",
      "Requirement already satisfied: colorama in c:\\users\\yanni\\new folder\\lib\\site-packages (from tqdm>=4.42.1->huggingface-hub->accelerate==0.28.0) (0.4.6)\n",
      "Requirement already satisfied: MarkupSafe>=2.0 in c:\\users\\yanni\\new folder\\lib\\site-packages (from jinja2->torch>=1.10.0->accelerate==0.28.0) (2.1.3)\n",
      "Requirement already satisfied: charset-normalizer<4,>=2 in c:\\users\\yanni\\new folder\\lib\\site-packages (from requests->huggingface-hub->accelerate==0.28.0) (2.0.4)\n",
      "Requirement already satisfied: idna<4,>=2.5 in c:\\users\\yanni\\new folder\\lib\\site-packages (from requests->huggingface-hub->accelerate==0.28.0) (3.7)\n",
      "Requirement already satisfied: urllib3<3,>=1.21.1 in c:\\users\\yanni\\new folder\\lib\\site-packages (from requests->huggingface-hub->accelerate==0.28.0) (2.2.2)\n",
      "Requirement already satisfied: certifi>=2017.4.17 in c:\\users\\yanni\\new folder\\lib\\site-packages (from requests->huggingface-hub->accelerate==0.28.0) (2024.7.4)\n",
      "Note: you may need to restart the kernel to use updated packages.\n"
     ]
    }
   ],
   "source": [
    "pip install accelerate==0.28.0"
   ]
  },
  {
   "cell_type": "code",
   "execution_count": 1,
   "id": "6641d7f6-0190-4d6c-9bc7-fc2e12859520",
   "metadata": {},
   "outputs": [],
   "source": [
    "import pandas as pd"
   ]
  },
  {
   "cell_type": "markdown",
   "id": "c526025c-e8fe-437a-aea6-d8b2b59ad763",
   "metadata": {},
   "source": [
    "# 2. Read and Prepare the Dataset"
   ]
  },
  {
   "cell_type": "code",
   "execution_count": 3,
   "id": "2f629ae8-4e6d-4bb9-ae19-c6bcb40b66ba",
   "metadata": {},
   "outputs": [],
   "source": [
    "base_path = \"cleaned_data/\"\n",
    "\n",
    "df = pd.read_excel(f\"{base_path}cleaned_ISOT_Fake_News_data.xlsx\")"
   ]
  },
  {
   "cell_type": "code",
   "execution_count": 4,
   "id": "6b4fef1f-1048-40ef-bbfc-229088e51f91",
   "metadata": {},
   "outputs": [
    {
     "data": {
      "text/html": [
       "<div>\n",
       "<style scoped>\n",
       "    .dataframe tbody tr th:only-of-type {\n",
       "        vertical-align: middle;\n",
       "    }\n",
       "\n",
       "    .dataframe tbody tr th {\n",
       "        vertical-align: top;\n",
       "    }\n",
       "\n",
       "    .dataframe thead th {\n",
       "        text-align: right;\n",
       "    }\n",
       "</style>\n",
       "<table border=\"1\" class=\"dataframe\">\n",
       "  <thead>\n",
       "    <tr style=\"text-align: right;\">\n",
       "      <th></th>\n",
       "      <th>Unnamed: 0</th>\n",
       "      <th>text</th>\n",
       "      <th>label</th>\n",
       "    </tr>\n",
       "  </thead>\n",
       "  <tbody>\n",
       "    <tr>\n",
       "      <th>0</th>\n",
       "      <td>8509</td>\n",
       "      <td>WASHINGTON (Reuters) - President Barack Obama ...</td>\n",
       "      <td>1</td>\n",
       "    </tr>\n",
       "    <tr>\n",
       "      <th>1</th>\n",
       "      <td>16782</td>\n",
       "      <td>Has anyone else out there noticed the total bi...</td>\n",
       "      <td>0</td>\n",
       "    </tr>\n",
       "    <tr>\n",
       "      <th>2</th>\n",
       "      <td>20530</td>\n",
       "      <td>We all know the defense of children comes dead...</td>\n",
       "      <td>0</td>\n",
       "    </tr>\n",
       "    <tr>\n",
       "      <th>3</th>\n",
       "      <td>8921</td>\n",
       "      <td>Federal authorities have no intention of killi...</td>\n",
       "      <td>0</td>\n",
       "    </tr>\n",
       "    <tr>\n",
       "      <th>4</th>\n",
       "      <td>13025</td>\n",
       "      <td>Little Miss Sunshine has fooled a lot of peop...</td>\n",
       "      <td>0</td>\n",
       "    </tr>\n",
       "  </tbody>\n",
       "</table>\n",
       "</div>"
      ],
      "text/plain": [
       "   Unnamed: 0                                               text  label\n",
       "0        8509  WASHINGTON (Reuters) - President Barack Obama ...      1\n",
       "1       16782  Has anyone else out there noticed the total bi...      0\n",
       "2       20530  We all know the defense of children comes dead...      0\n",
       "3        8921  Federal authorities have no intention of killi...      0\n",
       "4       13025   Little Miss Sunshine has fooled a lot of peop...      0"
      ]
     },
     "execution_count": 4,
     "metadata": {},
     "output_type": "execute_result"
    }
   ],
   "source": [
    "df.head()"
   ]
  },
  {
   "cell_type": "code",
   "execution_count": 5,
   "id": "e430aa16-f33b-49e1-8ee0-77368ba33c33",
   "metadata": {},
   "outputs": [],
   "source": [
    "df.drop(\"Unnamed: 0\", axis=1, inplace=True)"
   ]
  },
  {
   "cell_type": "code",
   "execution_count": 6,
   "id": "ce05ed7d-0133-4532-b4be-d349b0f71ea6",
   "metadata": {},
   "outputs": [
    {
     "data": {
      "text/html": [
       "<div>\n",
       "<style scoped>\n",
       "    .dataframe tbody tr th:only-of-type {\n",
       "        vertical-align: middle;\n",
       "    }\n",
       "\n",
       "    .dataframe tbody tr th {\n",
       "        vertical-align: top;\n",
       "    }\n",
       "\n",
       "    .dataframe thead th {\n",
       "        text-align: right;\n",
       "    }\n",
       "</style>\n",
       "<table border=\"1\" class=\"dataframe\">\n",
       "  <thead>\n",
       "    <tr style=\"text-align: right;\">\n",
       "      <th></th>\n",
       "      <th>text</th>\n",
       "      <th>label</th>\n",
       "    </tr>\n",
       "  </thead>\n",
       "  <tbody>\n",
       "    <tr>\n",
       "      <th>0</th>\n",
       "      <td>WASHINGTON (Reuters) - President Barack Obama ...</td>\n",
       "      <td>1</td>\n",
       "    </tr>\n",
       "    <tr>\n",
       "      <th>1</th>\n",
       "      <td>Has anyone else out there noticed the total bi...</td>\n",
       "      <td>0</td>\n",
       "    </tr>\n",
       "    <tr>\n",
       "      <th>2</th>\n",
       "      <td>We all know the defense of children comes dead...</td>\n",
       "      <td>0</td>\n",
       "    </tr>\n",
       "    <tr>\n",
       "      <th>3</th>\n",
       "      <td>Federal authorities have no intention of killi...</td>\n",
       "      <td>0</td>\n",
       "    </tr>\n",
       "    <tr>\n",
       "      <th>4</th>\n",
       "      <td>Little Miss Sunshine has fooled a lot of peop...</td>\n",
       "      <td>0</td>\n",
       "    </tr>\n",
       "  </tbody>\n",
       "</table>\n",
       "</div>"
      ],
      "text/plain": [
       "                                                text  label\n",
       "0  WASHINGTON (Reuters) - President Barack Obama ...      1\n",
       "1  Has anyone else out there noticed the total bi...      0\n",
       "2  We all know the defense of children comes dead...      0\n",
       "3  Federal authorities have no intention of killi...      0\n",
       "4   Little Miss Sunshine has fooled a lot of peop...      0"
      ]
     },
     "execution_count": 6,
     "metadata": {},
     "output_type": "execute_result"
    }
   ],
   "source": [
    "df.head()"
   ]
  },
  {
   "cell_type": "code",
   "execution_count": 7,
   "id": "36df38df-9e2c-4c49-84bf-44420a810a36",
   "metadata": {
    "scrolled": true
   },
   "outputs": [
    {
     "data": {
      "text/html": [
       "<div>\n",
       "<style scoped>\n",
       "    .dataframe tbody tr th:only-of-type {\n",
       "        vertical-align: middle;\n",
       "    }\n",
       "\n",
       "    .dataframe tbody tr th {\n",
       "        vertical-align: top;\n",
       "    }\n",
       "\n",
       "    .dataframe thead th {\n",
       "        text-align: right;\n",
       "    }\n",
       "</style>\n",
       "<table border=\"1\" class=\"dataframe\">\n",
       "  <thead>\n",
       "    <tr style=\"text-align: right;\">\n",
       "      <th></th>\n",
       "      <th>text</th>\n",
       "      <th>label</th>\n",
       "    </tr>\n",
       "  </thead>\n",
       "  <tbody>\n",
       "    <tr>\n",
       "      <th>977</th>\n",
       "      <td>NaN</td>\n",
       "      <td>0</td>\n",
       "    </tr>\n",
       "    <tr>\n",
       "      <th>1127</th>\n",
       "      <td>NaN</td>\n",
       "      <td>0</td>\n",
       "    </tr>\n",
       "    <tr>\n",
       "      <th>2426</th>\n",
       "      <td>NaN</td>\n",
       "      <td>0</td>\n",
       "    </tr>\n",
       "    <tr>\n",
       "      <th>2924</th>\n",
       "      <td>NaN</td>\n",
       "      <td>0</td>\n",
       "    </tr>\n",
       "    <tr>\n",
       "      <th>3077</th>\n",
       "      <td>NaN</td>\n",
       "      <td>0</td>\n",
       "    </tr>\n",
       "    <tr>\n",
       "      <th>4103</th>\n",
       "      <td>NaN</td>\n",
       "      <td>0</td>\n",
       "    </tr>\n",
       "    <tr>\n",
       "      <th>4489</th>\n",
       "      <td>NaN</td>\n",
       "      <td>0</td>\n",
       "    </tr>\n",
       "    <tr>\n",
       "      <th>6362</th>\n",
       "      <td>NaN</td>\n",
       "      <td>0</td>\n",
       "    </tr>\n",
       "    <tr>\n",
       "      <th>6366</th>\n",
       "      <td>NaN</td>\n",
       "      <td>0</td>\n",
       "    </tr>\n",
       "    <tr>\n",
       "      <th>7027</th>\n",
       "      <td>NaN</td>\n",
       "      <td>0</td>\n",
       "    </tr>\n",
       "    <tr>\n",
       "      <th>7386</th>\n",
       "      <td>NaN</td>\n",
       "      <td>0</td>\n",
       "    </tr>\n",
       "    <tr>\n",
       "      <th>7948</th>\n",
       "      <td>NaN</td>\n",
       "      <td>0</td>\n",
       "    </tr>\n",
       "    <tr>\n",
       "      <th>8463</th>\n",
       "      <td>NaN</td>\n",
       "      <td>0</td>\n",
       "    </tr>\n",
       "    <tr>\n",
       "      <th>9178</th>\n",
       "      <td>NaN</td>\n",
       "      <td>0</td>\n",
       "    </tr>\n",
       "    <tr>\n",
       "      <th>9719</th>\n",
       "      <td>NaN</td>\n",
       "      <td>0</td>\n",
       "    </tr>\n",
       "    <tr>\n",
       "      <th>10107</th>\n",
       "      <td>NaN</td>\n",
       "      <td>0</td>\n",
       "    </tr>\n",
       "    <tr>\n",
       "      <th>10570</th>\n",
       "      <td>NaN</td>\n",
       "      <td>0</td>\n",
       "    </tr>\n",
       "    <tr>\n",
       "      <th>11704</th>\n",
       "      <td>NaN</td>\n",
       "      <td>0</td>\n",
       "    </tr>\n",
       "    <tr>\n",
       "      <th>12406</th>\n",
       "      <td>NaN</td>\n",
       "      <td>0</td>\n",
       "    </tr>\n",
       "    <tr>\n",
       "      <th>12580</th>\n",
       "      <td>NaN</td>\n",
       "      <td>0</td>\n",
       "    </tr>\n",
       "    <tr>\n",
       "      <th>12814</th>\n",
       "      <td>NaN</td>\n",
       "      <td>0</td>\n",
       "    </tr>\n",
       "    <tr>\n",
       "      <th>12819</th>\n",
       "      <td>NaN</td>\n",
       "      <td>0</td>\n",
       "    </tr>\n",
       "    <tr>\n",
       "      <th>13281</th>\n",
       "      <td>NaN</td>\n",
       "      <td>0</td>\n",
       "    </tr>\n",
       "    <tr>\n",
       "      <th>13518</th>\n",
       "      <td>NaN</td>\n",
       "      <td>0</td>\n",
       "    </tr>\n",
       "    <tr>\n",
       "      <th>14338</th>\n",
       "      <td>NaN</td>\n",
       "      <td>0</td>\n",
       "    </tr>\n",
       "    <tr>\n",
       "      <th>15181</th>\n",
       "      <td>NaN</td>\n",
       "      <td>0</td>\n",
       "    </tr>\n",
       "    <tr>\n",
       "      <th>15333</th>\n",
       "      <td>NaN</td>\n",
       "      <td>0</td>\n",
       "    </tr>\n",
       "    <tr>\n",
       "      <th>15380</th>\n",
       "      <td>NaN</td>\n",
       "      <td>0</td>\n",
       "    </tr>\n",
       "    <tr>\n",
       "      <th>15687</th>\n",
       "      <td>NaN</td>\n",
       "      <td>0</td>\n",
       "    </tr>\n",
       "    <tr>\n",
       "      <th>15859</th>\n",
       "      <td>NaN</td>\n",
       "      <td>0</td>\n",
       "    </tr>\n",
       "    <tr>\n",
       "      <th>15974</th>\n",
       "      <td>NaN</td>\n",
       "      <td>0</td>\n",
       "    </tr>\n",
       "    <tr>\n",
       "      <th>16711</th>\n",
       "      <td>NaN</td>\n",
       "      <td>0</td>\n",
       "    </tr>\n",
       "    <tr>\n",
       "      <th>17199</th>\n",
       "      <td>NaN</td>\n",
       "      <td>0</td>\n",
       "    </tr>\n",
       "    <tr>\n",
       "      <th>18051</th>\n",
       "      <td>NaN</td>\n",
       "      <td>0</td>\n",
       "    </tr>\n",
       "    <tr>\n",
       "      <th>18295</th>\n",
       "      <td>NaN</td>\n",
       "      <td>0</td>\n",
       "    </tr>\n",
       "    <tr>\n",
       "      <th>19464</th>\n",
       "      <td>NaN</td>\n",
       "      <td>0</td>\n",
       "    </tr>\n",
       "    <tr>\n",
       "      <th>19658</th>\n",
       "      <td>NaN</td>\n",
       "      <td>0</td>\n",
       "    </tr>\n",
       "    <tr>\n",
       "      <th>19813</th>\n",
       "      <td>NaN</td>\n",
       "      <td>0</td>\n",
       "    </tr>\n",
       "    <tr>\n",
       "      <th>19856</th>\n",
       "      <td>NaN</td>\n",
       "      <td>0</td>\n",
       "    </tr>\n",
       "    <tr>\n",
       "      <th>21447</th>\n",
       "      <td>NaN</td>\n",
       "      <td>0</td>\n",
       "    </tr>\n",
       "    <tr>\n",
       "      <th>25461</th>\n",
       "      <td>NaN</td>\n",
       "      <td>0</td>\n",
       "    </tr>\n",
       "    <tr>\n",
       "      <th>26440</th>\n",
       "      <td>NaN</td>\n",
       "      <td>0</td>\n",
       "    </tr>\n",
       "    <tr>\n",
       "      <th>29100</th>\n",
       "      <td>NaN</td>\n",
       "      <td>0</td>\n",
       "    </tr>\n",
       "    <tr>\n",
       "      <th>31095</th>\n",
       "      <td>NaN</td>\n",
       "      <td>0</td>\n",
       "    </tr>\n",
       "    <tr>\n",
       "      <th>33097</th>\n",
       "      <td>NaN</td>\n",
       "      <td>0</td>\n",
       "    </tr>\n",
       "    <tr>\n",
       "      <th>33514</th>\n",
       "      <td>NaN</td>\n",
       "      <td>0</td>\n",
       "    </tr>\n",
       "    <tr>\n",
       "      <th>34110</th>\n",
       "      <td>NaN</td>\n",
       "      <td>0</td>\n",
       "    </tr>\n",
       "    <tr>\n",
       "      <th>35103</th>\n",
       "      <td>NaN</td>\n",
       "      <td>0</td>\n",
       "    </tr>\n",
       "    <tr>\n",
       "      <th>35444</th>\n",
       "      <td>NaN</td>\n",
       "      <td>0</td>\n",
       "    </tr>\n",
       "    <tr>\n",
       "      <th>36860</th>\n",
       "      <td>NaN</td>\n",
       "      <td>0</td>\n",
       "    </tr>\n",
       "    <tr>\n",
       "      <th>38282</th>\n",
       "      <td>NaN</td>\n",
       "      <td>0</td>\n",
       "    </tr>\n",
       "    <tr>\n",
       "      <th>38319</th>\n",
       "      <td>NaN</td>\n",
       "      <td>0</td>\n",
       "    </tr>\n",
       "  </tbody>\n",
       "</table>\n",
       "</div>"
      ],
      "text/plain": [
       "      text  label\n",
       "977    NaN      0\n",
       "1127   NaN      0\n",
       "2426   NaN      0\n",
       "2924   NaN      0\n",
       "3077   NaN      0\n",
       "4103   NaN      0\n",
       "4489   NaN      0\n",
       "6362   NaN      0\n",
       "6366   NaN      0\n",
       "7027   NaN      0\n",
       "7386   NaN      0\n",
       "7948   NaN      0\n",
       "8463   NaN      0\n",
       "9178   NaN      0\n",
       "9719   NaN      0\n",
       "10107  NaN      0\n",
       "10570  NaN      0\n",
       "11704  NaN      0\n",
       "12406  NaN      0\n",
       "12580  NaN      0\n",
       "12814  NaN      0\n",
       "12819  NaN      0\n",
       "13281  NaN      0\n",
       "13518  NaN      0\n",
       "14338  NaN      0\n",
       "15181  NaN      0\n",
       "15333  NaN      0\n",
       "15380  NaN      0\n",
       "15687  NaN      0\n",
       "15859  NaN      0\n",
       "15974  NaN      0\n",
       "16711  NaN      0\n",
       "17199  NaN      0\n",
       "18051  NaN      0\n",
       "18295  NaN      0\n",
       "19464  NaN      0\n",
       "19658  NaN      0\n",
       "19813  NaN      0\n",
       "19856  NaN      0\n",
       "21447  NaN      0\n",
       "25461  NaN      0\n",
       "26440  NaN      0\n",
       "29100  NaN      0\n",
       "31095  NaN      0\n",
       "33097  NaN      0\n",
       "33514  NaN      0\n",
       "34110  NaN      0\n",
       "35103  NaN      0\n",
       "35444  NaN      0\n",
       "36860  NaN      0\n",
       "38282  NaN      0\n",
       "38319  NaN      0"
      ]
     },
     "execution_count": 7,
     "metadata": {},
     "output_type": "execute_result"
    }
   ],
   "source": [
    "find_na = df[df['text'].isna()]\n",
    "find_na"
   ]
  },
  {
   "cell_type": "code",
   "execution_count": 8,
   "id": "cf2372ca-659b-4412-9b4d-be934ce5433a",
   "metadata": {},
   "outputs": [],
   "source": [
    "df = df.dropna(subset=['text'])"
   ]
  },
  {
   "cell_type": "code",
   "execution_count": 10,
   "id": "0103a920-dfd2-456e-8106-9d844003e679",
   "metadata": {},
   "outputs": [
    {
     "data": {
      "text/html": [
       "<div>\n",
       "<style scoped>\n",
       "    .dataframe tbody tr th:only-of-type {\n",
       "        vertical-align: middle;\n",
       "    }\n",
       "\n",
       "    .dataframe tbody tr th {\n",
       "        vertical-align: top;\n",
       "    }\n",
       "\n",
       "    .dataframe thead th {\n",
       "        text-align: right;\n",
       "    }\n",
       "</style>\n",
       "<table border=\"1\" class=\"dataframe\">\n",
       "  <thead>\n",
       "    <tr style=\"text-align: right;\">\n",
       "      <th></th>\n",
       "      <th>text</th>\n",
       "      <th>label</th>\n",
       "    </tr>\n",
       "  </thead>\n",
       "  <tbody>\n",
       "  </tbody>\n",
       "</table>\n",
       "</div>"
      ],
      "text/plain": [
       "Empty DataFrame\n",
       "Columns: [text, label]\n",
       "Index: []"
      ]
     },
     "execution_count": 10,
     "metadata": {},
     "output_type": "execute_result"
    }
   ],
   "source": [
    "find_na = df[df['text'].isna()]\n",
    "find_na"
   ]
  },
  {
   "cell_type": "markdown",
   "id": "255e7585-5ddd-4e55-b5f8-f8bad2802ab2",
   "metadata": {},
   "source": [
    "### Train/Test Split"
   ]
  },
  {
   "cell_type": "code",
   "execution_count": 12,
   "id": "adc8287a-fb03-4ea8-a4c7-ba33ef54dbae",
   "metadata": {},
   "outputs": [],
   "source": [
    "from sklearn.model_selection import train_test_split"
   ]
  },
  {
   "cell_type": "code",
   "execution_count": 13,
   "id": "a0e450aa-7480-4c49-84ae-b85e32b1d181",
   "metadata": {},
   "outputs": [],
   "source": [
    "df_train, df_test = train_test_split(df, test_size = 0.2)"
   ]
  },
  {
   "cell_type": "code",
   "execution_count": 14,
   "id": "8b93bf84-6b14-414d-820f-09c9bc789de3",
   "metadata": {},
   "outputs": [
    {
     "data": {
      "text/plain": [
       "61752"
      ]
     },
     "execution_count": 14,
     "metadata": {},
     "output_type": "execute_result"
    }
   ],
   "source": [
    "df_train.size"
   ]
  },
  {
   "cell_type": "code",
   "execution_count": 15,
   "id": "b29070a2-20ad-4a1e-a96b-efdc390844a0",
   "metadata": {},
   "outputs": [
    {
     "data": {
      "text/plain": [
       "15438"
      ]
     },
     "execution_count": 15,
     "metadata": {},
     "output_type": "execute_result"
    }
   ],
   "source": [
    "df_test.size"
   ]
  },
  {
   "cell_type": "markdown",
   "id": "d09200f5-7eaa-448e-81ad-784cfa9fe377",
   "metadata": {},
   "source": [
    "### Convert to Huggingface Dataset"
   ]
  },
  {
   "cell_type": "code",
   "execution_count": 17,
   "id": "8981253d-12e0-4903-a354-89a827399a42",
   "metadata": {},
   "outputs": [],
   "source": [
    "from datasets import Dataset"
   ]
  },
  {
   "cell_type": "code",
   "execution_count": 18,
   "id": "3ed2d5b1-34d0-42a1-b7c9-6a538e802d03",
   "metadata": {},
   "outputs": [],
   "source": [
    "train_dataset = Dataset.from_pandas(df_train)\n",
    "test_dataset = Dataset.from_pandas(df_test)"
   ]
  },
  {
   "cell_type": "markdown",
   "id": "f270419f-a92b-4b0b-9dfe-dbd47feaad9e",
   "metadata": {},
   "source": [
    "### Tokenizer"
   ]
  },
  {
   "cell_type": "code",
   "execution_count": null,
   "id": "7cac62fe-20a2-4a1c-a0e4-2714aaec3689",
   "metadata": {},
   "outputs": [],
   "source": []
  },
  {
   "cell_type": "markdown",
   "id": "5ce9c83f-be8c-4a41-b92d-f28c65be1c19",
   "metadata": {},
   "source": [
    "# 3. Initialize model"
   ]
  },
  {
   "cell_type": "markdown",
   "id": "b3212544-ad29-4154-aaee-96bf455ce7cf",
   "metadata": {},
   "source": [
    "# 4. Train model"
   ]
  },
  {
   "cell_type": "markdown",
   "id": "24a7273f-e251-4960-815d-c921755ddb00",
   "metadata": {},
   "source": [
    "# 5. Evaluate model"
   ]
  },
  {
   "cell_type": "code",
   "execution_count": null,
   "id": "6a174a5c-593d-484e-a158-9d8345836327",
   "metadata": {},
   "outputs": [],
   "source": []
  }
 ],
 "metadata": {
  "kernelspec": {
   "display_name": "Python 3 (ipykernel)",
   "language": "python",
   "name": "python3"
  },
  "language_info": {
   "codemirror_mode": {
    "name": "ipython",
    "version": 3
   },
   "file_extension": ".py",
   "mimetype": "text/x-python",
   "name": "python",
   "nbconvert_exporter": "python",
   "pygments_lexer": "ipython3",
   "version": "3.12.4"
  }
 },
 "nbformat": 4,
 "nbformat_minor": 5
}
