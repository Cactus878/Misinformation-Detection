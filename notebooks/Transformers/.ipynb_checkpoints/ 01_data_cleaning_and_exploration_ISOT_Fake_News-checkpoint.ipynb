{
 "cells": [
  {
   "cell_type": "code",
   "execution_count": 1,
   "id": "5da903ca-21ae-41b4-9ae3-29f0f900f0db",
   "metadata": {},
   "outputs": [],
   "source": [
    "import pandas as pd\n",
    "import seaborn as sns\n",
    "import matplotlib.pyplot as plt"
   ]
  },
  {
   "cell_type": "code",
   "execution_count": 2,
   "id": "ac0f4660-6f26-4e60-bf68-1ff84e180211",
   "metadata": {},
   "outputs": [],
   "source": [
    "base_path = \"../data/ISOT_Fake_News/\"\n",
    "\n",
    "fake_df = pd.read_csv(f\"{base_path}Fake.csv\")\n",
    "true_df   = pd.read_csv(f\"{base_path}True.csv\")"
   ]
  },
  {
   "cell_type": "code",
   "execution_count": 3,
   "id": "e6f513ac-2967-49c6-9f4d-58a4af3c08d9",
   "metadata": {},
   "outputs": [
    {
     "data": {
      "text/html": [
       "<div>\n",
       "<style scoped>\n",
       "    .dataframe tbody tr th:only-of-type {\n",
       "        vertical-align: middle;\n",
       "    }\n",
       "\n",
       "    .dataframe tbody tr th {\n",
       "        vertical-align: top;\n",
       "    }\n",
       "\n",
       "    .dataframe thead th {\n",
       "        text-align: right;\n",
       "    }\n",
       "</style>\n",
       "<table border=\"1\" class=\"dataframe\">\n",
       "  <thead>\n",
       "    <tr style=\"text-align: right;\">\n",
       "      <th></th>\n",
       "      <th>title</th>\n",
       "      <th>text</th>\n",
       "      <th>subject</th>\n",
       "      <th>date</th>\n",
       "    </tr>\n",
       "  </thead>\n",
       "  <tbody>\n",
       "    <tr>\n",
       "      <th>0</th>\n",
       "      <td>Donald Trump Sends Out Embarrassing New Year’...</td>\n",
       "      <td>Donald Trump just couldn t wish all Americans ...</td>\n",
       "      <td>News</td>\n",
       "      <td>December 31, 2017</td>\n",
       "    </tr>\n",
       "    <tr>\n",
       "      <th>1</th>\n",
       "      <td>Drunk Bragging Trump Staffer Started Russian ...</td>\n",
       "      <td>House Intelligence Committee Chairman Devin Nu...</td>\n",
       "      <td>News</td>\n",
       "      <td>December 31, 2017</td>\n",
       "    </tr>\n",
       "    <tr>\n",
       "      <th>2</th>\n",
       "      <td>Sheriff David Clarke Becomes An Internet Joke...</td>\n",
       "      <td>On Friday, it was revealed that former Milwauk...</td>\n",
       "      <td>News</td>\n",
       "      <td>December 30, 2017</td>\n",
       "    </tr>\n",
       "    <tr>\n",
       "      <th>3</th>\n",
       "      <td>Trump Is So Obsessed He Even Has Obama’s Name...</td>\n",
       "      <td>On Christmas day, Donald Trump announced that ...</td>\n",
       "      <td>News</td>\n",
       "      <td>December 29, 2017</td>\n",
       "    </tr>\n",
       "    <tr>\n",
       "      <th>4</th>\n",
       "      <td>Pope Francis Just Called Out Donald Trump Dur...</td>\n",
       "      <td>Pope Francis used his annual Christmas Day mes...</td>\n",
       "      <td>News</td>\n",
       "      <td>December 25, 2017</td>\n",
       "    </tr>\n",
       "  </tbody>\n",
       "</table>\n",
       "</div>"
      ],
      "text/plain": [
       "                                               title  \\\n",
       "0   Donald Trump Sends Out Embarrassing New Year’...   \n",
       "1   Drunk Bragging Trump Staffer Started Russian ...   \n",
       "2   Sheriff David Clarke Becomes An Internet Joke...   \n",
       "3   Trump Is So Obsessed He Even Has Obama’s Name...   \n",
       "4   Pope Francis Just Called Out Donald Trump Dur...   \n",
       "\n",
       "                                                text subject  \\\n",
       "0  Donald Trump just couldn t wish all Americans ...    News   \n",
       "1  House Intelligence Committee Chairman Devin Nu...    News   \n",
       "2  On Friday, it was revealed that former Milwauk...    News   \n",
       "3  On Christmas day, Donald Trump announced that ...    News   \n",
       "4  Pope Francis used his annual Christmas Day mes...    News   \n",
       "\n",
       "                date  \n",
       "0  December 31, 2017  \n",
       "1  December 31, 2017  \n",
       "2  December 30, 2017  \n",
       "3  December 29, 2017  \n",
       "4  December 25, 2017  "
      ]
     },
     "execution_count": 3,
     "metadata": {},
     "output_type": "execute_result"
    }
   ],
   "source": [
    "fake_df.head()"
   ]
  },
  {
   "cell_type": "code",
   "execution_count": 4,
   "id": "3b081169-e626-48a1-8e2f-dd2d9cc1ddc1",
   "metadata": {},
   "outputs": [
    {
     "data": {
      "text/html": [
       "<div>\n",
       "<style scoped>\n",
       "    .dataframe tbody tr th:only-of-type {\n",
       "        vertical-align: middle;\n",
       "    }\n",
       "\n",
       "    .dataframe tbody tr th {\n",
       "        vertical-align: top;\n",
       "    }\n",
       "\n",
       "    .dataframe thead th {\n",
       "        text-align: right;\n",
       "    }\n",
       "</style>\n",
       "<table border=\"1\" class=\"dataframe\">\n",
       "  <thead>\n",
       "    <tr style=\"text-align: right;\">\n",
       "      <th></th>\n",
       "      <th>title</th>\n",
       "      <th>text</th>\n",
       "      <th>subject</th>\n",
       "      <th>date</th>\n",
       "    </tr>\n",
       "  </thead>\n",
       "  <tbody>\n",
       "    <tr>\n",
       "      <th>0</th>\n",
       "      <td>As U.S. budget fight looms, Republicans flip t...</td>\n",
       "      <td>WASHINGTON (Reuters) - The head of a conservat...</td>\n",
       "      <td>politicsNews</td>\n",
       "      <td>December 31, 2017</td>\n",
       "    </tr>\n",
       "    <tr>\n",
       "      <th>1</th>\n",
       "      <td>U.S. military to accept transgender recruits o...</td>\n",
       "      <td>WASHINGTON (Reuters) - Transgender people will...</td>\n",
       "      <td>politicsNews</td>\n",
       "      <td>December 29, 2017</td>\n",
       "    </tr>\n",
       "    <tr>\n",
       "      <th>2</th>\n",
       "      <td>Senior U.S. Republican senator: 'Let Mr. Muell...</td>\n",
       "      <td>WASHINGTON (Reuters) - The special counsel inv...</td>\n",
       "      <td>politicsNews</td>\n",
       "      <td>December 31, 2017</td>\n",
       "    </tr>\n",
       "    <tr>\n",
       "      <th>3</th>\n",
       "      <td>FBI Russia probe helped by Australian diplomat...</td>\n",
       "      <td>WASHINGTON (Reuters) - Trump campaign adviser ...</td>\n",
       "      <td>politicsNews</td>\n",
       "      <td>December 30, 2017</td>\n",
       "    </tr>\n",
       "    <tr>\n",
       "      <th>4</th>\n",
       "      <td>Trump wants Postal Service to charge 'much mor...</td>\n",
       "      <td>SEATTLE/WASHINGTON (Reuters) - President Donal...</td>\n",
       "      <td>politicsNews</td>\n",
       "      <td>December 29, 2017</td>\n",
       "    </tr>\n",
       "  </tbody>\n",
       "</table>\n",
       "</div>"
      ],
      "text/plain": [
       "                                               title  \\\n",
       "0  As U.S. budget fight looms, Republicans flip t...   \n",
       "1  U.S. military to accept transgender recruits o...   \n",
       "2  Senior U.S. Republican senator: 'Let Mr. Muell...   \n",
       "3  FBI Russia probe helped by Australian diplomat...   \n",
       "4  Trump wants Postal Service to charge 'much mor...   \n",
       "\n",
       "                                                text       subject  \\\n",
       "0  WASHINGTON (Reuters) - The head of a conservat...  politicsNews   \n",
       "1  WASHINGTON (Reuters) - Transgender people will...  politicsNews   \n",
       "2  WASHINGTON (Reuters) - The special counsel inv...  politicsNews   \n",
       "3  WASHINGTON (Reuters) - Trump campaign adviser ...  politicsNews   \n",
       "4  SEATTLE/WASHINGTON (Reuters) - President Donal...  politicsNews   \n",
       "\n",
       "                 date  \n",
       "0  December 31, 2017   \n",
       "1  December 29, 2017   \n",
       "2  December 31, 2017   \n",
       "3  December 30, 2017   \n",
       "4  December 29, 2017   "
      ]
     },
     "execution_count": 4,
     "metadata": {},
     "output_type": "execute_result"
    }
   ],
   "source": [
    "true_df.head()"
   ]
  },
  {
   "cell_type": "code",
   "execution_count": 5,
   "id": "235d587a-30cf-4153-b248-c00a7c53ebf7",
   "metadata": {},
   "outputs": [],
   "source": [
    "# Add label column to display what information is fake and what is true\n",
    "true_df['label'] = 1\n",
    "fake_df['label'] = 0"
   ]
  },
  {
   "cell_type": "code",
   "execution_count": 6,
   "id": "4710def2-3541-44ad-a980-03603af5da6d",
   "metadata": {},
   "outputs": [],
   "source": [
    "df = pd.concat([fake_df, true_df])"
   ]
  },
  {
   "cell_type": "code",
   "execution_count": 7,
   "id": "cc7fcc95-513c-450c-ada5-6e83c97e62e1",
   "metadata": {},
   "outputs": [
    {
     "data": {
      "text/html": [
       "<div>\n",
       "<style scoped>\n",
       "    .dataframe tbody tr th:only-of-type {\n",
       "        vertical-align: middle;\n",
       "    }\n",
       "\n",
       "    .dataframe tbody tr th {\n",
       "        vertical-align: top;\n",
       "    }\n",
       "\n",
       "    .dataframe thead th {\n",
       "        text-align: right;\n",
       "    }\n",
       "</style>\n",
       "<table border=\"1\" class=\"dataframe\">\n",
       "  <thead>\n",
       "    <tr style=\"text-align: right;\">\n",
       "      <th></th>\n",
       "      <th>title</th>\n",
       "      <th>text</th>\n",
       "      <th>subject</th>\n",
       "      <th>date</th>\n",
       "      <th>label</th>\n",
       "    </tr>\n",
       "  </thead>\n",
       "  <tbody>\n",
       "    <tr>\n",
       "      <th>0</th>\n",
       "      <td>Donald Trump Sends Out Embarrassing New Year’...</td>\n",
       "      <td>Donald Trump just couldn t wish all Americans ...</td>\n",
       "      <td>News</td>\n",
       "      <td>December 31, 2017</td>\n",
       "      <td>0</td>\n",
       "    </tr>\n",
       "    <tr>\n",
       "      <th>1</th>\n",
       "      <td>Drunk Bragging Trump Staffer Started Russian ...</td>\n",
       "      <td>House Intelligence Committee Chairman Devin Nu...</td>\n",
       "      <td>News</td>\n",
       "      <td>December 31, 2017</td>\n",
       "      <td>0</td>\n",
       "    </tr>\n",
       "    <tr>\n",
       "      <th>2</th>\n",
       "      <td>Sheriff David Clarke Becomes An Internet Joke...</td>\n",
       "      <td>On Friday, it was revealed that former Milwauk...</td>\n",
       "      <td>News</td>\n",
       "      <td>December 30, 2017</td>\n",
       "      <td>0</td>\n",
       "    </tr>\n",
       "    <tr>\n",
       "      <th>3</th>\n",
       "      <td>Trump Is So Obsessed He Even Has Obama’s Name...</td>\n",
       "      <td>On Christmas day, Donald Trump announced that ...</td>\n",
       "      <td>News</td>\n",
       "      <td>December 29, 2017</td>\n",
       "      <td>0</td>\n",
       "    </tr>\n",
       "    <tr>\n",
       "      <th>4</th>\n",
       "      <td>Pope Francis Just Called Out Donald Trump Dur...</td>\n",
       "      <td>Pope Francis used his annual Christmas Day mes...</td>\n",
       "      <td>News</td>\n",
       "      <td>December 25, 2017</td>\n",
       "      <td>0</td>\n",
       "    </tr>\n",
       "    <tr>\n",
       "      <th>...</th>\n",
       "      <td>...</td>\n",
       "      <td>...</td>\n",
       "      <td>...</td>\n",
       "      <td>...</td>\n",
       "      <td>...</td>\n",
       "    </tr>\n",
       "    <tr>\n",
       "      <th>21412</th>\n",
       "      <td>'Fully committed' NATO backs new U.S. approach...</td>\n",
       "      <td>BRUSSELS (Reuters) - NATO allies on Tuesday we...</td>\n",
       "      <td>worldnews</td>\n",
       "      <td>August 22, 2017</td>\n",
       "      <td>1</td>\n",
       "    </tr>\n",
       "    <tr>\n",
       "      <th>21413</th>\n",
       "      <td>LexisNexis withdrew two products from Chinese ...</td>\n",
       "      <td>LONDON (Reuters) - LexisNexis, a provider of l...</td>\n",
       "      <td>worldnews</td>\n",
       "      <td>August 22, 2017</td>\n",
       "      <td>1</td>\n",
       "    </tr>\n",
       "    <tr>\n",
       "      <th>21414</th>\n",
       "      <td>Minsk cultural hub becomes haven from authorities</td>\n",
       "      <td>MINSK (Reuters) - In the shadow of disused Sov...</td>\n",
       "      <td>worldnews</td>\n",
       "      <td>August 22, 2017</td>\n",
       "      <td>1</td>\n",
       "    </tr>\n",
       "    <tr>\n",
       "      <th>21415</th>\n",
       "      <td>Vatican upbeat on possibility of Pope Francis ...</td>\n",
       "      <td>MOSCOW (Reuters) - Vatican Secretary of State ...</td>\n",
       "      <td>worldnews</td>\n",
       "      <td>August 22, 2017</td>\n",
       "      <td>1</td>\n",
       "    </tr>\n",
       "    <tr>\n",
       "      <th>21416</th>\n",
       "      <td>Indonesia to buy $1.14 billion worth of Russia...</td>\n",
       "      <td>JAKARTA (Reuters) - Indonesia will buy 11 Sukh...</td>\n",
       "      <td>worldnews</td>\n",
       "      <td>August 22, 2017</td>\n",
       "      <td>1</td>\n",
       "    </tr>\n",
       "  </tbody>\n",
       "</table>\n",
       "<p>44898 rows × 5 columns</p>\n",
       "</div>"
      ],
      "text/plain": [
       "                                                   title  \\\n",
       "0       Donald Trump Sends Out Embarrassing New Year’...   \n",
       "1       Drunk Bragging Trump Staffer Started Russian ...   \n",
       "2       Sheriff David Clarke Becomes An Internet Joke...   \n",
       "3       Trump Is So Obsessed He Even Has Obama’s Name...   \n",
       "4       Pope Francis Just Called Out Donald Trump Dur...   \n",
       "...                                                  ...   \n",
       "21412  'Fully committed' NATO backs new U.S. approach...   \n",
       "21413  LexisNexis withdrew two products from Chinese ...   \n",
       "21414  Minsk cultural hub becomes haven from authorities   \n",
       "21415  Vatican upbeat on possibility of Pope Francis ...   \n",
       "21416  Indonesia to buy $1.14 billion worth of Russia...   \n",
       "\n",
       "                                                    text    subject  \\\n",
       "0      Donald Trump just couldn t wish all Americans ...       News   \n",
       "1      House Intelligence Committee Chairman Devin Nu...       News   \n",
       "2      On Friday, it was revealed that former Milwauk...       News   \n",
       "3      On Christmas day, Donald Trump announced that ...       News   \n",
       "4      Pope Francis used his annual Christmas Day mes...       News   \n",
       "...                                                  ...        ...   \n",
       "21412  BRUSSELS (Reuters) - NATO allies on Tuesday we...  worldnews   \n",
       "21413  LONDON (Reuters) - LexisNexis, a provider of l...  worldnews   \n",
       "21414  MINSK (Reuters) - In the shadow of disused Sov...  worldnews   \n",
       "21415  MOSCOW (Reuters) - Vatican Secretary of State ...  worldnews   \n",
       "21416  JAKARTA (Reuters) - Indonesia will buy 11 Sukh...  worldnews   \n",
       "\n",
       "                    date  label  \n",
       "0      December 31, 2017      0  \n",
       "1      December 31, 2017      0  \n",
       "2      December 30, 2017      0  \n",
       "3      December 29, 2017      0  \n",
       "4      December 25, 2017      0  \n",
       "...                  ...    ...  \n",
       "21412   August 22, 2017       1  \n",
       "21413   August 22, 2017       1  \n",
       "21414   August 22, 2017       1  \n",
       "21415   August 22, 2017       1  \n",
       "21416   August 22, 2017       1  \n",
       "\n",
       "[44898 rows x 5 columns]"
      ]
     },
     "execution_count": 7,
     "metadata": {},
     "output_type": "execute_result"
    }
   ],
   "source": [
    "df"
   ]
  },
  {
   "cell_type": "code",
   "execution_count": 8,
   "id": "5b5443c8-a048-417e-a801-e28e9aee6d69",
   "metadata": {},
   "outputs": [
    {
     "data": {
      "text/plain": [
       "Index(['title', 'text', 'subject', 'date', 'label'], dtype='object')"
      ]
     },
     "execution_count": 8,
     "metadata": {},
     "output_type": "execute_result"
    }
   ],
   "source": [
    "df.columns"
   ]
  },
  {
   "cell_type": "code",
   "execution_count": 9,
   "id": "40956940-7e7f-44b8-925e-0b439a7324d3",
   "metadata": {},
   "outputs": [
    {
     "data": {
      "text/plain": [
       "209"
      ]
     },
     "execution_count": 9,
     "metadata": {},
     "output_type": "execute_result"
    }
   ],
   "source": [
    "# Check any duplications\n",
    "df.duplicated().sum()"
   ]
  },
  {
   "cell_type": "code",
   "execution_count": 11,
   "id": "4b0ee8dd-298e-4a44-ae39-b7a269291fd7",
   "metadata": {},
   "outputs": [
    {
     "data": {
      "text/plain": [
       "3"
      ]
     },
     "execution_count": 11,
     "metadata": {},
     "output_type": "execute_result"
    }
   ],
   "source": [
    "fake_df.duplicated().sum()"
   ]
  },
  {
   "cell_type": "code",
   "execution_count": 12,
   "id": "a345d7cc-21ef-4830-a793-3273940c171b",
   "metadata": {},
   "outputs": [
    {
     "data": {
      "text/plain": [
       "206"
      ]
     },
     "execution_count": 12,
     "metadata": {},
     "output_type": "execute_result"
    }
   ],
   "source": [
    "true_df.duplicated().sum()"
   ]
  },
  {
   "cell_type": "code",
   "execution_count": 13,
   "id": "807138c8-b14c-42cc-b60a-b57c5062632f",
   "metadata": {},
   "outputs": [
    {
     "data": {
      "text/plain": [
       "<Axes: ylabel='subject'>"
      ]
     },
     "execution_count": 13,
     "metadata": {},
     "output_type": "execute_result"
    },
    {
     "data": {
      "image/png": "[encoded data removed]",
      "text/plain": [
       "<Figure size 640x480 with 1 Axes>"
      ]
     },
     "metadata": {},
     "output_type": "display_data"
    }
   ],
   "source": [
    "sns.barplot(df['subject'], legend=False)"
   ]
  },
  {
   "cell_type": "code",
   "execution_count": 14,
   "id": "6a3be113-9fc4-43c6-9acc-899da7a1712d",
   "metadata": {},
   "outputs": [
    {
     "data": {
      "text/html": [
       "<div>\n",
       "<style scoped>\n",
       "    .dataframe tbody tr th:only-of-type {\n",
       "        vertical-align: middle;\n",
       "    }\n",
       "\n",
       "    .dataframe tbody tr th {\n",
       "        vertical-align: top;\n",
       "    }\n",
       "\n",
       "    .dataframe thead th {\n",
       "        text-align: right;\n",
       "    }\n",
       "</style>\n",
       "<table border=\"1\" class=\"dataframe\">\n",
       "  <thead>\n",
       "    <tr style=\"text-align: right;\">\n",
       "      <th></th>\n",
       "      <th>subject</th>\n",
       "      <th>label</th>\n",
       "      <th>count</th>\n",
       "    </tr>\n",
       "  </thead>\n",
       "  <tbody>\n",
       "    <tr>\n",
       "      <th>0</th>\n",
       "      <td>Government News</td>\n",
       "      <td>0</td>\n",
       "      <td>1570</td>\n",
       "    </tr>\n",
       "    <tr>\n",
       "      <th>1</th>\n",
       "      <td>Middle-east</td>\n",
       "      <td>0</td>\n",
       "      <td>778</td>\n",
       "    </tr>\n",
       "    <tr>\n",
       "      <th>2</th>\n",
       "      <td>News</td>\n",
       "      <td>0</td>\n",
       "      <td>9050</td>\n",
       "    </tr>\n",
       "    <tr>\n",
       "      <th>3</th>\n",
       "      <td>US_News</td>\n",
       "      <td>0</td>\n",
       "      <td>783</td>\n",
       "    </tr>\n",
       "    <tr>\n",
       "      <th>4</th>\n",
       "      <td>left-news</td>\n",
       "      <td>0</td>\n",
       "      <td>4459</td>\n",
       "    </tr>\n",
       "    <tr>\n",
       "      <th>5</th>\n",
       "      <td>politics</td>\n",
       "      <td>0</td>\n",
       "      <td>6841</td>\n",
       "    </tr>\n",
       "    <tr>\n",
       "      <th>6</th>\n",
       "      <td>politicsNews</td>\n",
       "      <td>1</td>\n",
       "      <td>11272</td>\n",
       "    </tr>\n",
       "    <tr>\n",
       "      <th>7</th>\n",
       "      <td>worldnews</td>\n",
       "      <td>1</td>\n",
       "      <td>10145</td>\n",
       "    </tr>\n",
       "  </tbody>\n",
       "</table>\n",
       "</div>"
      ],
      "text/plain": [
       "           subject  label  count\n",
       "0  Government News      0   1570\n",
       "1      Middle-east      0    778\n",
       "2             News      0   9050\n",
       "3          US_News      0    783\n",
       "4        left-news      0   4459\n",
       "5         politics      0   6841\n",
       "6     politicsNews      1  11272\n",
       "7        worldnews      1  10145"
      ]
     },
     "execution_count": 14,
     "metadata": {},
     "output_type": "execute_result"
    }
   ],
   "source": [
    "group = df.groupby(['subject', 'label']).size().reset_index(name='count')\n",
    "group"
   ]
  },
  {
   "cell_type": "code",
   "execution_count": 15,
   "id": "b0805b97-62d9-4e2f-8a1a-73a4294351a1",
   "metadata": {},
   "outputs": [
    {
     "data": {
      "image/png": "[encoded data removed]",
      "text/plain": [
       "<Figure size 1000x600 with 1 Axes>"
      ]
     },
     "metadata": {},
     "output_type": "display_data"
    }
   ],
   "source": [
    "plt.figure(figsize=(10, 6))\n",
    "sns.barplot(group, x='subject', y='count', hue='label')\n",
    "plt.show()"
   ]
  },
  {
   "cell_type": "markdown",
   "id": "000403ed-1151-46ea-8c83-00a060052e12",
   "metadata": {},
   "source": [
    "## Text Cleaning\n",
    "### 1. Remove HTML in texts"
   ]
  },
  {
   "cell_type": "code",
   "execution_count": 17,
   "id": "d4a2e07d-9f56-4453-bd19-9d1a35594864",
   "metadata": {},
   "outputs": [
    {
     "name": "stderr",
     "output_type": "stream",
     "text": [
      "C:\\Users\\yanni\\AppData\\Local\\Temp\\ipykernel_39420\\1097152562.py:2: MarkupResemblesLocatorWarning: The input looks more like a URL than markup. You may want to use an HTTP client like requests to get the document behind the URL, and feed that document to Beautiful Soup.\n",
      "  has_html = df[df['text'].apply(lambda x: bool(BeautifulSoup(x, \"html.parser\").find()))]\n",
      "C:\\Users\\yanni\\AppData\\Local\\Temp\\ipykernel_39420\\1097152562.py:2: MarkupResemblesLocatorWarning: The input looks more like a filename than markup. You may want to open this file and pass the filehandle into Beautiful Soup.\n",
      "  has_html = df[df['text'].apply(lambda x: bool(BeautifulSoup(x, \"html.parser\").find()))]\n"
     ]
    }
   ],
   "source": [
    "from bs4 import BeautifulSoup\n",
    "has_html = df[df['text'].apply(lambda x: bool(BeautifulSoup(x, \"html.parser\").find()))]"
   ]
  },
  {
   "cell_type": "code",
   "execution_count": 18,
   "id": "8a99e75c-ed7d-42b4-9318-eae18db58087",
   "metadata": {},
   "outputs": [
    {
     "data": {
      "text/html": [
       "<div>\n",
       "<style scoped>\n",
       "    .dataframe tbody tr th:only-of-type {\n",
       "        vertical-align: middle;\n",
       "    }\n",
       "\n",
       "    .dataframe tbody tr th {\n",
       "        vertical-align: top;\n",
       "    }\n",
       "\n",
       "    .dataframe thead th {\n",
       "        text-align: right;\n",
       "    }\n",
       "</style>\n",
       "<table border=\"1\" class=\"dataframe\">\n",
       "  <thead>\n",
       "    <tr style=\"text-align: right;\">\n",
       "      <th></th>\n",
       "      <th>title</th>\n",
       "      <th>text</th>\n",
       "      <th>subject</th>\n",
       "      <th>date</th>\n",
       "      <th>label</th>\n",
       "    </tr>\n",
       "  </thead>\n",
       "  <tbody>\n",
       "    <tr>\n",
       "      <th>1153</th>\n",
       "      <td>Snowflake Trump Demands An Apology From The M...</td>\n",
       "      <td>Donald Trump went on a whining rant about the ...</td>\n",
       "      <td>News</td>\n",
       "      <td>June 13, 2017</td>\n",
       "      <td>0</td>\n",
       "    </tr>\n",
       "    <tr>\n",
       "      <th>2597</th>\n",
       "      <td>Hillary Clinton Just Dropped The MIC On Trump...</td>\n",
       "      <td>On Thursday, Donald Trump was devastated after...</td>\n",
       "      <td>News</td>\n",
       "      <td>February 9, 2017</td>\n",
       "      <td>0</td>\n",
       "    </tr>\n",
       "    <tr>\n",
       "      <th>4122</th>\n",
       "      <td>Ivanka Just Threw Her Father Under The Campai...</td>\n",
       "      <td>Hours before the third and final presidential ...</td>\n",
       "      <td>News</td>\n",
       "      <td>October 19, 2016</td>\n",
       "      <td>0</td>\n",
       "    </tr>\n",
       "    <tr>\n",
       "      <th>4839</th>\n",
       "      <td>Trumpkins Seriously Think Their Hero Will Ret...</td>\n",
       "      <td>This is so horribly amazing that it defies des...</td>\n",
       "      <td>News</td>\n",
       "      <td>August 31, 2016</td>\n",
       "      <td>0</td>\n",
       "    </tr>\n",
       "    <tr>\n",
       "      <th>6612</th>\n",
       "      <td>Obama Invades Iran With A Moderate Reformist ...</td>\n",
       "      <td>How many times more are we going to get to say...</td>\n",
       "      <td>News</td>\n",
       "      <td>May 1, 2016</td>\n",
       "      <td>0</td>\n",
       "    </tr>\n",
       "    <tr>\n",
       "      <th>7056</th>\n",
       "      <td>Am I Voting For Hillary Because She’s A Woman...</td>\n",
       "      <td>When approached by countless people if I m a H...</td>\n",
       "      <td>News</td>\n",
       "      <td>April 6, 2016</td>\n",
       "      <td>0</td>\n",
       "    </tr>\n",
       "    <tr>\n",
       "      <th>7602</th>\n",
       "      <td>Trump’s Using This Shady, Sneaky Tactic To Th...</td>\n",
       "      <td>Donald Trump s campaign has hit a new low   as...</td>\n",
       "      <td>News</td>\n",
       "      <td>March 9, 2016</td>\n",
       "      <td>0</td>\n",
       "    </tr>\n",
       "    <tr>\n",
       "      <th>7675</th>\n",
       "      <td>Bernie Sanders Releases Mini-Documentary On F...</td>\n",
       "      <td>Today, Senator Bernie Sanders released a new c...</td>\n",
       "      <td>News</td>\n",
       "      <td>March 5, 2016</td>\n",
       "      <td>0</td>\n",
       "    </tr>\n",
       "    <tr>\n",
       "      <th>7715</th>\n",
       "      <td>Fed Up Republicans Threaten Third Party Optio...</td>\n",
       "      <td>I ve been saying for a long time now that the ...</td>\n",
       "      <td>News</td>\n",
       "      <td>March 3, 2016</td>\n",
       "      <td>0</td>\n",
       "    </tr>\n",
       "    <tr>\n",
       "      <th>7814</th>\n",
       "      <td>Hillary Completely SMASHES Donald Trump’s Bul...</td>\n",
       "      <td>Not holding back one bit after her absolute vi...</td>\n",
       "      <td>News</td>\n",
       "      <td>February 27, 2016</td>\n",
       "      <td>0</td>\n",
       "    </tr>\n",
       "    <tr>\n",
       "      <th>7869</th>\n",
       "      <td>See Who Sarah Palin Just Compared Donald Trum...</td>\n",
       "      <td>Seldom in life do you come across someone so d...</td>\n",
       "      <td>News</td>\n",
       "      <td>February 25, 2016</td>\n",
       "      <td>0</td>\n",
       "    </tr>\n",
       "    <tr>\n",
       "      <th>7968</th>\n",
       "      <td>Church Installs ‘Watering System’ To Get Rid ...</td>\n",
       "      <td>Anyone who has read the Bible knows that that ...</td>\n",
       "      <td>News</td>\n",
       "      <td>February 20, 2016</td>\n",
       "      <td>0</td>\n",
       "    </tr>\n",
       "    <tr>\n",
       "      <th>8162</th>\n",
       "      <td>Caught On Camera: Devastating Moment 2100 Peo...</td>\n",
       "      <td>Some companies definitely prefer increased pro...</td>\n",
       "      <td>News</td>\n",
       "      <td>February 12, 2016</td>\n",
       "      <td>0</td>\n",
       "    </tr>\n",
       "    <tr>\n",
       "      <th>8295</th>\n",
       "      <td>Ten Lessons We Should Learn From The Flint Wa...</td>\n",
       "      <td>On January 16, President Obama declared a fede...</td>\n",
       "      <td>News</td>\n",
       "      <td>February 6, 2016</td>\n",
       "      <td>0</td>\n",
       "    </tr>\n",
       "    <tr>\n",
       "      <th>8481</th>\n",
       "      <td>Sarah Palin Defends Trump Skipping ‘Ballyhooe...</td>\n",
       "      <td>Rarely in life do you see people go so perfect...</td>\n",
       "      <td>News</td>\n",
       "      <td>January 28, 2016</td>\n",
       "      <td>0</td>\n",
       "    </tr>\n",
       "    <tr>\n",
       "      <th>8527</th>\n",
       "      <td>Stephen Colbert Gets Donald Rumsfeld To Admit...</td>\n",
       "      <td>Donald Rumsfeld is in full damage control mode...</td>\n",
       "      <td>News</td>\n",
       "      <td>January 26, 2016</td>\n",
       "      <td>0</td>\n",
       "    </tr>\n",
       "    <tr>\n",
       "      <th>8784</th>\n",
       "      <td>Man Without Shirt Was Shivering On Train, Wha...</td>\n",
       "      <td>Sometimes in life, with all the negativity tha...</td>\n",
       "      <td>News</td>\n",
       "      <td>January 13, 2016</td>\n",
       "      <td>0</td>\n",
       "    </tr>\n",
       "    <tr>\n",
       "      <th>9071</th>\n",
       "      <td>TUCKER CARLSON Rips The Left On Gun Control Hy...</td>\n",
       "      <td>Tucker Carlson weighed in on the hysteria over...</td>\n",
       "      <td>politics</td>\n",
       "      <td>16-Feb-18</td>\n",
       "      <td>0</td>\n",
       "    </tr>\n",
       "    <tr>\n",
       "      <th>9084</th>\n",
       "      <td>JUST IN: CROOKED DOJ OFFICIAL Didn’t Reveal Th...</td>\n",
       "      <td>We ve been covering the curious case of DOJ of...</td>\n",
       "      <td>politics</td>\n",
       "      <td>14-Feb-18</td>\n",
       "      <td>0</td>\n",
       "    </tr>\n",
       "    <tr>\n",
       "      <th>9838</th>\n",
       "      <td>Breaking: Stanley Cup Champions Make Announcem...</td>\n",
       "      <td>Any agreement or disagreement with a presiden...</td>\n",
       "      <td>politics</td>\n",
       "      <td>Sep 24, 2017</td>\n",
       "      <td>0</td>\n",
       "    </tr>\n",
       "    <tr>\n",
       "      <th>9924</th>\n",
       "      <td>LOL! HILLARY GETS AMBUSHED At Book Signing…”Wh...</td>\n",
       "      <td>Hillary was in the middle of a book signing fo...</td>\n",
       "      <td>politics</td>\n",
       "      <td>Sep 12, 2017</td>\n",
       "      <td>0</td>\n",
       "    </tr>\n",
       "    <tr>\n",
       "      <th>10630</th>\n",
       "      <td>SEN TOM COTTON TO AG SESSIONS: “Do you like sp...</td>\n",
       "      <td>Today s testimony between AG Sessions and Sena...</td>\n",
       "      <td>politics</td>\n",
       "      <td>Jun 13, 2017</td>\n",
       "      <td>0</td>\n",
       "    </tr>\n",
       "    <tr>\n",
       "      <th>11270</th>\n",
       "      <td>MSNBC’s CHRIS MATTHEWS Compares Ivanka Trump, ...</td>\n",
       "      <td>To say the leftists in the media are completel...</td>\n",
       "      <td>politics</td>\n",
       "      <td>Mar 28, 2017</td>\n",
       "      <td>0</td>\n",
       "    </tr>\n",
       "    <tr>\n",
       "      <th>15671</th>\n",
       "      <td>OBAMA’S ORGANIZED RACE WAR EXPOSED AS PROTESTO...</td>\n",
       "      <td>My success in the financial markets has given...</td>\n",
       "      <td>politics</td>\n",
       "      <td>May 19, 2015</td>\n",
       "      <td>0</td>\n",
       "    </tr>\n",
       "    <tr>\n",
       "      <th>15823</th>\n",
       "      <td>[VIDEO] #BlackLivesMatter ACTIVIST POSTS STAGE...</td>\n",
       "      <td>Meet Keegan Stephan. He could be Barack Obama ...</td>\n",
       "      <td>politics</td>\n",
       "      <td>Apr 14, 2015</td>\n",
       "      <td>0</td>\n",
       "    </tr>\n",
       "    <tr>\n",
       "      <th>15881</th>\n",
       "      <td>FED’S PREVENT ‘Mother of the Year’ From Boardi...</td>\n",
       "      <td>There are just way too many wannabe male and f...</td>\n",
       "      <td>politics</td>\n",
       "      <td>Apr 4, 2015</td>\n",
       "      <td>0</td>\n",
       "    </tr>\n",
       "    <tr>\n",
       "      <th>16857</th>\n",
       "      <td>BREAKING: 19 Yr Old Ethiopian Immigrant Senten...</td>\n",
       "      <td>The mother of the 19 year old immigrant blames...</td>\n",
       "      <td>Government News</td>\n",
       "      <td>Jan 7, 2016</td>\n",
       "      <td>0</td>\n",
       "    </tr>\n",
       "    <tr>\n",
       "      <th>17324</th>\n",
       "      <td>OBAMA’S ORGANIZED RACE WAR EXPOSED AS PROTESTO...</td>\n",
       "      <td>My success in the financial markets has given...</td>\n",
       "      <td>Government News</td>\n",
       "      <td>May 19, 2015</td>\n",
       "      <td>0</td>\n",
       "    </tr>\n",
       "    <tr>\n",
       "      <th>17983</th>\n",
       "      <td>LOL! HILLARY GETS AMBUSHED At Book Signing…”Wh...</td>\n",
       "      <td>Hillary was in the middle of a book signing fo...</td>\n",
       "      <td>left-news</td>\n",
       "      <td>Sep 12, 2017</td>\n",
       "      <td>0</td>\n",
       "    </tr>\n",
       "    <tr>\n",
       "      <th>18840</th>\n",
       "      <td>HELLO UNITED AIR LINES! Delta Just Paid A Woma...</td>\n",
       "      <td>In case you haven t heard, a man was assaulted...</td>\n",
       "      <td>left-news</td>\n",
       "      <td>Apr 10, 2017</td>\n",
       "      <td>0</td>\n",
       "    </tr>\n",
       "    <tr>\n",
       "      <th>18898</th>\n",
       "      <td>MSNBC’s CHRIS MATTHEWS Compares Ivanka Trump, ...</td>\n",
       "      <td>To say the leftists in the media are completel...</td>\n",
       "      <td>left-news</td>\n",
       "      <td>Mar 28, 2017</td>\n",
       "      <td>0</td>\n",
       "    </tr>\n",
       "    <tr>\n",
       "      <th>20645</th>\n",
       "      <td>ILLEGAL ALIEN SMILES FOR MUG SHOT After Stabbi...</td>\n",
       "      <td>SHOCKING FACT: One-fifth of the entire populat...</td>\n",
       "      <td>left-news</td>\n",
       "      <td>May 2, 2016</td>\n",
       "      <td>0</td>\n",
       "    </tr>\n",
       "    <tr>\n",
       "      <th>21720</th>\n",
       "      <td>OBAMA’S ORGANIZED RACE WAR EXPOSED AS PROTESTO...</td>\n",
       "      <td>My success in the financial markets has given...</td>\n",
       "      <td>left-news</td>\n",
       "      <td>May 19, 2015</td>\n",
       "      <td>0</td>\n",
       "    </tr>\n",
       "    <tr>\n",
       "      <th>21856</th>\n",
       "      <td>[VIDEO] #BlackLivesMatter ACTIVIST POSTS STAGE...</td>\n",
       "      <td>Meet Keegan Stephan. He could be Barack Obama ...</td>\n",
       "      <td>left-news</td>\n",
       "      <td>Apr 14, 2015</td>\n",
       "      <td>0</td>\n",
       "    </tr>\n",
       "    <tr>\n",
       "      <th>5809</th>\n",
       "      <td>Trump pushes drugmakers for lower prices, more...</td>\n",
       "      <td>WASHINGTON/LOS ANGELES (Reuters) - U.S. Presid...</td>\n",
       "      <td>politicsNews</td>\n",
       "      <td>January 31, 2017</td>\n",
       "      <td>1</td>\n",
       "    </tr>\n",
       "    <tr>\n",
       "      <th>7576</th>\n",
       "      <td>Battered U.S. coal industry hopes for Trump, p...</td>\n",
       "      <td>WASHINGTON (Reuters) - Republican presidential...</td>\n",
       "      <td>politicsNews</td>\n",
       "      <td>November 4, 2016</td>\n",
       "      <td>1</td>\n",
       "    </tr>\n",
       "    <tr>\n",
       "      <th>10008</th>\n",
       "      <td>U.S. hands over 1,100 pages of Benghazi record...</td>\n",
       "      <td>WASHINGTON (Reuters) - The U.S. State Departme...</td>\n",
       "      <td>politicsNews</td>\n",
       "      <td>April 8, 2016</td>\n",
       "      <td>1</td>\n",
       "    </tr>\n",
       "  </tbody>\n",
       "</table>\n",
       "</div>"
      ],
      "text/plain": [
       "                                                   title  \\\n",
       "1153    Snowflake Trump Demands An Apology From The M...   \n",
       "2597    Hillary Clinton Just Dropped The MIC On Trump...   \n",
       "4122    Ivanka Just Threw Her Father Under The Campai...   \n",
       "4839    Trumpkins Seriously Think Their Hero Will Ret...   \n",
       "6612    Obama Invades Iran With A Moderate Reformist ...   \n",
       "7056    Am I Voting For Hillary Because She’s A Woman...   \n",
       "7602    Trump’s Using This Shady, Sneaky Tactic To Th...   \n",
       "7675    Bernie Sanders Releases Mini-Documentary On F...   \n",
       "7715    Fed Up Republicans Threaten Third Party Optio...   \n",
       "7814    Hillary Completely SMASHES Donald Trump’s Bul...   \n",
       "7869    See Who Sarah Palin Just Compared Donald Trum...   \n",
       "7968    Church Installs ‘Watering System’ To Get Rid ...   \n",
       "8162    Caught On Camera: Devastating Moment 2100 Peo...   \n",
       "8295    Ten Lessons We Should Learn From The Flint Wa...   \n",
       "8481    Sarah Palin Defends Trump Skipping ‘Ballyhooe...   \n",
       "8527    Stephen Colbert Gets Donald Rumsfeld To Admit...   \n",
       "8784    Man Without Shirt Was Shivering On Train, Wha...   \n",
       "9071   TUCKER CARLSON Rips The Left On Gun Control Hy...   \n",
       "9084   JUST IN: CROOKED DOJ OFFICIAL Didn’t Reveal Th...   \n",
       "9838   Breaking: Stanley Cup Champions Make Announcem...   \n",
       "9924   LOL! HILLARY GETS AMBUSHED At Book Signing…”Wh...   \n",
       "10630  SEN TOM COTTON TO AG SESSIONS: “Do you like sp...   \n",
       "11270  MSNBC’s CHRIS MATTHEWS Compares Ivanka Trump, ...   \n",
       "15671  OBAMA’S ORGANIZED RACE WAR EXPOSED AS PROTESTO...   \n",
       "15823  [VIDEO] #BlackLivesMatter ACTIVIST POSTS STAGE...   \n",
       "15881  FED’S PREVENT ‘Mother of the Year’ From Boardi...   \n",
       "16857  BREAKING: 19 Yr Old Ethiopian Immigrant Senten...   \n",
       "17324  OBAMA’S ORGANIZED RACE WAR EXPOSED AS PROTESTO...   \n",
       "17983  LOL! HILLARY GETS AMBUSHED At Book Signing…”Wh...   \n",
       "18840  HELLO UNITED AIR LINES! Delta Just Paid A Woma...   \n",
       "18898  MSNBC’s CHRIS MATTHEWS Compares Ivanka Trump, ...   \n",
       "20645  ILLEGAL ALIEN SMILES FOR MUG SHOT After Stabbi...   \n",
       "21720  OBAMA’S ORGANIZED RACE WAR EXPOSED AS PROTESTO...   \n",
       "21856  [VIDEO] #BlackLivesMatter ACTIVIST POSTS STAGE...   \n",
       "5809   Trump pushes drugmakers for lower prices, more...   \n",
       "7576   Battered U.S. coal industry hopes for Trump, p...   \n",
       "10008  U.S. hands over 1,100 pages of Benghazi record...   \n",
       "\n",
       "                                                    text          subject  \\\n",
       "1153   Donald Trump went on a whining rant about the ...             News   \n",
       "2597   On Thursday, Donald Trump was devastated after...             News   \n",
       "4122   Hours before the third and final presidential ...             News   \n",
       "4839   This is so horribly amazing that it defies des...             News   \n",
       "6612   How many times more are we going to get to say...             News   \n",
       "7056   When approached by countless people if I m a H...             News   \n",
       "7602   Donald Trump s campaign has hit a new low   as...             News   \n",
       "7675   Today, Senator Bernie Sanders released a new c...             News   \n",
       "7715   I ve been saying for a long time now that the ...             News   \n",
       "7814   Not holding back one bit after her absolute vi...             News   \n",
       "7869   Seldom in life do you come across someone so d...             News   \n",
       "7968   Anyone who has read the Bible knows that that ...             News   \n",
       "8162   Some companies definitely prefer increased pro...             News   \n",
       "8295   On January 16, President Obama declared a fede...             News   \n",
       "8481   Rarely in life do you see people go so perfect...             News   \n",
       "8527   Donald Rumsfeld is in full damage control mode...             News   \n",
       "8784   Sometimes in life, with all the negativity tha...             News   \n",
       "9071   Tucker Carlson weighed in on the hysteria over...         politics   \n",
       "9084   We ve been covering the curious case of DOJ of...         politics   \n",
       "9838    Any agreement or disagreement with a presiden...         politics   \n",
       "9924   Hillary was in the middle of a book signing fo...         politics   \n",
       "10630  Today s testimony between AG Sessions and Sena...         politics   \n",
       "11270  To say the leftists in the media are completel...         politics   \n",
       "15671   My success in the financial markets has given...         politics   \n",
       "15823  Meet Keegan Stephan. He could be Barack Obama ...         politics   \n",
       "15881  There are just way too many wannabe male and f...         politics   \n",
       "16857  The mother of the 19 year old immigrant blames...  Government News   \n",
       "17324   My success in the financial markets has given...  Government News   \n",
       "17983  Hillary was in the middle of a book signing fo...        left-news   \n",
       "18840  In case you haven t heard, a man was assaulted...        left-news   \n",
       "18898  To say the leftists in the media are completel...        left-news   \n",
       "20645  SHOCKING FACT: One-fifth of the entire populat...        left-news   \n",
       "21720   My success in the financial markets has given...        left-news   \n",
       "21856  Meet Keegan Stephan. He could be Barack Obama ...        left-news   \n",
       "5809   WASHINGTON/LOS ANGELES (Reuters) - U.S. Presid...     politicsNews   \n",
       "7576   WASHINGTON (Reuters) - Republican presidential...     politicsNews   \n",
       "10008  WASHINGTON (Reuters) - The U.S. State Departme...     politicsNews   \n",
       "\n",
       "                    date  label  \n",
       "1153       June 13, 2017      0  \n",
       "2597    February 9, 2017      0  \n",
       "4122    October 19, 2016      0  \n",
       "4839     August 31, 2016      0  \n",
       "6612         May 1, 2016      0  \n",
       "7056       April 6, 2016      0  \n",
       "7602       March 9, 2016      0  \n",
       "7675       March 5, 2016      0  \n",
       "7715       March 3, 2016      0  \n",
       "7814   February 27, 2016      0  \n",
       "7869   February 25, 2016      0  \n",
       "7968   February 20, 2016      0  \n",
       "8162   February 12, 2016      0  \n",
       "8295    February 6, 2016      0  \n",
       "8481    January 28, 2016      0  \n",
       "8527    January 26, 2016      0  \n",
       "8784    January 13, 2016      0  \n",
       "9071           16-Feb-18      0  \n",
       "9084           14-Feb-18      0  \n",
       "9838        Sep 24, 2017      0  \n",
       "9924        Sep 12, 2017      0  \n",
       "10630       Jun 13, 2017      0  \n",
       "11270       Mar 28, 2017      0  \n",
       "15671       May 19, 2015      0  \n",
       "15823       Apr 14, 2015      0  \n",
       "15881        Apr 4, 2015      0  \n",
       "16857        Jan 7, 2016      0  \n",
       "17324       May 19, 2015      0  \n",
       "17983       Sep 12, 2017      0  \n",
       "18840       Apr 10, 2017      0  \n",
       "18898       Mar 28, 2017      0  \n",
       "20645        May 2, 2016      0  \n",
       "21720       May 19, 2015      0  \n",
       "21856       Apr 14, 2015      0  \n",
       "5809   January 31, 2017       1  \n",
       "7576   November 4, 2016       1  \n",
       "10008     April 8, 2016       1  "
      ]
     },
     "execution_count": 18,
     "metadata": {},
     "output_type": "execute_result"
    }
   ],
   "source": [
    "has_html"
   ]
  },
  {
   "cell_type": "code",
   "execution_count": 19,
   "id": "6bee8a7e-57c1-43e4-9725-e2cd4fa125c1",
   "metadata": {},
   "outputs": [
    {
     "data": {
      "text/plain": [
       "\"On Thursday, Donald Trump was devastated after an appeals court completely rejected Donald Trump s Muslim ban. The Trump administration has lost dramatically and completely and they re going to have to decide what to do next,  CNN senior legal analyst Jeffrey Toobin said following the court s 3-0 complete repudiation of the Trump ban. The Government has taken the position that the President s decisions about immigration policy, particularly when motivated by national security concerns, are unreviewable, even if those actions potentially contravene constitutional rights and protections,  the court said, adding that the Muslim ban  runs contrary to the fundamental structure of our constitutional democracy. The judges, who were appointed by three different Presidents, flat-out rejected the Trump administration s claim that his decisions are absolute and unquestionable: The Supreme Court has made clear that the Government s authority and expertise in [such] matters do not automatically trump the Court s own obligation to secure the protection that the Constitution grants to individuals, even in times of war. There is no precedent to support this claimed unreviewability, which runs contrary to the fundamental structure of our constitutional democracy. After getting  checked,  Trump tweeted out an  unbalanced  all-caps tantrum, vowing that he will  SEE YOU IN COURT  even though he had just been there, where he lost embarrassingly.SEE YOU IN COURT, THE SECURITY OF OUR NATION IS AT STAKE!  Donald J. Trump (@realDonaldTrump) February 9, 2017To make things sweeter, Hillary Clinton gave Trump just long enough to bleed out a bit before rubbing salt in his wound   and all she had to do was type two beautiful numbers and a hyphen:3-0  Hillary Clinton (@HillaryClinton) February 10, 2017Clinton was joined in celebration of this win for democracy by her friends on Twitter, who don t seem to like The Donald much:@HillaryClinton pic.twitter.com/9RXyIvXuYP  Raymond Braun (@raymondbraun) February 10, 2017@HillaryClinton   pic.twitter.com/tqrUKTRUmG  Brian Scully (@brianscully) February 10, 2017@HillaryClinton you're perfect never change  carmen rios (@carmenriosss) February 10, 2017@HillaryClinton pic.twitter.com/knVtLwgdvo  Matthew Schueller (@booshoe37) February 10, 2017@HillaryClinton <sits back, sips martini>  MichaelMarshallSmith (@ememess) February 10, 2017@hillaryclinton easy with all the numbers, don t want to confuse him.  Adam Shapiro (@adamshapiro) February 10, 2017.@HillaryClinton I think that's what the kids call a mic drop  Roland Scahill (@rolandscahill) February 10, 2017@Cernovich @HillaryClinton 65,844,610-62,979,636  GayDad (@gaydad) February 10, 2017@HillaryClinton GIRL YOU COULD GROW SOME GORGEOUS HOSTA IN THAT SHADE pic.twitter.com/SOBG0zXI8v  Abby Norman (@abbymnorman) February 10, 2017.@HillaryClinton MIC DROPPPP  Jordan Uhl (@JordanUhl) February 10, 2017@HillaryClinton He be tweeting. She be sipping. pic.twitter.com/vy5t2a8jhS  Good Trouble (@goodtroubleme) February 10, 2017@HillaryClinton I can just imagine the shimmy as you write this tweet! COME BACK TO US!!  is_today_the_day (@trump_at_school) February 10, 2017Clinton may have  lost  thanks to an antiquated system put in place to protect the power of slave-owning states, but the majority of Americans wish she was President   and she continually reminds us why.Trump had better get used to losing, because his days of never being told  no  are over.Read more:Featured image via Getty Images (Chip Somodevilla)/screengrab\""
      ]
     },
     "execution_count": 19,
     "metadata": {},
     "output_type": "execute_result"
    }
   ],
   "source": [
    "df.iloc[2597]['text']"
   ]
  },
  {
   "cell_type": "code",
   "execution_count": 20,
   "id": "b7d748f4-d847-46db-8900-35d6fc684f2f",
   "metadata": {},
   "outputs": [],
   "source": [
    "import re\n",
    "def cleanHTML(text):\n",
    "    # Use beautifulSoup to remove simple HTML code\n",
    "    text = BeautifulSoup(text, \"html.parser\").get_text()\n",
    "    # HTML like < /script> slip past BeautifulSoup seen on df.iloc[1153]['text']\n",
    "    regex = re.compile('<[^>]+>')\n",
    "    text = regex.sub('', text)\n",
    "    return text"
   ]
  },
  {
   "cell_type": "code",
   "execution_count": 21,
   "id": "71e75c36-786a-4a91-b024-5374072fd9c9",
   "metadata": {},
   "outputs": [
    {
     "name": "stderr",
     "output_type": "stream",
     "text": [
      "C:\\Users\\yanni\\AppData\\Local\\Temp\\ipykernel_39420\\3494864991.py:4: MarkupResemblesLocatorWarning: The input looks more like a URL than markup. You may want to use an HTTP client like requests to get the document behind the URL, and feed that document to Beautiful Soup.\n",
      "  text = BeautifulSoup(text, \"html.parser\").get_text()\n",
      "C:\\Users\\yanni\\AppData\\Local\\Temp\\ipykernel_39420\\3494864991.py:4: MarkupResemblesLocatorWarning: The input looks more like a filename than markup. You may want to open this file and pass the filehandle into Beautiful Soup.\n",
      "  text = BeautifulSoup(text, \"html.parser\").get_text()\n"
     ]
    }
   ],
   "source": [
    "df['text'] = df.apply(lambda x: cleanHTML(x['text']), axis=1)"
   ]
  },
  {
   "cell_type": "code",
   "execution_count": 22,
   "id": "9018ebdb-8316-470b-bb80-a210ad2727f1",
   "metadata": {},
   "outputs": [
    {
     "data": {
      "text/plain": [
       "'Donald Trump went on a whining rant about the media on Tuesday morning and got totally humiliated.As he usually does, Trump woke up and immediately took to Twitter to attack Democrats, the courts, and the media.He accused Democrats of being obstructionists and once again declared that the Affordable Care Act is in a  death spiral,  a spiral he himself caused by attacking the law through executive orders.Trump also bitched about the 9th Circuit Court blocking his Muslim ban.But he saved most of his vitriol for the media.The Fake News Media has never been so wrong or so dirty. Purposely incorrect stories and phony sources to meet their agenda of hate. Sad!  Donald J. Trump (@realDonaldTrump) June 13, 2017Fake News is at an all time high. Where is their apology to me for all of the incorrect stories???  Donald J. Trump (@realDonaldTrump) June 13, 2017  Heading to the Great State of Wisconsin to talk about JOBS, JOBS, JOBS! Big progress being made as the Real News is reporting. — Donald J. Trump (@realDonaldTrump) June 13, 2017  Yep, Trump literally demanded an apology from the media for doing their jobs, which drew a belly laugh from Twitter users, who proceeded to mock Trump for being a snowflake.Like the time where they said Ms Universe had a sex tape and everyone should watch it even though it didn t exist?  Evan Dashevsky (@haldash) June 13, 2017Or the time the Fake News said your birth certificate was a fraud they STILL haven t apologized to you for that one! What gives?  Evan Dashevsky (@haldash) June 13, 2017Also, remember when the Fake News said your dad assassinated JFK. Still waiting for them to apologize on that one.  Evan Dashevsky (@haldash) June 13, 2017Where is your apology for trying to ban muslims, taking billions away from healthcare, destroying the environment, and betraying the USA?  Jules Suzdaltsev (@jules_su) June 13, 2017Translation:  Why won t the media worship me properly?  kim (@kim) June 13, 2017Where is your apology to the voters for claiming you won the popular vote?  Morten  verbye (@morten) June 13, 2017Where is your apology to Muslims in New Jersey for claiming they celebrated on 9 11?  Morten  verbye (@morten) June 13, 2017Where is your apology to John McCain for saying he is not a war hero?  Morten  verbye (@morten) June 13, 2017We ve officially stepped through the looking glass   Man who has never apologized for anything in his life is Whining about wanting apology.  Dana Smith (@Brady5thOrBust) June 13, 2017#Trump claimed Obama was born in Kenya and he complains about fake news.  Jeffrey Guterman (@JeffreyGuterman) June 13, 2017And that Obama put a  tapp  on his lines at trump tower.  Angela Jackson (@butterbeangabs) June 13, 2017Don t forget Microwave Spying!  Jamie (@xochewie) June 13, 2017And the  proof  of 3-5 million illegal votes!  Dana Smith (@Brady5thOrBust) June 13, 2017And the largest Inauguration crowd since Obama  D backl (@DanBackl) June 13, 2017It sounds like Donald Trump is the one who better start apologizing. He can do it all at once by resigning and turning himself in to federal authorities.Featured Image: Mario Tama/Getty Images'"
      ]
     },
     "execution_count": 22,
     "metadata": {},
     "output_type": "execute_result"
    }
   ],
   "source": [
    "df.iloc[1153]['text']"
   ]
  },
  {
   "cell_type": "markdown",
   "id": "3dd34922-7247-47bb-9e25-9d581f45072e",
   "metadata": {},
   "source": [
    "### 2. Remove @ in texts"
   ]
  },
  {
   "cell_type": "code",
   "execution_count": 31,
   "id": "0a75b767-ed52-419f-9b93-0d09d69fe920",
   "metadata": {},
   "outputs": [
    {
     "name": "stderr",
     "output_type": "stream",
     "text": [
      "<>:3: SyntaxWarning: invalid escape sequence '\\('\n",
      "<>:3: SyntaxWarning: invalid escape sequence '\\('\n",
      "C:\\Users\\yanni\\AppData\\Local\\Temp\\ipykernel_39420\\104128625.py:3: SyntaxWarning: invalid escape sequence '\\('\n",
      "  regex = re.compile('\\(@\\w+\\)')\n"
     ]
    }
   ],
   "source": [
    "def cleanAts(text):\n",
    "    # Remove (@name) \n",
    "    regex = re.compile('\\(@\\w+\\)')\n",
    "    text = regex.sub('', text)\n",
    "    return text"
   ]
  },
  {
   "cell_type": "code",
   "execution_count": 32,
   "id": "c781876f-8bd7-459d-a3ba-fb58e939321f",
   "metadata": {},
   "outputs": [],
   "source": [
    "df['text'] = df.apply(lambda x: cleanAts(x['text']), axis=1)"
   ]
  },
  {
   "cell_type": "code",
   "execution_count": 34,
   "id": "a2dfdd46-ba04-4bbf-919d-7866d57b5b27",
   "metadata": {},
   "outputs": [
    {
     "data": {
      "text/plain": [
       "'Donald Trump went on a whining rant about the media on Tuesday morning and got totally humiliated.As he usually does, Trump woke up and immediately took to Twitter to attack Democrats, the courts, and the media.He accused Democrats of being obstructionists and once again declared that the Affordable Care Act is in a  death spiral,  a spiral he himself caused by attacking the law through executive orders.Trump also bitched about the 9th Circuit Court blocking his Muslim ban.But he saved most of his vitriol for the media.The Fake News Media has never been so wrong or so dirty. Purposely incorrect stories and phony sources to meet their agenda of hate. Sad!  Donald J. Trump  June 13, 2017Fake News is at an all time high. Where is their apology to me for all of the incorrect stories???  Donald J. Trump  June 13, 2017  Heading to the Great State of Wisconsin to talk about JOBS, JOBS, JOBS! Big progress being made as the Real News is reporting. — Donald J. Trump  June 13, 2017  Yep, Trump literally demanded an apology from the media for doing their jobs, which drew a belly laugh from Twitter users, who proceeded to mock Trump for being a snowflake.Like the time where they said Ms Universe had a sex tape and everyone should watch it even though it didn t exist?  Evan Dashevsky  June 13, 2017Or the time the Fake News said your birth certificate was a fraud they STILL haven t apologized to you for that one! What gives?  Evan Dashevsky  June 13, 2017Also, remember when the Fake News said your dad assassinated JFK. Still waiting for them to apologize on that one.  Evan Dashevsky  June 13, 2017Where is your apology for trying to ban muslims, taking billions away from healthcare, destroying the environment, and betraying the USA?  Jules Suzdaltsev  June 13, 2017Translation:  Why won t the media worship me properly?  kim  June 13, 2017Where is your apology to the voters for claiming you won the popular vote?  Morten  verbye  June 13, 2017Where is your apology to Muslims in New Jersey for claiming they celebrated on 9 11?  Morten  verbye  June 13, 2017Where is your apology to John McCain for saying he is not a war hero?  Morten  verbye  June 13, 2017We ve officially stepped through the looking glass   Man who has never apologized for anything in his life is Whining about wanting apology.  Dana Smith  June 13, 2017#Trump claimed Obama was born in Kenya and he complains about fake news.  Jeffrey Guterman  June 13, 2017And that Obama put a  tapp  on his lines at trump tower.  Angela Jackson  June 13, 2017Don t forget Microwave Spying!  Jamie  June 13, 2017And the  proof  of 3-5 million illegal votes!  Dana Smith  June 13, 2017And the largest Inauguration crowd since Obama  D backl  June 13, 2017It sounds like Donald Trump is the one who better start apologizing. He can do it all at once by resigning and turning himself in to federal authorities.Featured Image: Mario Tama/Getty Images'"
      ]
     },
     "execution_count": 34,
     "metadata": {},
     "output_type": "execute_result"
    }
   ],
   "source": [
    "df.iloc[1153]['text']"
   ]
  },
  {
   "cell_type": "markdown",
   "id": "6e4af310-6b16-45ca-b746-6973a5aca0c0",
   "metadata": {},
   "source": [
    "### 3. Remove URL and Pictures in texts"
   ]
  },
  {
   "cell_type": "code",
   "execution_count": 38,
   "id": "4e41a320-d850-4262-8531-6a1e3d9eaad6",
   "metadata": {},
   "outputs": [
    {
     "data": {
      "text/plain": [
       "'On Friday, it was revealed that former Milwaukee Sheriff David Clarke, who was being considered for Homeland Security Secretary in Donald Trump s administration, has an email scandal of his own.In January, there was a brief run-in on a plane between Clarke and fellow passenger Dan Black, who he later had detained by the police for no reason whatsoever, except that maybe his feelings were hurt. Clarke messaged the police to stop Black after he deplaned, and now, a search warrant has been executed by the FBI to see the exchanges.Clarke is calling it fake news even though copies of the search warrant are on the Internet. I am UNINTIMIDATED by lib media attempts to smear and discredit me with their FAKE NEWS reports designed to silence me,  the former sheriff tweeted.  I will continue to poke them in the eye with a sharp stick and bitch slap these scum bags til they get it. I have been attacked by better people than them #MAGA I am UNINTIMIDATED by lib media attempts to smear and discredit me with their FAKE NEWS reports designed to silence me. I will continue to poke them in the eye with a sharp stick and bitch slap these scum bags til they get it. I have been attacked by better people than them #MAGA pic.twitter.com/XtZW5PdU2b  David A. Clarke, Jr.  December 30, 2017He didn t stop there.BREAKING NEWS! When LYING LIB MEDIA makes up FAKE NEWS to smear me, the ANTIDOTE is go right at them. Punch them in the nose & MAKE THEM TASTE THEIR OWN BLOOD. Nothing gets a bully like LYING LIB MEDIA S attention better than to give them a taste of their own blood #neverbackdown pic.twitter.com/T2NY2psHCR  David A. Clarke, Jr.  December 30, 2017The internet called him out.This is your local newspaper and that search warrant isn t fake, and just because the chose not to file charges at the time doesn t mean they won t! Especially if you continue to lie. Months after decision not to charge Clarke, email search warrant filed https://t.co/zcbyc4Wp5b  KeithLeBlanc  December 30, 2017I just hope the rest of the Village People aren t implicated.  Kirk Ketchum  December 30, 2017Slaw, baked potatoes, or French fries? pic.twitter.com/fWfXsZupxy  ALT- Immigration    December 30, 2017pic.twitter.com/ymsOBLjfxU  Pendulum Swinger  December 30, 2017you called your police friends to stand up for you when someone made fun of your hat  Chris Jackson  December 30, 2017Is it me, with this masterful pshop of your hat, which I seem to never tire of. I think it s the steely resolve in your one visible eye pic.twitter.com/dWr5k8ZEZV  Chris Mohney  December 30, 2017Are you indicating with your fingers how many people died in your jail? I think you re a few fingers short, dipshit  Ike Barinholtz  December 30, 2017ROFL. Internet tough guy with fake flair. pic.twitter.com/ulCFddhkdy  KellMeCrazy  December 30, 2017You re so edgy, buddy.  Mrs. SMH  December 30, 2017Is his break over at Applebees?  Aaron  December 30, 2017Are you trying to earn your  still relevant  badge?  CircusRebel  December 30, 2017make sure to hydrate, drink lots of water. It s rumored that prisoners can be denied water by prison officials.  Robert Klinc  December 30, 2017Terrill Thomas, the 38-year-old black man who died of thirst in Clarke s Milwaukee County Jail cell this April, was a victim of homicide. We just thought we should point that out. It can t be repeated enough.Photo by Spencer Platt/Getty Images.'"
      ]
     },
     "execution_count": 38,
     "metadata": {},
     "output_type": "execute_result"
    }
   ],
   "source": [
    "df.iloc[2]['text']"
   ]
  },
  {
   "cell_type": "code",
   "execution_count": 39,
   "id": "f9272498-e4b0-4d17-81a3-38ea451dfaa2",
   "metadata": {},
   "outputs": [
    {
     "name": "stderr",
     "output_type": "stream",
     "text": [
      "<>:3: SyntaxWarning: invalid escape sequence '\\S'\n",
      "<>:3: SyntaxWarning: invalid escape sequence '\\S'\n",
      "C:\\Users\\yanni\\AppData\\Local\\Temp\\ipykernel_39420\\348221683.py:3: SyntaxWarning: invalid escape sequence '\\S'\n",
      "  regex = re.compile('https?://\\S+|www\\.\\S+|pic\\.twitter\\.com/\\S+')\n"
     ]
    }
   ],
   "source": [
    "def cleanURLandPic(text):\n",
    "    # Remove URL and pic (only https for now)\n",
    "    regex = re.compile('https?://\\S+|www\\.\\S+|pic\\.twitter\\.com/\\S+')\n",
    "    text = regex.sub('', text)\n",
    "    \n",
    "    return text"
   ]
  },
  {
   "cell_type": "code",
   "execution_count": 40,
   "id": "e4a72cf0-4961-4e4b-94b7-f11a7d6bbc69",
   "metadata": {},
   "outputs": [],
   "source": [
    "df['text'] = df.apply(lambda x: cleanURLandPic(x['text']), axis=1)"
   ]
  },
  {
   "cell_type": "code",
   "execution_count": 41,
   "id": "3c17dca6-def6-4557-9082-e4bafa15fe10",
   "metadata": {},
   "outputs": [
    {
     "data": {
      "text/plain": [
       "'On Friday, it was revealed that former Milwaukee Sheriff David Clarke, who was being considered for Homeland Security Secretary in Donald Trump s administration, has an email scandal of his own.In January, there was a brief run-in on a plane between Clarke and fellow passenger Dan Black, who he later had detained by the police for no reason whatsoever, except that maybe his feelings were hurt. Clarke messaged the police to stop Black after he deplaned, and now, a search warrant has been executed by the FBI to see the exchanges.Clarke is calling it fake news even though copies of the search warrant are on the Internet. I am UNINTIMIDATED by lib media attempts to smear and discredit me with their FAKE NEWS reports designed to silence me,  the former sheriff tweeted.  I will continue to poke them in the eye with a sharp stick and bitch slap these scum bags til they get it. I have been attacked by better people than them #MAGA I am UNINTIMIDATED by lib media attempts to smear and discredit me with their FAKE NEWS reports designed to silence me. I will continue to poke them in the eye with a sharp stick and bitch slap these scum bags til they get it. I have been attacked by better people than them #MAGA   David A. Clarke, Jr.  December 30, 2017He didn t stop there.BREAKING NEWS! When LYING LIB MEDIA makes up FAKE NEWS to smear me, the ANTIDOTE is go right at them. Punch them in the nose & MAKE THEM TASTE THEIR OWN BLOOD. Nothing gets a bully like LYING LIB MEDIA S attention better than to give them a taste of their own blood #neverbackdown   David A. Clarke, Jr.  December 30, 2017The internet called him out.This is your local newspaper and that search warrant isn t fake, and just because the chose not to file charges at the time doesn t mean they won t! Especially if you continue to lie. Months after decision not to charge Clarke, email search warrant filed   KeithLeBlanc  December 30, 2017I just hope the rest of the Village People aren t implicated.  Kirk Ketchum  December 30, 2017Slaw, baked potatoes, or French fries?   ALT- Immigration    December 30, 2017  Pendulum Swinger  December 30, 2017you called your police friends to stand up for you when someone made fun of your hat  Chris Jackson  December 30, 2017Is it me, with this masterful pshop of your hat, which I seem to never tire of. I think it s the steely resolve in your one visible eye   Chris Mohney  December 30, 2017Are you indicating with your fingers how many people died in your jail? I think you re a few fingers short, dipshit  Ike Barinholtz  December 30, 2017ROFL. Internet tough guy with fake flair.   KellMeCrazy  December 30, 2017You re so edgy, buddy.  Mrs. SMH  December 30, 2017Is his break over at Applebees?  Aaron  December 30, 2017Are you trying to earn your  still relevant  badge?  CircusRebel  December 30, 2017make sure to hydrate, drink lots of water. It s rumored that prisoners can be denied water by prison officials.  Robert Klinc  December 30, 2017Terrill Thomas, the 38-year-old black man who died of thirst in Clarke s Milwaukee County Jail cell this April, was a victim of homicide. We just thought we should point that out. It can t be repeated enough.Photo by Spencer Platt/Getty Images.'"
      ]
     },
     "execution_count": 41,
     "metadata": {},
     "output_type": "execute_result"
    }
   ],
   "source": [
    "df.iloc[2]['text']"
   ]
  },
  {
   "cell_type": "markdown",
   "id": "dae86920-a138-4470-836b-62f750e3003e",
   "metadata": {},
   "source": [
    "### 4. Remove extra Whitespaces"
   ]
  },
  {
   "cell_type": "code",
   "execution_count": 62,
   "id": "2857d69b-1b15-4dbd-969d-ec8b7afda939",
   "metadata": {},
   "outputs": [
    {
     "name": "stderr",
     "output_type": "stream",
     "text": [
      "<>:3: SyntaxWarning: invalid escape sequence '\\s'\n",
      "<>:3: SyntaxWarning: invalid escape sequence '\\s'\n",
      "C:\\Users\\yanni\\AppData\\Local\\Temp\\ipykernel_39420\\2150091073.py:3: SyntaxWarning: invalid escape sequence '\\s'\n",
      "  regex = re.compile('\\s+')\n"
     ]
    }
   ],
   "source": [
    "def cleanExtraWhitespaces(text):\n",
    "    # Remove whitespace\n",
    "    regex = re.compile('\\s+')\n",
    "    text = regex.sub(' ', text)\n",
    "    return text"
   ]
  },
  {
   "cell_type": "code",
   "execution_count": 66,
   "id": "7dd0bf2d-aaac-4aee-88e3-40617936943c",
   "metadata": {},
   "outputs": [],
   "source": [
    "df['text'] = df.apply(lambda x: cleanExtraWhitespaces(x['text']), axis=1)"
   ]
  },
  {
   "cell_type": "code",
   "execution_count": 68,
   "id": "13ea27dd-2ba4-4fad-b1fa-3114e570e16b",
   "metadata": {},
   "outputs": [
    {
     "data": {
      "text/plain": [
       "'On Friday, it was revealed that former Milwaukee Sheriff David Clarke, who was being considered for Homeland Security Secretary in Donald Trump s administration, has an email scandal of his own.In January, there was a brief run-in on a plane between Clarke and fellow passenger Dan Black, who he later had detained by the police for no reason whatsoever, except that maybe his feelings were hurt. Clarke messaged the police to stop Black after he deplaned, and now, a search warrant has been executed by the FBI to see the exchanges.Clarke is calling it fake news even though copies of the search warrant are on the Internet. I am UNINTIMIDATED by lib media attempts to smear and discredit me with their FAKE NEWS reports designed to silence me, the former sheriff tweeted. I will continue to poke them in the eye with a sharp stick and bitch slap these scum bags til they get it. I have been attacked by better people than them #MAGA I am UNINTIMIDATED by lib media attempts to smear and discredit me with their FAKE NEWS reports designed to silence me. I will continue to poke them in the eye with a sharp stick and bitch slap these scum bags til they get it. I have been attacked by better people than them #MAGA David A. Clarke, Jr. December 30, 2017He didn t stop there.BREAKING NEWS! When LYING LIB MEDIA makes up FAKE NEWS to smear me, the ANTIDOTE is go right at them. Punch them in the nose & MAKE THEM TASTE THEIR OWN BLOOD. Nothing gets a bully like LYING LIB MEDIA S attention better than to give them a taste of their own blood #neverbackdown David A. Clarke, Jr. December 30, 2017The internet called him out.This is your local newspaper and that search warrant isn t fake, and just because the chose not to file charges at the time doesn t mean they won t! Especially if you continue to lie. Months after decision not to charge Clarke, email search warrant filed KeithLeBlanc December 30, 2017I just hope the rest of the Village People aren t implicated. Kirk Ketchum December 30, 2017Slaw, baked potatoes, or French fries? ALT- Immigration December 30, 2017 Pendulum Swinger December 30, 2017you called your police friends to stand up for you when someone made fun of your hat Chris Jackson December 30, 2017Is it me, with this masterful pshop of your hat, which I seem to never tire of. I think it s the steely resolve in your one visible eye Chris Mohney December 30, 2017Are you indicating with your fingers how many people died in your jail? I think you re a few fingers short, dipshit Ike Barinholtz December 30, 2017ROFL. Internet tough guy with fake flair. KellMeCrazy December 30, 2017You re so edgy, buddy. Mrs. SMH December 30, 2017Is his break over at Applebees? Aaron December 30, 2017Are you trying to earn your still relevant badge? CircusRebel December 30, 2017make sure to hydrate, drink lots of water. It s rumored that prisoners can be denied water by prison officials. Robert Klinc December 30, 2017Terrill Thomas, the 38-year-old black man who died of thirst in Clarke s Milwaukee County Jail cell this April, was a victim of homicide. We just thought we should point that out. It can t be repeated enough.Photo by Spencer Platt/Getty Images.'"
      ]
     },
     "execution_count": 68,
     "metadata": {},
     "output_type": "execute_result"
    }
   ],
   "source": [
    "df.iloc[2]['text']"
   ]
  },
  {
   "cell_type": "code",
   "execution_count": 84,
   "id": "402093de-f810-4199-9880-322a3f15b93a",
   "metadata": {},
   "outputs": [
    {
     "data": {
      "text/html": [
       "<div>\n",
       "<style scoped>\n",
       "    .dataframe tbody tr th:only-of-type {\n",
       "        vertical-align: middle;\n",
       "    }\n",
       "\n",
       "    .dataframe tbody tr th {\n",
       "        vertical-align: top;\n",
       "    }\n",
       "\n",
       "    .dataframe thead th {\n",
       "        text-align: right;\n",
       "    }\n",
       "</style>\n",
       "<table border=\"1\" class=\"dataframe\">\n",
       "  <thead>\n",
       "    <tr style=\"text-align: right;\">\n",
       "      <th></th>\n",
       "      <th>title</th>\n",
       "      <th>text</th>\n",
       "      <th>subject</th>\n",
       "      <th>date</th>\n",
       "      <th>label</th>\n",
       "    </tr>\n",
       "  </thead>\n",
       "  <tbody>\n",
       "    <tr>\n",
       "      <th>0</th>\n",
       "      <td>Donald Trump Sends Out Embarrassing New Year’...</td>\n",
       "      <td>Donald Trump just couldn t wish all Americans ...</td>\n",
       "      <td>News</td>\n",
       "      <td>December 31, 2017</td>\n",
       "      <td>0</td>\n",
       "    </tr>\n",
       "    <tr>\n",
       "      <th>1</th>\n",
       "      <td>Drunk Bragging Trump Staffer Started Russian ...</td>\n",
       "      <td>House Intelligence Committee Chairman Devin Nu...</td>\n",
       "      <td>News</td>\n",
       "      <td>December 31, 2017</td>\n",
       "      <td>0</td>\n",
       "    </tr>\n",
       "    <tr>\n",
       "      <th>2</th>\n",
       "      <td>Sheriff David Clarke Becomes An Internet Joke...</td>\n",
       "      <td>On Friday, it was revealed that former Milwauk...</td>\n",
       "      <td>News</td>\n",
       "      <td>December 30, 2017</td>\n",
       "      <td>0</td>\n",
       "    </tr>\n",
       "    <tr>\n",
       "      <th>3</th>\n",
       "      <td>Trump Is So Obsessed He Even Has Obama’s Name...</td>\n",
       "      <td>On Christmas day, Donald Trump announced that ...</td>\n",
       "      <td>News</td>\n",
       "      <td>December 29, 2017</td>\n",
       "      <td>0</td>\n",
       "    </tr>\n",
       "    <tr>\n",
       "      <th>4</th>\n",
       "      <td>Pope Francis Just Called Out Donald Trump Dur...</td>\n",
       "      <td>Pope Francis used his annual Christmas Day mes...</td>\n",
       "      <td>News</td>\n",
       "      <td>December 25, 2017</td>\n",
       "      <td>0</td>\n",
       "    </tr>\n",
       "  </tbody>\n",
       "</table>\n",
       "</div>"
      ],
      "text/plain": [
       "                                               title  \\\n",
       "0   Donald Trump Sends Out Embarrassing New Year’...   \n",
       "1   Drunk Bragging Trump Staffer Started Russian ...   \n",
       "2   Sheriff David Clarke Becomes An Internet Joke...   \n",
       "3   Trump Is So Obsessed He Even Has Obama’s Name...   \n",
       "4   Pope Francis Just Called Out Donald Trump Dur...   \n",
       "\n",
       "                                                text subject  \\\n",
       "0  Donald Trump just couldn t wish all Americans ...    News   \n",
       "1  House Intelligence Committee Chairman Devin Nu...    News   \n",
       "2  On Friday, it was revealed that former Milwauk...    News   \n",
       "3  On Christmas day, Donald Trump announced that ...    News   \n",
       "4  Pope Francis used his annual Christmas Day mes...    News   \n",
       "\n",
       "                date  label  \n",
       "0  December 31, 2017      0  \n",
       "1  December 31, 2017      0  \n",
       "2  December 30, 2017      0  \n",
       "3  December 29, 2017      0  \n",
       "4  December 25, 2017      0  "
      ]
     },
     "execution_count": 84,
     "metadata": {},
     "output_type": "execute_result"
    }
   ],
   "source": [
    "df.head()"
   ]
  },
  {
   "cell_type": "code",
   "execution_count": null,
   "id": "fc44c593-87db-4bcb-96a2-340ce91ed27c",
   "metadata": {},
   "outputs": [],
   "source": []
  }
 ],
 "metadata": {
  "kernelspec": {
   "display_name": "Python 3 (ipykernel)",
   "language": "python",
   "name": "python3"
  },
  "language_info": {
   "codemirror_mode": {
    "name": "ipython",
    "version": 3
   },
   "file_extension": ".py",
   "mimetype": "text/x-python",
   "name": "python",
   "nbconvert_exporter": "python",
   "pygments_lexer": "ipython3",
   "version": "3.12.4"
  }
 },
 "nbformat": 4,
 "nbformat_minor": 5
}
