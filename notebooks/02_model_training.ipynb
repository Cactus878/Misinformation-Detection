{
 "cells": [
  {
   "cell_type": "code",
   "execution_count": null,
   "id": "c4534c0c-a437-474d-8598-bc940e9f45c4",
   "metadata": {},
   "outputs": [],
   "source": []
  }
 ],
 "metadata": {
  "kernelspec": {
   "display_name": "",
   "name": ""
  },
  "language_info": {
   "name": ""
  }
 },
 "nbformat": 4,
 "nbformat_minor": 5
}
