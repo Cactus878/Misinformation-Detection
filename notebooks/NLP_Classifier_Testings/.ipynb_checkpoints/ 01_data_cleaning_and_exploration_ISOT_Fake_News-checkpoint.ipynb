{
 "cells": [
  {
   "cell_type": "markdown",
   "id": "755435e8-1a31-4281-9260-c251f9114a09",
   "metadata": {},
   "source": [
    "# 1. Install Dependencies"
   ]
  },
  {
   "cell_type": "code",
   "execution_count": 80,
   "id": "65755a18-c0fd-4c9b-a164-2e3c1c81220c",
   "metadata": {},
   "outputs": [
    {
     "name": "stdout",
     "output_type": "stream",
     "text": [
      "Requirement already satisfied: pandas in c:\\users\\yanni\\new folder\\lib\\site-packages (2.3.0)\n",
      "Requirement already satisfied: numpy>=1.26.0 in c:\\users\\yanni\\new folder\\lib\\site-packages (from pandas) (1.26.4)\n",
      "Requirement already satisfied: python-dateutil>=2.8.2 in c:\\users\\yanni\\new folder\\lib\\site-packages (from pandas) (2.9.0.post0)\n",
      "Requirement already satisfied: pytz>=2020.1 in c:\\users\\yanni\\new folder\\lib\\site-packages (from pandas) (2024.1)\n",
      "Requirement already satisfied: tzdata>=2022.7 in c:\\users\\yanni\\new folder\\lib\\site-packages (from pandas) (2023.3)\n",
      "Requirement already satisfied: six>=1.5 in c:\\users\\yanni\\new folder\\lib\\site-packages (from python-dateutil>=2.8.2->pandas) (1.16.0)\n",
      "Note: you may need to restart the kernel to use updated packages.\n"
     ]
    }
   ],
   "source": [
    "pip install pandas --upgrade"
   ]
  },
  {
   "cell_type": "code",
   "execution_count": 3,
   "id": "f8108dd5-bfe2-4337-b4a0-2af9c3b18086",
   "metadata": {},
   "outputs": [],
   "source": [
    "import pandas as pd\n",
    "import nltk\n",
    "from nltk.probability import *\n",
    "from itertools import chain\n",
    "import seaborn as sns\n",
    "import matplotlib.pyplot as plt"
   ]
  },
  {
   "cell_type": "markdown",
   "id": "a984487f-27ba-4daa-863c-0c9d16b25680",
   "metadata": {},
   "source": [
    "# 2. Prepare and Explore data"
   ]
  },
  {
   "cell_type": "markdown",
   "id": "21447d11-1cbe-4bcf-9975-7d53f3f98c6d",
   "metadata": {},
   "source": [
    "## Preparation"
   ]
  },
  {
   "cell_type": "code",
   "execution_count": 6,
   "id": "9cd929d8-7cec-44fe-9cab-3b9b0167c7b7",
   "metadata": {},
   "outputs": [],
   "source": [
    "# Path to data\n",
    "base_path = \"../../data/ISOT_Fake_News/\"\n",
    "\n",
    "fake_df = pd.read_csv(f\"{base_path}Fake.csv\")\n",
    "true_df   = pd.read_csv(f\"{base_path}True.csv\")"
   ]
  },
  {
   "cell_type": "code",
   "execution_count": 7,
   "id": "1c97d592-f46a-447c-815b-93f77bb15851",
   "metadata": {},
   "outputs": [
    {
     "name": "stdout",
     "output_type": "stream",
     "text": [
      "fake data shape: (23481, 4)\n",
      "true data shape: (21417, 4)\n"
     ]
    }
   ],
   "source": [
    "print(\"fake data shape:\", fake_df.shape)\n",
    "print(\"true data shape:\", true_df.shape)"
   ]
  },
  {
   "cell_type": "code",
   "execution_count": 8,
   "id": "c780edfa-6662-40ba-af07-a8e70f7505f8",
   "metadata": {},
   "outputs": [
    {
     "data": {
      "text/html": [
       "<div>\n",
       "<style scoped>\n",
       "    .dataframe tbody tr th:only-of-type {\n",
       "        vertical-align: middle;\n",
       "    }\n",
       "\n",
       "    .dataframe tbody tr th {\n",
       "        vertical-align: top;\n",
       "    }\n",
       "\n",
       "    .dataframe thead th {\n",
       "        text-align: right;\n",
       "    }\n",
       "</style>\n",
       "<table border=\"1\" class=\"dataframe\">\n",
       "  <thead>\n",
       "    <tr style=\"text-align: right;\">\n",
       "      <th></th>\n",
       "      <th>title</th>\n",
       "      <th>text</th>\n",
       "      <th>subject</th>\n",
       "      <th>date</th>\n",
       "    </tr>\n",
       "  </thead>\n",
       "  <tbody>\n",
       "    <tr>\n",
       "      <th>0</th>\n",
       "      <td>Donald Trump Sends Out Embarrassing New Year’...</td>\n",
       "      <td>Donald Trump just couldn t wish all Americans ...</td>\n",
       "      <td>News</td>\n",
       "      <td>December 31, 2017</td>\n",
       "    </tr>\n",
       "    <tr>\n",
       "      <th>1</th>\n",
       "      <td>Drunk Bragging Trump Staffer Started Russian ...</td>\n",
       "      <td>House Intelligence Committee Chairman Devin Nu...</td>\n",
       "      <td>News</td>\n",
       "      <td>December 31, 2017</td>\n",
       "    </tr>\n",
       "    <tr>\n",
       "      <th>2</th>\n",
       "      <td>Sheriff David Clarke Becomes An Internet Joke...</td>\n",
       "      <td>On Friday, it was revealed that former Milwauk...</td>\n",
       "      <td>News</td>\n",
       "      <td>December 30, 2017</td>\n",
       "    </tr>\n",
       "    <tr>\n",
       "      <th>3</th>\n",
       "      <td>Trump Is So Obsessed He Even Has Obama’s Name...</td>\n",
       "      <td>On Christmas day, Donald Trump announced that ...</td>\n",
       "      <td>News</td>\n",
       "      <td>December 29, 2017</td>\n",
       "    </tr>\n",
       "    <tr>\n",
       "      <th>4</th>\n",
       "      <td>Pope Francis Just Called Out Donald Trump Dur...</td>\n",
       "      <td>Pope Francis used his annual Christmas Day mes...</td>\n",
       "      <td>News</td>\n",
       "      <td>December 25, 2017</td>\n",
       "    </tr>\n",
       "  </tbody>\n",
       "</table>\n",
       "</div>"
      ],
      "text/plain": [
       "                                               title  \\\n",
       "0   Donald Trump Sends Out Embarrassing New Year’...   \n",
       "1   Drunk Bragging Trump Staffer Started Russian ...   \n",
       "2   Sheriff David Clarke Becomes An Internet Joke...   \n",
       "3   Trump Is So Obsessed He Even Has Obama’s Name...   \n",
       "4   Pope Francis Just Called Out Donald Trump Dur...   \n",
       "\n",
       "                                                text subject  \\\n",
       "0  Donald Trump just couldn t wish all Americans ...    News   \n",
       "1  House Intelligence Committee Chairman Devin Nu...    News   \n",
       "2  On Friday, it was revealed that former Milwauk...    News   \n",
       "3  On Christmas day, Donald Trump announced that ...    News   \n",
       "4  Pope Francis used his annual Christmas Day mes...    News   \n",
       "\n",
       "                date  \n",
       "0  December 31, 2017  \n",
       "1  December 31, 2017  \n",
       "2  December 30, 2017  \n",
       "3  December 29, 2017  \n",
       "4  December 25, 2017  "
      ]
     },
     "execution_count": 8,
     "metadata": {},
     "output_type": "execute_result"
    }
   ],
   "source": [
    "fake_df.head()"
   ]
  },
  {
   "cell_type": "code",
   "execution_count": 9,
   "id": "2070445b-cacb-41f9-ac4e-a6764576dfbd",
   "metadata": {},
   "outputs": [
    {
     "data": {
      "text/html": [
       "<div>\n",
       "<style scoped>\n",
       "    .dataframe tbody tr th:only-of-type {\n",
       "        vertical-align: middle;\n",
       "    }\n",
       "\n",
       "    .dataframe tbody tr th {\n",
       "        vertical-align: top;\n",
       "    }\n",
       "\n",
       "    .dataframe thead th {\n",
       "        text-align: right;\n",
       "    }\n",
       "</style>\n",
       "<table border=\"1\" class=\"dataframe\">\n",
       "  <thead>\n",
       "    <tr style=\"text-align: right;\">\n",
       "      <th></th>\n",
       "      <th>title</th>\n",
       "      <th>text</th>\n",
       "      <th>subject</th>\n",
       "      <th>date</th>\n",
       "    </tr>\n",
       "  </thead>\n",
       "  <tbody>\n",
       "    <tr>\n",
       "      <th>0</th>\n",
       "      <td>As U.S. budget fight looms, Republicans flip t...</td>\n",
       "      <td>WASHINGTON (Reuters) - The head of a conservat...</td>\n",
       "      <td>politicsNews</td>\n",
       "      <td>December 31, 2017</td>\n",
       "    </tr>\n",
       "    <tr>\n",
       "      <th>1</th>\n",
       "      <td>U.S. military to accept transgender recruits o...</td>\n",
       "      <td>WASHINGTON (Reuters) - Transgender people will...</td>\n",
       "      <td>politicsNews</td>\n",
       "      <td>December 29, 2017</td>\n",
       "    </tr>\n",
       "    <tr>\n",
       "      <th>2</th>\n",
       "      <td>Senior U.S. Republican senator: 'Let Mr. Muell...</td>\n",
       "      <td>WASHINGTON (Reuters) - The special counsel inv...</td>\n",
       "      <td>politicsNews</td>\n",
       "      <td>December 31, 2017</td>\n",
       "    </tr>\n",
       "    <tr>\n",
       "      <th>3</th>\n",
       "      <td>FBI Russia probe helped by Australian diplomat...</td>\n",
       "      <td>WASHINGTON (Reuters) - Trump campaign adviser ...</td>\n",
       "      <td>politicsNews</td>\n",
       "      <td>December 30, 2017</td>\n",
       "    </tr>\n",
       "    <tr>\n",
       "      <th>4</th>\n",
       "      <td>Trump wants Postal Service to charge 'much mor...</td>\n",
       "      <td>SEATTLE/WASHINGTON (Reuters) - President Donal...</td>\n",
       "      <td>politicsNews</td>\n",
       "      <td>December 29, 2017</td>\n",
       "    </tr>\n",
       "  </tbody>\n",
       "</table>\n",
       "</div>"
      ],
      "text/plain": [
       "                                               title  \\\n",
       "0  As U.S. budget fight looms, Republicans flip t...   \n",
       "1  U.S. military to accept transgender recruits o...   \n",
       "2  Senior U.S. Republican senator: 'Let Mr. Muell...   \n",
       "3  FBI Russia probe helped by Australian diplomat...   \n",
       "4  Trump wants Postal Service to charge 'much mor...   \n",
       "\n",
       "                                                text       subject  \\\n",
       "0  WASHINGTON (Reuters) - The head of a conservat...  politicsNews   \n",
       "1  WASHINGTON (Reuters) - Transgender people will...  politicsNews   \n",
       "2  WASHINGTON (Reuters) - The special counsel inv...  politicsNews   \n",
       "3  WASHINGTON (Reuters) - Trump campaign adviser ...  politicsNews   \n",
       "4  SEATTLE/WASHINGTON (Reuters) - President Donal...  politicsNews   \n",
       "\n",
       "                 date  \n",
       "0  December 31, 2017   \n",
       "1  December 29, 2017   \n",
       "2  December 31, 2017   \n",
       "3  December 30, 2017   \n",
       "4  December 29, 2017   "
      ]
     },
     "execution_count": 9,
     "metadata": {},
     "output_type": "execute_result"
    }
   ],
   "source": [
    "true_df.head()"
   ]
  },
  {
   "cell_type": "code",
   "execution_count": 10,
   "id": "93f0ad05-d630-42e0-ab65-7daf09089177",
   "metadata": {},
   "outputs": [],
   "source": [
    "true_df['label'] = 1\n",
    "fake_df['label'] = 0"
   ]
  },
  {
   "cell_type": "code",
   "execution_count": 11,
   "id": "1f769fe0-1840-41bb-ab97-de3a8e92cbcf",
   "metadata": {},
   "outputs": [],
   "source": [
    "# Combine fake and true\n",
    "df = pd.concat([true_df, fake_df], ignore_index=True).sample(frac=1)"
   ]
  },
  {
   "cell_type": "code",
   "execution_count": 12,
   "id": "f3be114c-e23f-478e-9283-9a96c28629a3",
   "metadata": {},
   "outputs": [
    {
     "data": {
      "text/html": [
       "<div>\n",
       "<style scoped>\n",
       "    .dataframe tbody tr th:only-of-type {\n",
       "        vertical-align: middle;\n",
       "    }\n",
       "\n",
       "    .dataframe tbody tr th {\n",
       "        vertical-align: top;\n",
       "    }\n",
       "\n",
       "    .dataframe thead th {\n",
       "        text-align: right;\n",
       "    }\n",
       "</style>\n",
       "<table border=\"1\" class=\"dataframe\">\n",
       "  <thead>\n",
       "    <tr style=\"text-align: right;\">\n",
       "      <th></th>\n",
       "      <th>title</th>\n",
       "      <th>text</th>\n",
       "      <th>subject</th>\n",
       "      <th>date</th>\n",
       "      <th>label</th>\n",
       "    </tr>\n",
       "  </thead>\n",
       "  <tbody>\n",
       "    <tr>\n",
       "      <th>21292</th>\n",
       "      <td>German admits selling gun to Munich attack sho...</td>\n",
       "      <td>BERLIN (Reuters) - A 32-year-old German man ad...</td>\n",
       "      <td>worldnews</td>\n",
       "      <td>August 28, 2017</td>\n",
       "      <td>1</td>\n",
       "    </tr>\n",
       "    <tr>\n",
       "      <th>23231</th>\n",
       "      <td>Chelsea Clinton Has A Little Advice For Sean ...</td>\n",
       "      <td>White House Secretary Sean Spicer decided to r...</td>\n",
       "      <td>News</td>\n",
       "      <td>April 11, 2017</td>\n",
       "      <td>0</td>\n",
       "    </tr>\n",
       "    <tr>\n",
       "      <th>32567</th>\n",
       "      <td>LIBERAL Lansing, MI Mayor Forced To REMOVE “Sa...</td>\n",
       "      <td>Watch his appearance on Tucker Carlson where h...</td>\n",
       "      <td>politics</td>\n",
       "      <td>Apr 13, 2017</td>\n",
       "      <td>0</td>\n",
       "    </tr>\n",
       "    <tr>\n",
       "      <th>41555</th>\n",
       "      <td>STEALING THE ELECTION…SHOCKING CBS Report Show...</td>\n",
       "      <td>Roughly 70% of states use some form of electro...</td>\n",
       "      <td>left-news</td>\n",
       "      <td>Aug 11, 2016</td>\n",
       "      <td>0</td>\n",
       "    </tr>\n",
       "    <tr>\n",
       "      <th>44336</th>\n",
       "      <td>Boiler Room #104 – War Sells… But Who’s Buying</td>\n",
       "      <td>Tune in to the Alternate Current Radio Network...</td>\n",
       "      <td>Middle-east</td>\n",
       "      <td>April 7, 2017</td>\n",
       "      <td>0</td>\n",
       "    </tr>\n",
       "  </tbody>\n",
       "</table>\n",
       "</div>"
      ],
      "text/plain": [
       "                                                   title  \\\n",
       "21292  German admits selling gun to Munich attack sho...   \n",
       "23231   Chelsea Clinton Has A Little Advice For Sean ...   \n",
       "32567  LIBERAL Lansing, MI Mayor Forced To REMOVE “Sa...   \n",
       "41555  STEALING THE ELECTION…SHOCKING CBS Report Show...   \n",
       "44336     Boiler Room #104 – War Sells… But Who’s Buying   \n",
       "\n",
       "                                                    text      subject  \\\n",
       "21292  BERLIN (Reuters) - A 32-year-old German man ad...    worldnews   \n",
       "23231  White House Secretary Sean Spicer decided to r...         News   \n",
       "32567  Watch his appearance on Tucker Carlson where h...     politics   \n",
       "41555  Roughly 70% of states use some form of electro...    left-news   \n",
       "44336  Tune in to the Alternate Current Radio Network...  Middle-east   \n",
       "\n",
       "                   date  label  \n",
       "21292  August 28, 2017       1  \n",
       "23231    April 11, 2017      0  \n",
       "32567      Apr 13, 2017      0  \n",
       "41555      Aug 11, 2016      0  \n",
       "44336     April 7, 2017      0  "
      ]
     },
     "execution_count": 12,
     "metadata": {},
     "output_type": "execute_result"
    }
   ],
   "source": [
    "df.head()"
   ]
  },
  {
   "cell_type": "code",
   "execution_count": 13,
   "id": "9eb00bbc-6f31-402a-9bd8-36a4db22dd40",
   "metadata": {},
   "outputs": [
    {
     "data": {
      "text/plain": [
       "subject\n",
       "politicsNews       11272\n",
       "worldnews          10145\n",
       "News                9050\n",
       "politics            6841\n",
       "left-news           4459\n",
       "Government News     1570\n",
       "US_News              783\n",
       "Middle-east          778\n",
       "Name: count, dtype: int64"
      ]
     },
     "execution_count": 13,
     "metadata": {},
     "output_type": "execute_result"
    }
   ],
   "source": [
    "df['subject'].value_counts()"
   ]
  },
  {
   "cell_type": "code",
   "execution_count": 14,
   "id": "305da8ea-34f3-4fff-ad30-5c23f1154818",
   "metadata": {},
   "outputs": [
    {
     "name": "stdout",
     "output_type": "stream",
     "text": [
      "data shape: (44898, 5)\n"
     ]
    }
   ],
   "source": [
    "print(\"data shape:\", df.shape)"
   ]
  },
  {
   "cell_type": "code",
   "execution_count": 15,
   "id": "e6abaf33-8051-4570-b507-71b9867bd1cd",
   "metadata": {},
   "outputs": [
    {
     "data": {
      "text/plain": [
       "209"
      ]
     },
     "execution_count": 15,
     "metadata": {},
     "output_type": "execute_result"
    }
   ],
   "source": [
    "df.duplicated().sum()"
   ]
  },
  {
   "cell_type": "code",
   "execution_count": 16,
   "id": "f398d1b0-f33b-4c06-9d6c-f03924d3fced",
   "metadata": {},
   "outputs": [],
   "source": [
    "df.drop_duplicates(inplace=True)"
   ]
  },
  {
   "cell_type": "code",
   "execution_count": 17,
   "id": "d4591a0d-1acd-4932-85fa-c847cb020ced",
   "metadata": {},
   "outputs": [
    {
     "data": {
      "text/plain": [
       "0"
      ]
     },
     "execution_count": 17,
     "metadata": {},
     "output_type": "execute_result"
    }
   ],
   "source": [
    "df.duplicated().sum()"
   ]
  },
  {
   "cell_type": "code",
   "execution_count": 18,
   "id": "8127388c-8298-43f2-ba09-746f892bb735",
   "metadata": {},
   "outputs": [
    {
     "data": {
      "text/plain": [
       "title      0\n",
       "text       0\n",
       "subject    0\n",
       "date       0\n",
       "label      0\n",
       "dtype: int64"
      ]
     },
     "execution_count": 18,
     "metadata": {},
     "output_type": "execute_result"
    }
   ],
   "source": [
    "df.isnull().sum()"
   ]
  },
  {
   "cell_type": "code",
   "execution_count": 19,
   "id": "e2b8e798-6ea5-4d9d-b178-d36677740fd8",
   "metadata": {},
   "outputs": [],
   "source": [
    "empty_text_rows = df[df[\"text\"].str.strip() == \"\"]"
   ]
  },
  {
   "cell_type": "code",
   "execution_count": 20,
   "id": "098dc847-0b48-4929-b631-fe96c749f6aa",
   "metadata": {},
   "outputs": [
    {
     "data": {
      "text/html": [
       "<div>\n",
       "<style scoped>\n",
       "    .dataframe tbody tr th:only-of-type {\n",
       "        vertical-align: middle;\n",
       "    }\n",
       "\n",
       "    .dataframe tbody tr th {\n",
       "        vertical-align: top;\n",
       "    }\n",
       "\n",
       "    .dataframe thead th {\n",
       "        text-align: right;\n",
       "    }\n",
       "</style>\n",
       "<table border=\"1\" class=\"dataframe\">\n",
       "  <thead>\n",
       "    <tr style=\"text-align: right;\">\n",
       "      <th></th>\n",
       "      <th>title</th>\n",
       "      <th>text</th>\n",
       "      <th>subject</th>\n",
       "      <th>date</th>\n",
       "      <th>label</th>\n",
       "    </tr>\n",
       "  </thead>\n",
       "  <tbody>\n",
       "    <tr>\n",
       "      <th>40486</th>\n",
       "      <td>Unreal! CNN Anchor Claims Trump Has Committed ...</td>\n",
       "      <td></td>\n",
       "      <td>left-news</td>\n",
       "      <td>Feb 28, 2017</td>\n",
       "      <td>0</td>\n",
       "    </tr>\n",
       "    <tr>\n",
       "      <th>33854</th>\n",
       "      <td>SEATTLE CITY COUNCILWOMAN Incites Riot…Vows To...</td>\n",
       "      <td></td>\n",
       "      <td>politics</td>\n",
       "      <td>Nov 11, 2016</td>\n",
       "      <td>0</td>\n",
       "    </tr>\n",
       "    <tr>\n",
       "      <th>34202</th>\n",
       "      <td>JUDGE JEANINE PIRRO: “Trump Leak Was A Clinton...</td>\n",
       "      <td></td>\n",
       "      <td>politics</td>\n",
       "      <td>Oct 9, 2016</td>\n",
       "      <td>0</td>\n",
       "    </tr>\n",
       "    <tr>\n",
       "      <th>32701</th>\n",
       "      <td>UNREAL! CBS’S TED KOPPEL Tells Sean Hannity He...</td>\n",
       "      <td></td>\n",
       "      <td>politics</td>\n",
       "      <td>Mar 27, 2017</td>\n",
       "      <td>0</td>\n",
       "    </tr>\n",
       "    <tr>\n",
       "      <th>32881</th>\n",
       "      <td>A MUST WATCH! MONICA CROWLEY WARNS TRUMP: “The...</td>\n",
       "      <td></td>\n",
       "      <td>politics</td>\n",
       "      <td>Mar 8, 2017</td>\n",
       "      <td>0</td>\n",
       "    </tr>\n",
       "    <tr>\n",
       "      <th>...</th>\n",
       "      <td>...</td>\n",
       "      <td>...</td>\n",
       "      <td>...</td>\n",
       "      <td>...</td>\n",
       "      <td>...</td>\n",
       "    </tr>\n",
       "    <tr>\n",
       "      <th>34200</th>\n",
       "      <td>DONALD TRUMP – VS – CROOKED HILLARY Second Pre...</td>\n",
       "      <td></td>\n",
       "      <td>politics</td>\n",
       "      <td>Oct 9, 2016</td>\n",
       "      <td>0</td>\n",
       "    </tr>\n",
       "    <tr>\n",
       "      <th>32718</th>\n",
       "      <td>LAWYER FOR ILLEGAL ALIEN RAPISTS: “Hysteria” O...</td>\n",
       "      <td></td>\n",
       "      <td>politics</td>\n",
       "      <td>Mar 25, 2017</td>\n",
       "      <td>0</td>\n",
       "    </tr>\n",
       "    <tr>\n",
       "      <th>34402</th>\n",
       "      <td>WOW! DID JIMMY FALLON Just Destroy Hillary’s C...</td>\n",
       "      <td></td>\n",
       "      <td>politics</td>\n",
       "      <td>Sep 17, 2016</td>\n",
       "      <td>0</td>\n",
       "    </tr>\n",
       "    <tr>\n",
       "      <th>33678</th>\n",
       "      <td>OOPS! SEN COONS ADMITS REGRET MAKING IT EASIER...</td>\n",
       "      <td></td>\n",
       "      <td>politics</td>\n",
       "      <td>Nov 30, 2016</td>\n",
       "      <td>0</td>\n",
       "    </tr>\n",
       "    <tr>\n",
       "      <th>37090</th>\n",
       "      <td>MUST WATCH VIDEO: HILLARY SUPPORTERS ACTUALLY ...</td>\n",
       "      <td></td>\n",
       "      <td>politics</td>\n",
       "      <td>May 19, 2015</td>\n",
       "      <td>0</td>\n",
       "    </tr>\n",
       "  </tbody>\n",
       "</table>\n",
       "<p>631 rows × 5 columns</p>\n",
       "</div>"
      ],
      "text/plain": [
       "                                                   title text    subject  \\\n",
       "40486  Unreal! CNN Anchor Claims Trump Has Committed ...       left-news   \n",
       "33854  SEATTLE CITY COUNCILWOMAN Incites Riot…Vows To...        politics   \n",
       "34202  JUDGE JEANINE PIRRO: “Trump Leak Was A Clinton...        politics   \n",
       "32701  UNREAL! CBS’S TED KOPPEL Tells Sean Hannity He...        politics   \n",
       "32881  A MUST WATCH! MONICA CROWLEY WARNS TRUMP: “The...        politics   \n",
       "...                                                  ...  ...        ...   \n",
       "34200  DONALD TRUMP – VS – CROOKED HILLARY Second Pre...        politics   \n",
       "32718  LAWYER FOR ILLEGAL ALIEN RAPISTS: “Hysteria” O...        politics   \n",
       "34402  WOW! DID JIMMY FALLON Just Destroy Hillary’s C...        politics   \n",
       "33678  OOPS! SEN COONS ADMITS REGRET MAKING IT EASIER...        politics   \n",
       "37090  MUST WATCH VIDEO: HILLARY SUPPORTERS ACTUALLY ...        politics   \n",
       "\n",
       "               date  label  \n",
       "40486  Feb 28, 2017      0  \n",
       "33854  Nov 11, 2016      0  \n",
       "34202   Oct 9, 2016      0  \n",
       "32701  Mar 27, 2017      0  \n",
       "32881   Mar 8, 2017      0  \n",
       "...             ...    ...  \n",
       "34200   Oct 9, 2016      0  \n",
       "32718  Mar 25, 2017      0  \n",
       "34402  Sep 17, 2016      0  \n",
       "33678  Nov 30, 2016      0  \n",
       "37090  May 19, 2015      0  \n",
       "\n",
       "[631 rows x 5 columns]"
      ]
     },
     "execution_count": 20,
     "metadata": {},
     "output_type": "execute_result"
    }
   ],
   "source": [
    "empty_text_rows"
   ]
  },
  {
   "cell_type": "code",
   "execution_count": 21,
   "id": "f4603f1d-664d-477e-ba8c-102c3bd45076",
   "metadata": {},
   "outputs": [],
   "source": [
    "# Remove empty texts\n",
    "df = df[df[\"text\"].str.strip() != \"\"]"
   ]
  },
  {
   "cell_type": "markdown",
   "id": "e1c54a8d-8b4b-453d-b8d2-9bb94bf0f5a5",
   "metadata": {},
   "source": [
    "## Exploration"
   ]
  },
  {
   "cell_type": "code",
   "execution_count": 23,
   "id": "54291f18-6e12-428f-86b4-985b522e620f",
   "metadata": {},
   "outputs": [
    {
     "data": {
      "text/html": [
       "<div>\n",
       "<style scoped>\n",
       "    .dataframe tbody tr th:only-of-type {\n",
       "        vertical-align: middle;\n",
       "    }\n",
       "\n",
       "    .dataframe tbody tr th {\n",
       "        vertical-align: top;\n",
       "    }\n",
       "\n",
       "    .dataframe thead th {\n",
       "        text-align: right;\n",
       "    }\n",
       "</style>\n",
       "<table border=\"1\" class=\"dataframe\">\n",
       "  <thead>\n",
       "    <tr style=\"text-align: right;\">\n",
       "      <th></th>\n",
       "      <th>subject</th>\n",
       "      <th>label</th>\n",
       "      <th>count</th>\n",
       "    </tr>\n",
       "  </thead>\n",
       "  <tbody>\n",
       "    <tr>\n",
       "      <th>0</th>\n",
       "      <td>Government News</td>\n",
       "      <td>0</td>\n",
       "      <td>1498</td>\n",
       "    </tr>\n",
       "    <tr>\n",
       "      <th>1</th>\n",
       "      <td>Middle-east</td>\n",
       "      <td>0</td>\n",
       "      <td>778</td>\n",
       "    </tr>\n",
       "    <tr>\n",
       "      <th>2</th>\n",
       "      <td>News</td>\n",
       "      <td>0</td>\n",
       "      <td>9050</td>\n",
       "    </tr>\n",
       "    <tr>\n",
       "      <th>3</th>\n",
       "      <td>US_News</td>\n",
       "      <td>0</td>\n",
       "      <td>783</td>\n",
       "    </tr>\n",
       "    <tr>\n",
       "      <th>4</th>\n",
       "      <td>left-news</td>\n",
       "      <td>0</td>\n",
       "      <td>4309</td>\n",
       "    </tr>\n",
       "    <tr>\n",
       "      <th>5</th>\n",
       "      <td>politics</td>\n",
       "      <td>0</td>\n",
       "      <td>6430</td>\n",
       "    </tr>\n",
       "    <tr>\n",
       "      <th>6</th>\n",
       "      <td>politicsNews</td>\n",
       "      <td>1</td>\n",
       "      <td>11219</td>\n",
       "    </tr>\n",
       "    <tr>\n",
       "      <th>7</th>\n",
       "      <td>worldnews</td>\n",
       "      <td>1</td>\n",
       "      <td>9991</td>\n",
       "    </tr>\n",
       "  </tbody>\n",
       "</table>\n",
       "</div>"
      ],
      "text/plain": [
       "           subject  label  count\n",
       "0  Government News      0   1498\n",
       "1      Middle-east      0    778\n",
       "2             News      0   9050\n",
       "3          US_News      0    783\n",
       "4        left-news      0   4309\n",
       "5         politics      0   6430\n",
       "6     politicsNews      1  11219\n",
       "7        worldnews      1   9991"
      ]
     },
     "execution_count": 23,
     "metadata": {},
     "output_type": "execute_result"
    }
   ],
   "source": [
    "group = df.groupby(['subject', 'label']).size().reset_index(name='count')\n",
    "group"
   ]
  },
  {
   "cell_type": "code",
   "execution_count": 24,
   "id": "887720df-5b8a-467f-ab66-9e4e601a8dea",
   "metadata": {},
   "outputs": [
    {
     "data": {
      "text/plain": [
       "<Axes: xlabel='subject', ylabel='count'>"
      ]
     },
     "execution_count": 24,
     "metadata": {},
     "output_type": "execute_result"
    },
    {
     "data": {
      "image/png": "[encoded data removed]",
      "text/plain": [
       "<Figure size 1000x600 with 1 Axes>"
      ]
     },
     "metadata": {},
     "output_type": "display_data"
    }
   ],
   "source": [
    "plt.figure(figsize=(10, 6))\n",
    "sns.barplot(group, x='subject', y='count', hue='label')"
   ]
  },
  {
   "cell_type": "markdown",
   "id": "2955fcee-55f4-4067-b9db-2f9f7edd4381",
   "metadata": {},
   "source": [
    "# 3. Text cleaning"
   ]
  },
  {
   "cell_type": "markdown",
   "id": "efe49293-36c3-4295-8ac7-6f702ec968b8",
   "metadata": {},
   "source": [
    "## Lowercase all text"
   ]
  },
  {
   "cell_type": "code",
   "execution_count": 27,
   "id": "f32c48ed-d6e0-4aa0-80d2-df3d686904cb",
   "metadata": {},
   "outputs": [],
   "source": [
    "import re"
   ]
  },
  {
   "cell_type": "code",
   "execution_count": 29,
   "id": "0b7e84f4-8cf6-45f0-b75a-b538b61c8d60",
   "metadata": {},
   "outputs": [],
   "source": [
    "def lowerStringCols(df):\n",
    "    for col in df.columns:\n",
    "        if df[col].dtype == \"O\": # If column data type is an object\n",
    "            df[col] = df[col].str.lower()\n",
    "    return df"
   ]
  },
  {
   "cell_type": "code",
   "execution_count": 30,
   "id": "e12fbdd5-0b82-449e-9ad8-573038de7185",
   "metadata": {},
   "outputs": [],
   "source": [
    "df = lowerStringCols(df)"
   ]
  },
  {
   "cell_type": "code",
   "execution_count": 31,
   "id": "eba46b67-d7df-4345-a5b5-d82468d58ce7",
   "metadata": {},
   "outputs": [],
   "source": [
    "# Extract columns\n",
    "df_text = df['text']\n",
    "df_title = df['title']"
   ]
  },
  {
   "cell_type": "markdown",
   "id": "d6240258-e8e3-4bed-aa3c-eec64d2274bb",
   "metadata": {},
   "source": [
    "## Remove URL and Picture links"
   ]
  },
  {
   "cell_type": "code",
   "execution_count": 57,
   "id": "b877e922-eac8-4db2-b1ce-7e9885f34070",
   "metadata": {},
   "outputs": [
    {
     "data": {
      "text/plain": [
       "'kiev (reuters) - ukrainian prosecutors have ended an inquiry into finance minister oleksandr danylyuk over alleged tax evasion after failing to find any evidence of wrongdoing, his press service said on tuesday. the investigation was launched in july at the request of lawmaker tetiana chornovol, a member of former prime minister arseny yatseniuk s  people s front  party.  danylyuk, who became finance minister after yatseniuk s ouster in april 2016, denied the charges and hinted they were linked to his efforts to crack down on corruption. in a statement his press service said  the case has been closed due to a lack of circumstances constituting a breach of law.  the general prosecutor s office did not immediately respond to a request for comment.  since becoming finance minister, danylyuk, a former investment manager who has also served as a deputy head of president petro poroshenko s administration, has backed reforms required under a $17.5 billion bailout program from the international monetary fund. '"
      ]
     },
     "execution_count": 57,
     "metadata": {},
     "output_type": "execute_result"
    }
   ],
   "source": [
    "df_text.iloc[9]"
   ]
  },
  {
   "cell_type": "code",
   "execution_count": 59,
   "id": "2eab9486-7fd3-41fc-bf07-7c2aa1c70264",
   "metadata": {},
   "outputs": [
    {
     "name": "stderr",
     "output_type": "stream",
     "text": [
      "<>:2: SyntaxWarning: invalid escape sequence '\\S'\n",
      "<>:2: SyntaxWarning: invalid escape sequence '\\S'\n",
      "C:\\Users\\yanni\\AppData\\Local\\Temp\\ipykernel_3876\\3147657975.py:2: SyntaxWarning: invalid escape sequence '\\S'\n",
      "  regex = re.compile('https?://\\S+|www\\.\\S+|pic\\.twitter\\.com/\\S+')\n"
     ]
    }
   ],
   "source": [
    "def removeURLandPic(text):\n",
    "    regex = re.compile('https?://\\S+|www\\.\\S+|pic\\.twitter\\.com/\\S+')\n",
    "    text = regex.sub('', text)\n",
    "    return text"
   ]
  },
  {
   "cell_type": "code",
   "execution_count": 61,
   "id": "9f8e69df-9c7f-411d-9d27-d111a5c03525",
   "metadata": {},
   "outputs": [],
   "source": [
    "df_title = df_title.apply(lambda x: removeURLandPic(x))\n",
    "df_text = df_text.apply(lambda x:  removeURLandPic(x))"
   ]
  },
  {
   "cell_type": "code",
   "execution_count": 62,
   "id": "abdff42e-8862-4468-a1ef-cfc8e904d930",
   "metadata": {},
   "outputs": [
    {
     "data": {
      "text/plain": [
       "'kiev (reuters) - ukrainian prosecutors have ended an inquiry into finance minister oleksandr danylyuk over alleged tax evasion after failing to find any evidence of wrongdoing, his press service said on tuesday. the investigation was launched in july at the request of lawmaker tetiana chornovol, a member of former prime minister arseny yatseniuk s  people s front  party.  danylyuk, who became finance minister after yatseniuk s ouster in april 2016, denied the charges and hinted they were linked to his efforts to crack down on corruption. in a statement his press service said  the case has been closed due to a lack of circumstances constituting a breach of law.  the general prosecutor s office did not immediately respond to a request for comment.  since becoming finance minister, danylyuk, a former investment manager who has also served as a deputy head of president petro poroshenko s administration, has backed reforms required under a $17.5 billion bailout program from the international monetary fund. '"
      ]
     },
     "execution_count": 62,
     "metadata": {},
     "output_type": "execute_result"
    }
   ],
   "source": [
    "df_text.iloc[9]"
   ]
  },
  {
   "cell_type": "markdown",
   "id": "419660db-6302-4204-9241-c9c8a1e9e1c6",
   "metadata": {},
   "source": [
    "## Remove HTML"
   ]
  },
  {
   "cell_type": "code",
   "execution_count": 64,
   "id": "a8d599ea-78c4-4af7-a01c-bc8ad94b10e8",
   "metadata": {},
   "outputs": [
    {
     "name": "stderr",
     "output_type": "stream",
     "text": [
      "C:\\Users\\yanni\\AppData\\Local\\Temp\\ipykernel_3876\\2007566370.py:4: MarkupResemblesLocatorWarning: The input looks more like a filename than markup. You may want to open this file and pass the filehandle into Beautiful Soup.\n",
      "  title_has_html = df_title.apply(lambda x: bool(BeautifulSoup(x, \"html.parser\").find()))\n",
      "C:\\Users\\yanni\\AppData\\Local\\Temp\\ipykernel_3876\\2007566370.py:5: MarkupResemblesLocatorWarning: The input looks more like a filename than markup. You may want to open this file and pass the filehandle into Beautiful Soup.\n",
      "  text_has_html = df_text.apply(lambda x: bool(BeautifulSoup(x, \"html.parser\").find()))\n"
     ]
    }
   ],
   "source": [
    "from bs4 import BeautifulSoup\n",
    "\n",
    "# Check for HTML in texts\n",
    "title_has_html = df_title.apply(lambda x: bool(BeautifulSoup(x, \"html.parser\").find()))\n",
    "text_has_html = df_text.apply(lambda x: bool(BeautifulSoup(x, \"html.parser\").find()))"
   ]
  },
  {
   "cell_type": "code",
   "execution_count": 65,
   "id": "6329b5fd-261f-4a4a-86c8-26769313377b",
   "metadata": {},
   "outputs": [
    {
     "data": {
      "text/plain": [
       "0"
      ]
     },
     "execution_count": 65,
     "metadata": {},
     "output_type": "execute_result"
    }
   ],
   "source": [
    "title_has_html.sum()"
   ]
  },
  {
   "cell_type": "code",
   "execution_count": 68,
   "id": "28e444ee-db67-495d-8b55-c7fd1feb8fdc",
   "metadata": {},
   "outputs": [
    {
     "data": {
      "text/plain": [
       "37"
      ]
     },
     "execution_count": 68,
     "metadata": {},
     "output_type": "execute_result"
    }
   ],
   "source": [
    "text_has_html.sum()"
   ]
  },
  {
   "cell_type": "code",
   "execution_count": 69,
   "id": "120bd1db-b48a-4d2f-9989-6869965c08d5",
   "metadata": {},
   "outputs": [],
   "source": [
    "def removeHTML(text):\n",
    "    # Use beautifulSoup to remove simple HTML code\n",
    "    text = BeautifulSoup(text, \"html.parser\").get_text()\n",
    "    # HTML like < /script> slip past BeautifulSoup\n",
    "    regex = re.compile('<[^>]+>')\n",
    "    text = regex.sub('', text)\n",
    "    return text"
   ]
  },
  {
   "cell_type": "code",
   "execution_count": 70,
   "id": "854ffeee-8ef8-4b4b-9df2-fd23af6a052e",
   "metadata": {},
   "outputs": [
    {
     "name": "stderr",
     "output_type": "stream",
     "text": [
      "C:\\Users\\yanni\\AppData\\Local\\Temp\\ipykernel_3876\\2353583764.py:3: MarkupResemblesLocatorWarning: The input looks more like a filename than markup. You may want to open this file and pass the filehandle into Beautiful Soup.\n",
      "  text = BeautifulSoup(text, \"html.parser\").get_text()\n"
     ]
    }
   ],
   "source": [
    "# Remove HTML\n",
    "df_title = df_title.apply(lambda x: removeHTML(x))\n",
    "df_text = df_text.apply(lambda x: removeHTML(x))"
   ]
  },
  {
   "cell_type": "code",
   "execution_count": 71,
   "id": "f7e4a807-d008-4f36-8ea4-2c7f279bf7c8",
   "metadata": {},
   "outputs": [
    {
     "name": "stderr",
     "output_type": "stream",
     "text": [
      "C:\\Users\\yanni\\AppData\\Local\\Temp\\ipykernel_3876\\1801346838.py:2: MarkupResemblesLocatorWarning: The input looks more like a filename than markup. You may want to open this file and pass the filehandle into Beautiful Soup.\n",
      "  text_has_html = df_text.apply(lambda x: bool(BeautifulSoup(x, \"html.parser\").find()))\n"
     ]
    },
    {
     "data": {
      "text/plain": [
       "0"
      ]
     },
     "execution_count": 71,
     "metadata": {},
     "output_type": "execute_result"
    }
   ],
   "source": [
    "# Check\n",
    "text_has_html = df_text.apply(lambda x: bool(BeautifulSoup(x, \"html.parser\").find()))\n",
    "text_has_html.sum()"
   ]
  },
  {
   "cell_type": "markdown",
   "id": "e593d539-1a2a-48c8-ba5c-d61f7d75145b",
   "metadata": {},
   "source": [
    "## Remove extra whitespaces"
   ]
  },
  {
   "cell_type": "code",
   "execution_count": 73,
   "id": "1165c478-e8e8-483c-b185-9c6b28bc080a",
   "metadata": {},
   "outputs": [
    {
     "name": "stderr",
     "output_type": "stream",
     "text": [
      "<>:2: SyntaxWarning: invalid escape sequence '\\s'\n",
      "<>:2: SyntaxWarning: invalid escape sequence '\\s'\n",
      "C:\\Users\\yanni\\AppData\\Local\\Temp\\ipykernel_3876\\1438173248.py:2: SyntaxWarning: invalid escape sequence '\\s'\n",
      "  regex = re.compile('\\s+')\n"
     ]
    }
   ],
   "source": [
    "def removeExtraWhitespaces(text):\n",
    "    regex = re.compile('\\s+')\n",
    "    text = regex.sub(' ', text)\n",
    "    return text"
   ]
  },
  {
   "cell_type": "code",
   "execution_count": 74,
   "id": "0c0721dd-dd87-487a-b824-1fdbb617954b",
   "metadata": {},
   "outputs": [],
   "source": [
    "df_title = df_title.apply(lambda x: removeExtraWhitespaces(x))\n",
    "df_text = df_text.apply(lambda x:  removeExtraWhitespaces(x))"
   ]
  },
  {
   "cell_type": "markdown",
   "id": "a8f1647f-55f7-4826-b44f-d0645b6d12b8",
   "metadata": {},
   "source": [
    "# 4. Tokenize"
   ]
  },
  {
   "cell_type": "code",
   "execution_count": 76,
   "id": "468f805e-950b-4dad-93e0-3156d3435552",
   "metadata": {},
   "outputs": [],
   "source": [
    "def tokenize(text):\n",
    "    pattern = r\"[a-zA-Z]+(?:[-'][a-zA-Z]+)?\"\n",
    "    tokenizer = nltk.RegexpTokenizer(pattern) \n",
    "    tokenized_text = tokenizer.tokenize(text)\n",
    "    return tokenized_text"
   ]
  },
  {
   "cell_type": "code",
   "execution_count": 77,
   "id": "4fec585e-a031-4d4f-86f7-28232b8191d4",
   "metadata": {},
   "outputs": [],
   "source": [
    "token_df_title = df_title.apply(lambda x: tokenize(x))\n",
    "token_df_text = df_text.apply(lambda x: tokenize(x))"
   ]
  },
  {
   "cell_type": "code",
   "execution_count": 78,
   "id": "a5011925-41eb-4551-9792-0b5d3a334ad3",
   "metadata": {},
   "outputs": [
    {
     "data": {
      "text/plain": [
       "21292    [berlin, reuters, a, year-old, german, man, ad...\n",
       "23231    [white, house, secretary, sean, spicer, decide...\n",
       "32567    [watch, his, appearance, on, tucker, carlson, ...\n",
       "41555    [roughly, of, states, use, some, form, of, ele...\n",
       "44336    [tune, in, to, the, alternate, current, radio,...\n",
       "                               ...                        \n",
       "39008    [with, all, of, the, stories, of, tv, hosts, i...\n",
       "12538    [geneva, reuters, warring, sides, must, let, m...\n",
       "3505     [london, reuters, reports, that, donald, trump...\n",
       "18396    [manchester, england, reuters, prime, minister...\n",
       "23216    [donald, trump, s, undeserved, time, in, the, ...\n",
       "Name: text, Length: 44058, dtype: object"
      ]
     },
     "execution_count": 78,
     "metadata": {},
     "output_type": "execute_result"
    }
   ],
   "source": [
    "token_df_text"
   ]
  },
  {
   "cell_type": "code",
   "execution_count": 79,
   "id": "71e5f3b9-e6c6-4f96-94da-c4e5dfc6222e",
   "metadata": {},
   "outputs": [
    {
     "data": {
      "text/plain": [
       "21292    [german, admits, selling, gun, to, munich, att...\n",
       "23231    [chelsea, clinton, has, a, little, advice, for...\n",
       "32567    [liberal, lansing, mi, mayor, forced, to, remo...\n",
       "41555    [stealing, the, election, shocking, cbs, repor...\n",
       "44336      [boiler, room, war, sells, but, who, s, buying]\n",
       "                               ...                        \n",
       "39008    [trump, demands, investigation, into, accident...\n",
       "12538    [more, than, million, yemenis, a, step, away, ...\n",
       "3505     [talk, of, trump, pullout, alarms, backers, of...\n",
       "18396    [trying, to, reset, agenda, uk's, may, sets, o...\n",
       "23216    [trump, administration, in, free, fall, after,...\n",
       "Name: title, Length: 44058, dtype: object"
      ]
     },
     "execution_count": 79,
     "metadata": {},
     "output_type": "execute_result"
    }
   ],
   "source": [
    "token_df_title"
   ]
  },
  {
   "cell_type": "markdown",
   "id": "93f0d90c-2b85-4c82-9375-3421bb95ab58",
   "metadata": {},
   "source": [
    "## Remove single char tokens"
   ]
  },
  {
   "cell_type": "code",
   "execution_count": 81,
   "id": "7006b279-0b3a-4f44-8fb0-c4b0278486d4",
   "metadata": {},
   "outputs": [],
   "source": [
    "def removeSingleCharTokens(text):\n",
    "    for i in text:\n",
    "        if len(i) == 1:\n",
    "            text.remove(i)\n",
    "    \n",
    "    return text"
   ]
  },
  {
   "cell_type": "code",
   "execution_count": 82,
   "id": "f1252da7-fd6a-46ce-9480-adaeee496d6b",
   "metadata": {},
   "outputs": [],
   "source": [
    "token_df_title = token_df_title.apply(lambda x: removeSingleCharTokens(x))\n",
    "token_df_text = token_df_text.apply(lambda x: removeSingleCharTokens(x))"
   ]
  },
  {
   "cell_type": "code",
   "execution_count": 83,
   "id": "8af87c3f-1281-406d-bb76-8854d4a9c415",
   "metadata": {},
   "outputs": [
    {
     "data": {
      "text/plain": [
       "21292    [german, admits, selling, gun, to, munich, att...\n",
       "23231    [chelsea, clinton, has, little, advice, for, s...\n",
       "32567    [liberal, lansing, mi, mayor, forced, to, remo...\n",
       "41555    [stealing, the, election, shocking, cbs, repor...\n",
       "44336         [boiler, room, war, sells, but, who, buying]\n",
       "                               ...                        \n",
       "39008    [trump, demands, investigation, into, accident...\n",
       "12538    [more, than, million, yemenis, step, away, fro...\n",
       "3505     [talk, of, trump, pullout, alarms, backers, of...\n",
       "18396    [trying, to, reset, agenda, uk's, may, sets, o...\n",
       "23216    [trump, administration, in, free, fall, after,...\n",
       "Name: title, Length: 44058, dtype: object"
      ]
     },
     "execution_count": 83,
     "metadata": {},
     "output_type": "execute_result"
    }
   ],
   "source": [
    "token_df_title"
   ]
  },
  {
   "cell_type": "markdown",
   "id": "6521a392-4f78-47c3-943b-b6071b4d89aa",
   "metadata": {},
   "source": [
    "## Remove stop words tokens"
   ]
  },
  {
   "cell_type": "code",
   "execution_count": 85,
   "id": "14062de4-ab89-483a-8000-95980f3e93c0",
   "metadata": {},
   "outputs": [],
   "source": [
    "# Create stop words list\n",
    "stop_words = []\n",
    "\n",
    "with open(\"stopwords-en.txt\", \"r\", encoding=\"utf-8\") as file:\n",
    "    for word in file:\n",
    "        # Remove /n from the word\n",
    "        word = word.strip()\n",
    "        \n",
    "        stop_words.append(word)"
   ]
  },
  {
   "cell_type": "code",
   "execution_count": 87,
   "id": "461000a5-416b-49f8-81c0-b7883dd7c87e",
   "metadata": {},
   "outputs": [
    {
     "data": {
      "text/plain": [
       "[\"'ll\", \"'tis\", \"'twas\", \"'ve\", '10', '39', 'a', \"a's\", 'able', 'ableabout']"
      ]
     },
     "execution_count": 87,
     "metadata": {},
     "output_type": "execute_result"
    }
   ],
   "source": [
    "stop_words[:10]"
   ]
  },
  {
   "cell_type": "code",
   "execution_count": 97,
   "id": "3d171b13-2dd5-4029-8679-baa1ed0c1a96",
   "metadata": {},
   "outputs": [
    {
     "data": {
      "text/plain": [
       "1298"
      ]
     },
     "execution_count": 97,
     "metadata": {},
     "output_type": "execute_result"
    }
   ],
   "source": [
    "len(stop_words)"
   ]
  },
  {
   "cell_type": "code",
   "execution_count": 99,
   "id": "6cbc0b79-4f92-4301-b14c-b6820c8239e7",
   "metadata": {},
   "outputs": [],
   "source": [
    "def removeStopWords(text):\n",
    "    \n",
    "    text = [token for token in text if token not in stop_words]\n",
    "    \n",
    "    return text"
   ]
  },
  {
   "cell_type": "code",
   "execution_count": 101,
   "id": "0e25dcc7-9159-4527-8a7e-f296f06255f7",
   "metadata": {},
   "outputs": [],
   "source": [
    "token_df_title = token_df_title.apply(lambda x: removeStopWords(x))\n",
    "token_df_text = token_df_text.apply(lambda x: removeStopWords(x))"
   ]
  },
  {
   "cell_type": "code",
   "execution_count": 102,
   "id": "96aaf323-da48-4db8-bd4c-6302a2d04dfb",
   "metadata": {},
   "outputs": [
    {
     "data": {
      "text/plain": [
       "21292    [german, admits, selling, gun, munich, attack,...\n",
       "23231    [chelsea, clinton, advice, sean, spicer, defen...\n",
       "32567    [liberal, lansing, mi, mayor, forced, remove, ...\n",
       "41555    [stealing, election, shocking, cbs, report, ha...\n",
       "44336                         [boiler, war, sells, buying]\n",
       "                               ...                        \n",
       "39008    [trump, demands, investigation, accidental, de...\n",
       "12538                              [yemenis, step, famine]\n",
       "3505     [talk, trump, pullout, alarms, backers, paris,...\n",
       "18396    [reset, agenda, uk's, sets, tackle, social, in...\n",
       "23216    [trump, administration, fall, concrete, eviden...\n",
       "Name: title, Length: 44058, dtype: object"
      ]
     },
     "execution_count": 102,
     "metadata": {},
     "output_type": "execute_result"
    }
   ],
   "source": [
    "token_df_title"
   ]
  },
  {
   "cell_type": "markdown",
   "id": "10879d22-db00-48b9-a8ac-3a7ac7bed181",
   "metadata": {},
   "source": [
    "# 5. Create cleaned excel"
   ]
  },
  {
   "cell_type": "code",
   "execution_count": 104,
   "id": "8f9dcb85-5bac-4c8c-9a46-498a239cdb45",
   "metadata": {},
   "outputs": [],
   "source": [
    "# Return data back to its db\n",
    "df['title'] = token_df_title\n",
    "df['text'] = token_df_text"
   ]
  },
  {
   "cell_type": "code",
   "execution_count": 105,
   "id": "ef4f7769-a9bd-43e5-b774-9edbcde65845",
   "metadata": {},
   "outputs": [],
   "source": [
    "df['title'] = df['title'].apply(lambda x: ' '.join(x))\n",
    "df['text'] = df['text'].apply(lambda x: ' '.join(x))"
   ]
  },
  {
   "cell_type": "code",
   "execution_count": 106,
   "id": "4c9b178a-f07f-4651-9f2a-165ac5dbfe5c",
   "metadata": {},
   "outputs": [
    {
     "data": {
      "text/html": [
       "<div>\n",
       "<style scoped>\n",
       "    .dataframe tbody tr th:only-of-type {\n",
       "        vertical-align: middle;\n",
       "    }\n",
       "\n",
       "    .dataframe tbody tr th {\n",
       "        vertical-align: top;\n",
       "    }\n",
       "\n",
       "    .dataframe thead th {\n",
       "        text-align: right;\n",
       "    }\n",
       "</style>\n",
       "<table border=\"1\" class=\"dataframe\">\n",
       "  <thead>\n",
       "    <tr style=\"text-align: right;\">\n",
       "      <th></th>\n",
       "      <th>title</th>\n",
       "      <th>text</th>\n",
       "      <th>subject</th>\n",
       "      <th>date</th>\n",
       "      <th>label</th>\n",
       "    </tr>\n",
       "  </thead>\n",
       "  <tbody>\n",
       "    <tr>\n",
       "      <th>21292</th>\n",
       "      <td>german admits selling gun munich attack shooter</td>\n",
       "      <td>berlin reuters year-old german admitted court ...</td>\n",
       "      <td>worldnews</td>\n",
       "      <td>august 28, 2017</td>\n",
       "      <td>1</td>\n",
       "    </tr>\n",
       "    <tr>\n",
       "      <th>23231</th>\n",
       "      <td>chelsea clinton advice sean spicer defends hitler</td>\n",
       "      <td>white house secretary sean spicer decided rewr...</td>\n",
       "      <td>news</td>\n",
       "      <td>april 11, 2017</td>\n",
       "      <td>0</td>\n",
       "    </tr>\n",
       "    <tr>\n",
       "      <th>32567</th>\n",
       "      <td>liberal lansing mi mayor forced remove sanctua...</td>\n",
       "      <td>watch appearance tucker carlson announced lans...</td>\n",
       "      <td>politics</td>\n",
       "      <td>apr 13, 2017</td>\n",
       "      <td>0</td>\n",
       "    </tr>\n",
       "    <tr>\n",
       "      <th>41555</th>\n",
       "      <td>stealing election shocking cbs report hack vot...</td>\n",
       "      <td>roughly form electronic voting machine ease ma...</td>\n",
       "      <td>left-news</td>\n",
       "      <td>aug 11, 2016</td>\n",
       "      <td>0</td>\n",
       "    </tr>\n",
       "    <tr>\n",
       "      <th>44336</th>\n",
       "      <td>boiler war sells buying</td>\n",
       "      <td>tune alternate current radio network acr live ...</td>\n",
       "      <td>middle-east</td>\n",
       "      <td>april 7, 2017</td>\n",
       "      <td>0</td>\n",
       "    </tr>\n",
       "    <tr>\n",
       "      <th>...</th>\n",
       "      <td>...</td>\n",
       "      <td>...</td>\n",
       "      <td>...</td>\n",
       "      <td>...</td>\n",
       "      <td>...</td>\n",
       "    </tr>\n",
       "    <tr>\n",
       "      <th>39008</th>\n",
       "      <td>trump demands investigation accidental death y...</td>\n",
       "      <td>stories hosts involved sexual misconduct myste...</td>\n",
       "      <td>left-news</td>\n",
       "      <td>nov 29, 2017</td>\n",
       "      <td>0</td>\n",
       "    </tr>\n",
       "    <tr>\n",
       "      <th>12538</th>\n",
       "      <td>yemenis step famine</td>\n",
       "      <td>geneva reuters warring aid people step famine ...</td>\n",
       "      <td>worldnews</td>\n",
       "      <td>december 11, 2017</td>\n",
       "      <td>1</td>\n",
       "    </tr>\n",
       "    <tr>\n",
       "      <th>3505</th>\n",
       "      <td>talk trump pullout alarms backers paris climat...</td>\n",
       "      <td>london reuters reports donald trump quit paris...</td>\n",
       "      <td>politicsnews</td>\n",
       "      <td>may 31, 2017</td>\n",
       "      <td>1</td>\n",
       "    </tr>\n",
       "    <tr>\n",
       "      <th>18396</th>\n",
       "      <td>reset agenda uk's sets tackle social injustice</td>\n",
       "      <td>manchester england reuters prime minister ther...</td>\n",
       "      <td>worldnews</td>\n",
       "      <td>october 2, 2017</td>\n",
       "      <td>1</td>\n",
       "    </tr>\n",
       "    <tr>\n",
       "      <th>23216</th>\n",
       "      <td>trump administration fall concrete evidence li...</td>\n",
       "      <td>donald trump undeserved time white house glori...</td>\n",
       "      <td>news</td>\n",
       "      <td>april 13, 2017</td>\n",
       "      <td>0</td>\n",
       "    </tr>\n",
       "  </tbody>\n",
       "</table>\n",
       "<p>44058 rows × 5 columns</p>\n",
       "</div>"
      ],
      "text/plain": [
       "                                                   title  \\\n",
       "21292    german admits selling gun munich attack shooter   \n",
       "23231  chelsea clinton advice sean spicer defends hitler   \n",
       "32567  liberal lansing mi mayor forced remove sanctua...   \n",
       "41555  stealing election shocking cbs report hack vot...   \n",
       "44336                            boiler war sells buying   \n",
       "...                                                  ...   \n",
       "39008  trump demands investigation accidental death y...   \n",
       "12538                                yemenis step famine   \n",
       "3505   talk trump pullout alarms backers paris climat...   \n",
       "18396     reset agenda uk's sets tackle social injustice   \n",
       "23216  trump administration fall concrete evidence li...   \n",
       "\n",
       "                                                    text       subject  \\\n",
       "21292  berlin reuters year-old german admitted court ...     worldnews   \n",
       "23231  white house secretary sean spicer decided rewr...          news   \n",
       "32567  watch appearance tucker carlson announced lans...      politics   \n",
       "41555  roughly form electronic voting machine ease ma...     left-news   \n",
       "44336  tune alternate current radio network acr live ...   middle-east   \n",
       "...                                                  ...           ...   \n",
       "39008  stories hosts involved sexual misconduct myste...     left-news   \n",
       "12538  geneva reuters warring aid people step famine ...     worldnews   \n",
       "3505   london reuters reports donald trump quit paris...  politicsnews   \n",
       "18396  manchester england reuters prime minister ther...     worldnews   \n",
       "23216  donald trump undeserved time white house glori...          news   \n",
       "\n",
       "                     date  label  \n",
       "21292    august 28, 2017       1  \n",
       "23231      april 11, 2017      0  \n",
       "32567        apr 13, 2017      0  \n",
       "41555        aug 11, 2016      0  \n",
       "44336       april 7, 2017      0  \n",
       "...                   ...    ...  \n",
       "39008        nov 29, 2017      0  \n",
       "12538  december 11, 2017       1  \n",
       "3505        may 31, 2017       1  \n",
       "18396    october 2, 2017       1  \n",
       "23216      april 13, 2017      0  \n",
       "\n",
       "[44058 rows x 5 columns]"
      ]
     },
     "execution_count": 106,
     "metadata": {},
     "output_type": "execute_result"
    }
   ],
   "source": [
    "df"
   ]
  },
  {
   "cell_type": "code",
   "execution_count": 114,
   "id": "b72891c3-67bc-45a4-8b6e-99e46ca501d9",
   "metadata": {},
   "outputs": [],
   "source": [
    "df.to_excel(\"cleaned_ISOT_data.xlsx\")"
   ]
  },
  {
   "cell_type": "code",
   "execution_count": null,
   "id": "e7d0b23c-310b-4c22-b89b-52b4145bd6e2",
   "metadata": {},
   "outputs": [],
   "source": []
  }
 ],
 "metadata": {
  "kernelspec": {
   "display_name": "Python 3 (ipykernel)",
   "language": "python",
   "name": "python3"
  },
  "language_info": {
   "codemirror_mode": {
    "name": "ipython",
    "version": 3
   },
   "file_extension": ".py",
   "mimetype": "text/x-python",
   "name": "python",
   "nbconvert_exporter": "python",
   "pygments_lexer": "ipython3",
   "version": "3.12.4"
  }
 },
 "nbformat": 4,
 "nbformat_minor": 5
}
